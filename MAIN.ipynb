{
 "cells": [
  {
   "cell_type": "markdown",
   "id": "9496f57f",
   "metadata": {},
   "source": [
    "# Dynamic optimization"
   ]
  },
  {
   "cell_type": "markdown",
   "id": "04040262",
   "metadata": {},
   "source": [
    "## Intro"
   ]
  },
  {
   "cell_type": "code",
   "execution_count": 2,
   "id": "5845f64e",
   "metadata": {},
   "outputs": [],
   "source": [
    "# TODO: flow chart"
   ]
  },
  {
   "cell_type": "markdown",
   "id": "d8b6d588",
   "metadata": {},
   "source": [
    "## Init"
   ]
  },
  {
   "cell_type": "code",
   "execution_count": 56,
   "id": "10b0edb6",
   "metadata": {},
   "outputs": [
    {
     "name": "stdout",
     "output_type": "stream",
     "text": [
      "init done\n"
     ]
    }
   ],
   "source": [
    "# imports\n",
    "import os #to access system folders\n",
    "import subprocess #to access ffmpeg in the system\n",
    "import numpy as np #easy vector operations\n",
    "from scipy.optimize import curve_fit #fittin of the curve\n",
    "import json #to handle json files\n",
    "import matplotlib.pyplot as pl #to display plots\n",
    "\n",
    "#constants\n",
    "PARAM_AVC = {\"crfs\": 52, \"starting_range\": [17,28], \"lib\": \"libx264\", \"container\": \"mp4\", \"add_param\": \"\"}\n",
    "PARAM_HEVC = {\"crfs\": 52, \"starting_range\": [22,33], \"lib\": \"libx265\", \"container\": \"mp4\", \"add_param\": \"\"}\n",
    "PARAM_VP9 = {\"crfs\": 64, \"starting_range\": [15,35], \"lib\": \"libvpx-vp9\", \"container\": \"webm\", \"add_param\": \"-b:v 0\"}\n",
    "\n",
    "#variables\n",
    "input_type = \"yuv\" #valules:\"yuv\", \"y4m\", \"seq\"\n",
    "codec = \"avc\" #values: \"avc\", \"hevc\", \"vp9\", \"av1\", \"vvc\"\n",
    "\n",
    "raw_width = 1920 #opz. only for yuv and seq\n",
    "raw_height = 1080 #opz. only for yuv and seq\n",
    "raw_fps = 29.97 #opz. only for yuv and seq\n",
    "\n",
    "source_name = \"testscene01\"\n",
    "source_path = \"test_vids/srcRAW_FullHD/\" + source_name + \".\" + input_type\n",
    "ref_path = \"test_vids/tempRAW_refs/\" #raw files for each shot\n",
    "dist_path = \"test_vids/temp_encoded/\" #encoded files for each shot\n",
    "#assessment files path\n",
    "tm_file = \"rd_results/template.json\"\n",
    "rd_file = \"rd_results/\" + source_name + \".json\"\n",
    "vmaf_logs = \"rd_results/vmaf_logs\"\n",
    "\n",
    "opt_found = True #flag: optimum has been found for the current shot\n",
    "current_point = 0 #the current optimum point\n",
    "new_point = 0 #new value to compare with current_point\n",
    "#TODO: compare with everything stored\n",
    "res_matrix = {\"crf\": None, \"bitrate\": None, \"vmaf\": None, \"psnr\": None} #all computed points, by row: crf, bitrate, vmaf, psnr\n",
    "\n",
    "flag_target = True #values True (quality) or False (bitrate)\n",
    "quality_metric = \"vmaf\" #values \"vmaf\", \"psnr\", \"ssim\", \"mssim\"\n",
    "#TODO implement more quality metrics\n",
    "target_bitrate = [12000000]\n",
    "target_quality = [96]\n",
    "\n",
    "print(\"init done\")"
   ]
  },
  {
   "cell_type": "markdown",
   "id": "c1949a36",
   "metadata": {},
   "source": [
    "## Input and shot change detection"
   ]
  },
  {
   "cell_type": "code",
   "execution_count": 57,
   "id": "29d0b151",
   "metadata": {},
   "outputs": [],
   "source": [
    "def init_res_matrix(x):\n",
    "    res_matrix[\"crf\"] = np.arange(0,x,1).tolist()\n",
    "    res_matrix[\"bitrate\"] = np.zeros(x).tolist()\n",
    "    res_matrix[\"vmaf\"] = np.zeros(x).tolist()\n",
    "    res_matrix[\"psnr\"] = np.zeros(x).tolist()"
   ]
  },
  {
   "cell_type": "code",
   "execution_count": 58,
   "id": "25b023a2",
   "metadata": {},
   "outputs": [
    {
     "name": "stdout",
     "output_type": "stream",
     "text": [
      "yuv input\n"
     ]
    }
   ],
   "source": [
    "struct_points = [] #structure of target points for json file\n",
    "struct_shots = [] #structure of shots for json file\n",
    "num_scenes = 3 #TODO: shot change detection\n",
    "\n",
    "#TODO: support different input raw files\n",
    "if input_type == \"yuv\":\n",
    "    print(\"yuv input\")\n",
    "elif input_type == \"y4m\":\n",
    "    print(\"y4m input\")\n",
    "else:\n",
    "    print(\"No such an input type\")\n",
    "    exit()\n",
    "    \n",
    "#init values based on the selected output codec\n",
    "if codec == \"avc\":\n",
    "    s_cod = PARAM_AVC\n",
    "    init_res_matrix(PARAM_AVC[\"crfs\"])\n",
    "elif codec == \"hevc\":\n",
    "    s_cod = PARAM_HEVC\n",
    "    init_res_matrix(PARAM_HEVC[\"crfs\"])\n",
    "elif codec == \"vp9\":\n",
    "    s_cod = PARAM_VP9\n",
    "    init_res_matrix(PARAM_VP9[\"crfs\"])\n",
    "else:\n",
    "    print(\"No such an codec\")\n",
    "    exit()\n",
    "\n",
    "min_range_crf = s_cod[\"starting_range\"][0]\n",
    "max_range_crf = s_cod[\"starting_range\"][1]\n",
    "    \n",
    "#if not os.path.isfile(rd_file):\n",
    "    #TODO: duplicate file and rename\n",
    "with open(tm_file, 'r') as f:\n",
    "    o_data = json.load(f)\n",
    "    \n",
    "    #add source name and results matrix\n",
    "    o_data[\"content\"] = source_name\n",
    "    o_data[\"versions\"][0][\"codec\"] = codec\n",
    "    o_data[\"versions\"][0][\"width\"] = raw_width\n",
    "    o_data[\"versions\"][0][\"height\"] = raw_height\n",
    "    o_data[\"versions\"][0][\"fps\"] = raw_fps\n",
    "    o_data[\"versions\"][0][\"shots\"][0][\"assessment\"] = res_matrix\n",
    "    \n",
    "    #add emplty target points\n",
    "    base_point = o_data[\"versions\"][0][\"shots\"][0][\"opt_points\"][0]\n",
    "    y = lambda x: target_quality if x else target_bitrate\n",
    "    for i in range(0, len(y(flag_target))):\n",
    "        base_point[\"target\"] = y(flag_target)[i]\n",
    "        struct_points.append(base_point.copy())\n",
    "    o_data[\"versions\"][0][\"shots\"][0][\"opt_points\"] = struct_points\n",
    "    \n",
    "    #add empty shots\n",
    "    base_shot = o_data[\"versions\"][0][\"shots\"][0]\n",
    "    for i in range(0, num_scenes):\n",
    "        base_shot[\"index\"] = i #assign index to shots in json file\n",
    "        struct_shots.append(base_shot.copy())\n",
    "    o_data[\"versions\"][0][\"shots\"] = struct_shots\n",
    "\n",
    "with open(rd_file, 'w') as w:\n",
    "    json.dump(o_data, w, separators=(',',': '))"
   ]
  },
  {
   "cell_type": "markdown",
   "id": "9cd13ccc",
   "metadata": {},
   "source": [
    "## Opt"
   ]
  },
  {
   "cell_type": "code",
   "execution_count": null,
   "id": "5d4351b4",
   "metadata": {},
   "outputs": [],
   "source": [
    "#functions\n",
    "#TODO: split code into functions\n",
    "\n",
    "def save_results(index, crf, bitrate, vmaf, psnr):\n",
    "    with open(rd_file, 'r') as f:\n",
    "        o_data = json.load(f)\n",
    "        o_data[\"versions\"][0][\"shots\"][index][\"assessment\"][\"crf\"] = crf\n",
    "        o_data[\"versions\"][0][\"shots\"][index][\"assessment\"][\"bitrate\"] = crf\n",
    "        o_data[\"versions\"][0][\"shots\"][index][\"assessment\"][\"vmaf\"] = crf\n",
    "        o_data[\"versions\"][0][\"shots\"][index][\"assessment\"][\"psnr\"] = crf\n",
    "    with open(rd_file, 'w') as w:\n",
    "        json.dump(o_data, w, separators=(',',': '))\n",
    "        print(\"values for -shot\" + str(index) + \" -crf\" + str(crf) + \" saved\")"
   ]
  },
  {
   "cell_type": "code",
   "execution_count": null,
   "id": "b6515097",
   "metadata": {},
   "outputs": [],
   "source": [
    "shot_index = 0\n",
    "point_index = 0\n",
    "\n",
    "for shot in sorted(os.listdir(ref_path)): #for each shot\n",
    "    raw_shot_path = ref_path + str(shot_index) + \".yuv\" #TODO add y4m\n",
    "    while !opt_found: #if no convergence\n",
    "        if point_index == 0: #if there are no points to compare\n",
    "            new_point.crf = max_range_crf #encode at the first crf\n",
    "        if point_index == 1: #if there is only one point to compare\n",
    "            new_point.crf = min_range_crf #encode at the second crf\n",
    "        \n",
    "        #encoding\n",
    "        out = dist_path + str(shot_index) + \"/\" + str(new_point.crf) + \"_\" + codec.upper() + \".\" + s_cod.container\n",
    "        enc = f\"ffmpeg -f rawvideo -video_size {raw_width}x{raw_height} \\\n",
    "            -r {raw_fps} -pixel_format yuv420p -i {raw_shot_path} -c:v {s_cod.lib} \\\n",
    "            -crf {new_point.crf} {s_cod.add_param} {out}\"\n",
    "        subprocess.call(enc, shell=True)\n",
    "        \n",
    "        #quality assessment\n",
    "        c_vmaf = f\"ffmpeg -f rawvideo -r {raw_fps} -video_size {raw_width}x{raw_height} -i {raw_shot_path} \\\n",
    "            -i {out} \\\n",
    "            -lavfi \\\"[0:v]setpts=PTS-STARTPTS[ref];\\\n",
    "                     [1:v]scale={raw_width}x{raw_height}:flags=bicubic, setpts=PTS-STARTPTS[dist];\\\n",
    "                     [dist][ref]libvmaf=feature=name=psnr:log_path={vmaf_logs}:log_fmt=json\\\" \\\n",
    "            -f null -\" #|name=float_ssim|name=float_ms_ssim to compute the other metrics\n",
    "        subprocess.call(c_vmaf, shell=True)\n",
    "        \n",
    "        with open(vmaf_logs, 'r') as r:\n",
    "            i_data = json.load(r)\n",
    "        vmaf = i_data[\"pooled_metrics\"][\"vmaf\"][\"mean\"]\n",
    "        #ssim = i_data[\"pooled_metrics\"][\"float_ssim\"][\"mean\"]\n",
    "        #ms_ssim = i_data[\"pooled_metrics\"][\"float_ms_ssim\"][\"mean\"]\n",
    "        psnr = (6*i_data[\"pooled_metrics\"][\"psnr_y\"][\"mean\"] + i_data[\"pooled_metrics\"][\"psnr_cb\"][\"mean\"] + i_data[\"pooled_metrics\"][\"psnr_cr\"][\"mean\"])/8\n",
    "        info = \"ffprobe -v error -select_streams v:0 -show_entries format:stream -print_format json \" + path_dist\n",
    "        cout = subprocess.run(info.split(), stdout=subprocess.PIPE, stderr=subprocess.STDOUT).stdout\n",
    "        dict = json.loads(cout)\n",
    "        bitrate = int(dict['format']['bit_rate'])\n",
    "    \n",
    "        save_results(shot_index, new_point.crf, bitrate, vmaf, psnr)\n",
    "        \n",
    "        if flag_target:\n",
    "            #TODO\n",
    "        else:\n",
    "            #TODO target bitrate\n",
    "            \n",
    "        #TODO compute new_point\n",
    "        point_index += 1\n",
    "        \n",
    "    shot_index += 1\n",
    "    point_index = 0"
   ]
  },
  {
   "cell_type": "markdown",
   "id": "c40772a7",
   "metadata": {},
   "source": [
    "## Create opt encod"
   ]
  },
  {
   "cell_type": "code",
   "execution_count": null,
   "id": "8171bda3",
   "metadata": {},
   "outputs": [],
   "source": []
  },
  {
   "cell_type": "markdown",
   "id": "9c1646fc",
   "metadata": {},
   "source": [
    "## 1. Curve fitting\n",
    "Given the RQ points discover the logarithmic function that describes their trend and find the best crf for a specific target of bitrate or quality."
   ]
  },
  {
   "cell_type": "code",
   "execution_count": 3,
   "id": "72e2bf06",
   "metadata": {},
   "outputs": [
    {
     "name": "stdout",
     "output_type": "stream",
     "text": [
      "32\n"
     ]
    },
    {
     "name": "stderr",
     "output_type": "stream",
     "text": [
      "/home/ubuntu/video_dynopt/env/lib/python3.8/site-packages/scipy/optimize/_minpack_py.py:833: OptimizeWarning: Covariance of the parameters could not be estimated\n",
      "  warnings.warn('Covariance of the parameters could not be estimated',\n"
     ]
    }
   ],
   "source": [
    "import json\n",
    "import numpy as np\n",
    "from scipy.optimize import curve_fit\n",
    "\n",
    "def find_closest(arr, val):\n",
    "    idx = (np.abs(arr - val)).argmin()\n",
    "    return idx\n",
    "def log_fit(x, a, b, c):\n",
    "    return a * np.log(x + b) + c\n",
    "\n",
    "source = \"forest\"\n",
    "filepath = \"rd_results/rd_\" + source + \".json\"\n",
    "bitrates = []\n",
    "vmafs = []\n",
    "\n",
    "with open(filepath, 'r') as r:\n",
    "    i_data = json.load(r)\n",
    "for item in i_data:\n",
    "    if(item[\"codec\"] == \"vp9\"):\n",
    "        bitrates.append(item[\"bitrate\"])\n",
    "        vmafs.append(item[\"vmaf\"])\n",
    "num_samples = (max(bitrates) - min(bitrates)) / 26\n",
    "\n",
    "#LOG CURVE FITTING\n",
    "popt, pcov = curve_fit(log_fit, bitrates, vmafs, maxfev=2000)\n",
    "xnew = np.arange(min(bitrates), max(bitrates)+num_samples, num_samples)\n",
    "interp_vmaf = log_fit(xnew, *popt)\n",
    "\n",
    "#SELECT TARGET\n",
    "target_bitrate = 12000000\n",
    "target_vmaf = 98\n",
    "opt_dist = True\n",
    "if(opt_dist):\n",
    "    crf = find_closest(interp_vmaf, target_vmaf)\n",
    "else:\n",
    "    crf = find_closest(xnew, target_bitrate)\n",
    "print(crf + 15)\n",
    "    "
   ]
  },
  {
   "cell_type": "code",
   "execution_count": 4,
   "id": "a4ed1a55",
   "metadata": {},
   "outputs": [
    {
     "data": {
      "image/png": "[encoded data removed]",
      "text/plain": [
       "<Figure size 432x288 with 1 Axes>"
      ]
     },
     "metadata": {
      "needs_background": "light"
     },
     "output_type": "display_data"
    }
   ],
   "source": [
    "import matplotlib.pyplot as pl\n",
    "\n",
    "pl.plot(bitrates, vmafs, 'bo')\n",
    "pl.plot(xnew, interp_vmaf, 'r')\n",
    "pl.grid(True)\n",
    "\n",
    "#TODO: covariance testing, MSE assessment"
   ]
  },
  {
   "cell_type": "markdown",
   "id": "c38c98e0",
   "metadata": {},
   "source": [
    "The same but with RD:"
   ]
  },
  {
   "cell_type": "code",
   "execution_count": 56,
   "id": "54c818ef",
   "metadata": {},
   "outputs": [
    {
     "name": "stdout",
     "output_type": "stream",
     "text": [
      "22\n"
     ]
    }
   ],
   "source": [
    "import json\n",
    "import numpy as np\n",
    "from scipy.optimize import curve_fit\n",
    "\n",
    "def find_closest(arr, val):\n",
    "    idx = (np.abs(arr - val)).argmin()\n",
    "    return idx\n",
    "\n",
    "def log_fit(x, a, b, c): #anche polinomio 2 grado\n",
    "    return a * np.log(x + b) + c      \n",
    "\n",
    "source = \"forest\"\n",
    "filepath = \"rd_results/rd_\" + source + \".json\"\n",
    "rates = []\n",
    "dists = []\n",
    "\n",
    "with open(filepath, 'r') as r:\n",
    "    i_data = json.load(r)\n",
    "for item in i_data:\n",
    "    if(item[\"codec\"] == \"hevc\"):\n",
    "        rates.append(item[\"bitrate\"])\n",
    "        dists.append(100 - item[\"vmaf\"])\n",
    "num_samples = (max(rates) - min(rates)) / 25 #to change\n",
    "\n",
    "target_rate = 12000000\n",
    "target_dist = 100 - 80\n",
    "opt_dist = True\n",
    "\n",
    "#LOG CURVE FITTING\n",
    "popt, pcov = curve_fit(log_fit, rates, dists, maxfev=1000)\n",
    "xrate = np.arange(min(rates), max(rates) + num_samples, num_samples)\n",
    "ydist = np.asarray(log_fit(xrate, *popt))\n",
    "if(opt_dist):\n",
    "    crf = find_closest(ydist, target_dist)\n",
    "else:\n",
    "    crf = find_closest(xrate, target_rate)\n",
    "print(crf + 15) #to change"
   ]
  },
  {
   "cell_type": "code",
   "execution_count": 57,
   "id": "7ea11e6b",
   "metadata": {
    "scrolled": true
   },
   "outputs": [
    {
     "data": {
      "image/png": "[encoded data removed]",
      "text/plain": [
       "<Figure size 432x288 with 1 Axes>"
      ]
     },
     "metadata": {
      "needs_background": "light"
     },
     "output_type": "display_data"
    }
   ],
   "source": [
    "import matplotlib.pyplot as pl\n",
    "\n",
    "pl.plot(rates, dists, 'bo')\n",
    "pl.plot(xrate, ydist, 'r')\n",
    "pl.grid(True)"
   ]
  },
  {
   "cell_type": "code",
   "execution_count": 61,
   "id": "d84ab202",
   "metadata": {},
   "outputs": [
    {
     "name": "stdout",
     "output_type": "stream",
     "text": [
      "22\n"
     ]
    }
   ],
   "source": [
    "#NORMALIZATION\n",
    "rates = np.asarray(rates)\n",
    "dists = np.asarray(dists)\n",
    "nx = (xrate - min(xrate))/(max(xrate) - min(xrate))\n",
    "ny = (ydist - min(ydist))/(max(ydist) - min(ydist))\n",
    "#npopt, npcov = curve_fit(log_fit, nx, ny, maxfev=1000)\n",
    "#num_samples = 1 / 25 #to change\n",
    "#nxrate = np.arange(min(nx), max(nx) + num_samples, num_samples)\n",
    "#nydist = np.asarray(log_fit(nxrate, *popt))\n",
    "ncrf = np.argmin(np.sqrt(np.add(nx**2, ny**2))) \n",
    "print(ncrf + 15)"
   ]
  },
  {
   "cell_type": "code",
   "execution_count": 64,
   "id": "59fdf1f9",
   "metadata": {},
   "outputs": [
    {
     "data": {
      "image/png": "[encoded data removed]",
      "text/plain": [
       "<Figure size 432x288 with 1 Axes>"
      ]
     },
     "metadata": {
      "needs_background": "light"
     },
     "output_type": "display_data"
    }
   ],
   "source": [
    "import matplotlib.pyplot as pl\n",
    "\n",
    "x1 = nx[ncrf]\n",
    "y1 = ny[ncrf]\n",
    "pl.plot(x1, y1, 'go')\n",
    "pl.plot(nx, ny, 'r')\n",
    "pl.grid(True)"
   ]
  },
  {
   "cell_type": "code",
   "execution_count": 79,
   "id": "cfc973bb",
   "metadata": {},
   "outputs": [
    {
     "data": {
      "image/png": "[encoded data removed]",
      "text/plain": [
       "<Figure size 432x288 with 1 Axes>"
      ]
     },
     "metadata": {
      "needs_background": "light"
     },
     "output_type": "display_data"
    }
   ],
   "source": [
    "import matplotlib.pyplot as pl\n",
    "\n",
    "def slope(x):\n",
    "    return popt[0] / (x + popt[1])\n",
    "def line(x, x1, y1):\n",
    "    return slope(x1)*(x - x1) + y1\n",
    "def show_tangent(x1,y1):\n",
    "    # Define x data range for tangent line\n",
    "    xrange = np.linspace(x1-50000000, x1+50000000, 2)\n",
    "    pl.plot(xrange, line(xrange, x1, y1), 'C1--', linewidth = 2)\n",
    "\n",
    "x1 = xrate[crf]\n",
    "y1 = ydist[crf]\n",
    "\n",
    "pl.plot(x1, y1, 'go')\n",
    "pl.plot(xrate, ydist, 'r')\n",
    "show_tangent(x1,y1)\n",
    "pl.grid(True)\n",
    "\n",
    "#TODO: linear inverse testing"
   ]
  },
  {
   "cell_type": "markdown",
   "id": "774aea9e",
   "metadata": {},
   "source": [
    "## 2. Search\n",
    "- Encode the first video at a fixed crf\n",
    "- Encode two more versions with a +- delta of crf\n",
    "- Compute VMAF quality metrics\n",
    "- From RQ to RD points\n",
    "- Which one of these three points is closer to the origin?\n",
    "    - if it's the one in the middle reduce delta and repeat\n",
    "    - if it's one of the outer, encode just one another video, with the same delta, in that direction\n",
    "- Repeat until no more discrete crfs in between"
   ]
  },
  {
   "cell_type": "code",
   "execution_count": null,
   "id": "1c7dee1d",
   "metadata": {},
   "outputs": [],
   "source": []
  }
 ],
 "metadata": {
  "kernelspec": {
   "display_name": "Python 3 (ipykernel)",
   "language": "python",
   "name": "python3"
  },
  "language_info": {
   "codemirror_mode": {
    "name": "ipython",
    "version": 3
   },
   "file_extension": ".py",
   "mimetype": "text/x-python",
   "name": "python",
   "nbconvert_exporter": "python",
   "pygments_lexer": "ipython3",
   "version": "3.8.10"
  }
 },
 "nbformat": 4,
 "nbformat_minor": 5
}
