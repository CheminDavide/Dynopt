{
 "cells": [
  {
   "cell_type": "markdown",
   "id": "9496f57f",
   "metadata": {},
   "source": [
    "# this notebook is just for testing"
   ]
  },
  {
   "cell_type": "code",
   "execution_count": 1,
   "id": "06157ea0",
   "metadata": {},
   "outputs": [
    {
     "name": "stdout",
     "output_type": "stream",
     "text": [
      "3.8.10\n"
     ]
    }
   ],
   "source": [
    "from platform import python_version\n",
    "print(python_version())"
   ]
  },
  {
   "cell_type": "code",
   "execution_count": 91,
   "id": "d92d1881",
   "metadata": {},
   "outputs": [
    {
     "name": "stdout",
     "output_type": "stream",
     "text": [
      "{\r\n",
      "    \"programs\": [\r\n",
      "\r\n",
      "    ],\r\n",
      "    \"streams\": [\r\n",
      "        {\r\n",
      "            \"index\": 0,\r\n",
      "            \"codec_name\": \"h264\",\r\n",
      "            \"codec_long_name\": \"H.264 / AVC / MPEG-4 AVC / MPEG-4 part 10\",\r\n",
      "            \"profile\": \"High\",\r\n",
      "            \"codec_type\": \"video\",\r\n",
      "            \"codec_tag_string\": \"avc1\",\r\n",
      "            \"codec_tag\": \"0x31637661\",\r\n",
      "            \"width\": 480,\r\n",
      "            \"height\": 270,\r\n",
      "            \"coded_width\": 480,\r\n",
      "            \"coded_height\": 270,\r\n",
      "            \"closed_captions\": 0,\r\n",
      "            \"film_grain\": 0,\r\n",
      "            \"has_b_frames\": 2,\r\n",
      "            \"pix_fmt\": \"yuv420p\",\r\n",
      "            \"level\": 21,\r\n",
      "            \"chroma_location\": \"left\",\r\n",
      "            \"field_order\": \"progressive\",\r\n",
      "            \"refs\": 1,\r\n",
      "            \"is_avc\": \"true\",\r\n",
      "            \"nal_length_size\": \"4\",\r\n",
      "            \"id\": \"0x1\",\r\n",
      "            \"r_frame_rate\": \"2997/100\",\r\n",
      "            \"avg_frame_rate\": \"94905/3167\",\r\n",
      "            \"time_base\": \"1/11988\",\r\n",
      "            \"start_pts\": 0,\r\n",
      "            \"start_time\": \"0.000000\",\r\n",
      "            \"duration_ts\": 228024,\r\n",
      "            \"duration\": \"19.021021\",\r\n",
      "            \"bit_rate\": \"490342\",\r\n",
      "            \"bits_per_raw_sample\": \"8\",\r\n",
      "            \"nb_frames\": \"570\",\r\n",
      "            \"extradata_size\": 44,\r\n",
      "            \"disposition\": {\r\n",
      "                \"default\": 1,\r\n",
      "                \"dub\": 0,\r\n",
      "                \"original\": 0,\r\n",
      "                \"comment\": 0,\r\n",
      "                \"lyrics\": 0,\r\n",
      "                \"karaoke\": 0,\r\n",
      "                \"forced\": 0,\r\n",
      "                \"hearing_impaired\": 0,\r\n",
      "                \"visual_impaired\": 0,\r\n",
      "                \"clean_effects\": 0,\r\n",
      "                \"attached_pic\": 0,\r\n",
      "                \"timed_thumbnails\": 0,\r\n",
      "                \"captions\": 0,\r\n",
      "                \"descriptions\": 0,\r\n",
      "                \"metadata\": 0,\r\n",
      "                \"dependent\": 0,\r\n",
      "                \"still_image\": 0\r\n",
      "            },\r\n",
      "            \"tags\": {\r\n",
      "                \"language\": \"und\",\r\n",
      "                \"handler_name\": \"VideoHandler\",\r\n",
      "                \"vendor_id\": \"[0][0][0][0]\"\r\n",
      "            }\r\n",
      "        }\r\n",
      "    ],\r\n",
      "    \"format\": {\r\n",
      "        \"filename\": \"test_vids/OPT_vids/rush_fiel_rate500000lg_AVC.mp4\",\r\n",
      "        \"nb_streams\": 1,\r\n",
      "        \"nb_programs\": 0,\r\n",
      "        \"format_name\": \"mov,mp4,m4a,3gp,3g2,mj2\",\r\n",
      "        \"format_long_name\": \"QuickTime / MOV\",\r\n",
      "        \"start_time\": \"0.000000\",\r\n",
      "        \"duration\": \"19.022000\",\r\n",
      "        \"size\": \"1171133\",\r\n",
      "        \"bit_rate\": \"492538\",\r\n",
      "        \"probe_score\": 100,\r\n",
      "        \"tags\": {\r\n",
      "            \"major_brand\": \"isom\",\r\n",
      "            \"minor_version\": \"512\",\r\n",
      "            \"compatible_brands\": \"isomiso2avc1mp41\",\r\n",
      "            \"encoder\": \"Lavf59.22.100\"\r\n",
      "        }\r\n",
      "    }\r\n",
      "}\r\n"
     ]
    }
   ],
   "source": [
    "#show info\n",
    "!ffprobe -v error -select_streams v:0 -show_entries format:stream -print_format json \\\n",
    "test_vids/OPT_vids/rush_fiel_rate500000lg_AVC.mp4"
   ]
  },
  {
   "cell_type": "markdown",
   "id": "6e35de96",
   "metadata": {},
   "source": [
    "[1920 \u0002 1080; 1536 \u0002 864; 1216 \u0002 684; 960 \u0002 540; 768 \u0002 432; 608 \u0002 342; 480 \u0002 270; 384 \u0002 216; 320 \u0002 180; 256 \u0002 144]"
   ]
  },
  {
   "cell_type": "code",
   "execution_count": 85,
   "id": "7fb0a330",
   "metadata": {},
   "outputs": [
    {
     "data": {
      "text/plain": [
       "[\"Input #0, yuv4mpegpipe, from 'test_vids/srcRAW_SD/rush_field_cuts_SDp.y4m':\",\n",
       " '  Duration: 00:00:19.02, start: 0.000000, bitrate: 62147 kb/s',\n",
       " '  Stream #0:0: Video: rawvideo (Y42B / 0x42323459), yuv422p(tv, progressive), 480x270, SAR 1:1 DAR 16:9, 29.97 fps, 29.97 tbr, 29.97 tbn',\n",
       " \"Input #1, mov,mp4,m4a,3gp,3g2,mj2, from 'test_vids/OPT_vids/rush_fiel_rate2500000bf_AVC.mp4':\",\n",
       " '  Metadata:',\n",
       " '    major_brand     : isom',\n",
       " '    minor_version   : 512',\n",
       " '    compatible_brands: isomiso2avc1mp41',\n",
       " '    encoder         : Lavf59.22.100',\n",
       " '  Duration: 00:00:19.02, start: 0.000000, bitrate: 2488 kb/s',\n",
       " '  Stream #1:0[0x1](und): Video: h264 (High) (avc1 / 0x31637661), yuv420p(progressive), 480x270, 2485 kb/s, 29.97 fps, 29.97 tbr, 11988 tbn (default)',\n",
       " '    Metadata:',\n",
       " '      handler_name    : VideoHandler',\n",
       " '      vendor_id       : [0][0][0][0]',\n",
       " 'Stream mapping:',\n",
       " '  Stream #0:0 (rawvideo) -> setpts:default',\n",
       " '  Stream #1:0 (h264) -> scale:default',\n",
       " '  libvmaf:default -> Stream #0:0 (wrapped_avframe)',\n",
       " 'Press [q] to stop, [?] for help',\n",
       " \"Output #0, null, to 'pipe:':\",\n",
       " '  Metadata:',\n",
       " '    encoder         : Lavf59.22.100',\n",
       " '  Stream #0:0: Video: wrapped_avframe, yuv422p(tv, progressive), 480x270, q=2-31, 200 kb/s, 29.97 fps, 29.97 tbn',\n",
       " '    Metadata:',\n",
       " '      encoder         : Lavc59.26.100 wrapped_avframe',\n",
       " 'frame=    1 fps=0.0 q=-0.0 size=N/A time=00:00:00.03 bitrate=N/A speed=6.85x    ',\n",
       " 'frame=   74 fps=0.0 q=-0.0 size=N/A time=00:00:02.46 bitrate=N/A speed=4.88x    ',\n",
       " 'frame=  148 fps=146 q=-0.0 size=N/A time=00:00:04.93 bitrate=N/A speed=4.88x    ',\n",
       " 'frame=  222 fps=146 q=-0.0 size=N/A time=00:00:07.40 bitrate=N/A speed=4.88x    ',\n",
       " 'frame=  297 fps=147 q=-0.0 size=N/A time=00:00:09.90 bitrate=N/A speed= 4.9x    ',\n",
       " 'frame=  368 fps=146 q=-0.0 size=N/A time=00:00:12.27 bitrate=N/A speed=4.87x    ',\n",
       " 'frame=  441 fps=146 q=-0.0 size=N/A time=00:00:14.71 bitrate=N/A speed=4.86x    ',\n",
       " 'frame=  517 fps=146 q=-0.0 size=N/A time=00:00:17.25 bitrate=N/A speed=4.88x    ',\n",
       " 'frame=  570 fps=147 q=-0.0 Lsize=N/A time=00:00:19.01 bitrate=N/A speed=4.89x    ',\n",
       " 'video:263kB audio:0kB subtitle:0kB other streams:0kB global headers:0kB muxing overhead: unknown',\n",
       " '[Parsed_libvmaf_3 @ 0x5560974d6640] VMAF score: 97.747166']"
      ]
     },
     "execution_count": 85,
     "metadata": {},
     "output_type": "execute_result"
    }
   ],
   "source": [
    "!!ffmpeg -i test_vids/srcRAW_SD/rush_field_cuts_SDp.y4m \\\n",
    "            -i test_vids/OPT_vids/rush_fiel_rate2500000bf_AVC.mp4 -hide_banner\\\n",
    "            -lavfi \"[0:v]setpts=PTS-STARTPTS[ref];\\\n",
    "                    [1:v]scale=480x270:flags=bicubic,setpts=PTS-STARTPTS[dist];\\\n",
    "                    [dist][ref]libvmaf=feature=name=psnr:log_path=rd_results/vmaf_logs.json:log_fmt=json\" \\\n",
    "            -f null -"
   ]
  },
  {
   "cell_type": "code",
   "execution_count": null,
   "id": "7ec40bfb",
   "metadata": {},
   "outputs": [],
   "source": [
    "!ffplay -f rawvideo -video_size 640x360 test_vids/downsampled/smithy_640.yuv"
   ]
  },
  {
   "cell_type": "code",
   "execution_count": 3,
   "id": "c1f5cb03",
   "metadata": {
    "scrolled": false
   },
   "outputs": [
    {
     "name": "stdout",
     "output_type": "stream",
     "text": [
      "{'programs': [], 'streams': [{'index': 0, 'codec_name': 'hevc', 'codec_long_name': 'H.265 / HEVC (High Efficiency Video Coding)', 'profile': 'Main', 'codec_type': 'video', 'codec_tag_string': 'hev1', 'codec_tag': '0x31766568', 'width': 3840, 'height': 2160, 'coded_width': 3840, 'coded_height': 2160, 'closed_captions': 0, 'film_grain': 0, 'has_b_frames': 2, 'pix_fmt': 'yuv420p', 'level': 153, 'color_range': 'tv', 'chroma_location': 'left', 'field_order': 'progressive', 'refs': 1, 'id': '0x1', 'r_frame_rate': '50/1', 'avg_frame_rate': '50/1', 'time_base': '1/12800', 'start_pts': 0, 'start_time': '0.000000', 'duration_ts': 384000, 'duration': '30.000000', 'bit_rate': '5591491', 'nb_frames': '1500', 'extradata_size': 2202, 'disposition': {'default': 1, 'dub': 0, 'original': 0, 'comment': 0, 'lyrics': 0, 'karaoke': 0, 'forced': 0, 'hearing_impaired': 0, 'visual_impaired': 0, 'clean_effects': 0, 'attached_pic': 0, 'timed_thumbnails': 0, 'captions': 0, 'descriptions': 0, 'metadata': 0, 'dependent': 0, 'still_image': 0}, 'tags': {'language': 'und', 'handler_name': 'VideoHandler', 'vendor_id': '[0][0][0][0]'}}], 'format': {'filename': 'test_vids/encoded/smithyHEVC_cf34.mp4', 'nb_streams': 1, 'nb_programs': 0, 'format_name': 'mov,mp4,m4a,3gp,3g2,mj2', 'format_long_name': 'QuickTime / MOV', 'start_time': '0.000000', 'duration': '30.000000', 'size': '20990930', 'bit_rate': '5597581', 'probe_score': 100, 'tags': {'major_brand': 'isom', 'minor_version': '512', 'compatible_brands': 'isomiso2mp41', 'encoder': 'Lavf59.22.100'}}}\n"
     ]
    }
   ],
   "source": [
    "import subprocess\n",
    "import json\n",
    "command=\"ffprobe -v error -select_streams v:0 -show_entries format:stream -print_format json test_vids/encoded/smithyHEVC_cf34.mp4\"\n",
    "cout = subprocess.run(command.split(), stdout=subprocess.PIPE, stderr=subprocess.STDOUT).stdout\n",
    "dict = json.loads(cout)  # Convert data from JSON string to dictionary\n",
    "print(dict)"
   ]
  },
  {
   "cell_type": "code",
   "execution_count": 6,
   "id": "f5c2ebfb",
   "metadata": {},
   "outputs": [
    {
     "name": "stdout",
     "output_type": "stream",
     "text": [
      "[2. 3.]\n"
     ]
    }
   ],
   "source": [
    "import numpy as np\n",
    "A = [[1,2,3],[3,3,3]]\n",
    "print(np.einsum('ij->i', A)/3)"
   ]
  },
  {
   "cell_type": "code",
   "execution_count": 1,
   "id": "ad3d5065",
   "metadata": {
    "scrolled": true
   },
   "outputs": [
    {
     "name": "stderr",
     "output_type": "stream",
     "text": [
      "ffmpeg version N-106635-g83e1a1de88 Copyright (c) 2000-2022 the FFmpeg developers\n",
      "  built with gcc 9 (Ubuntu 9.4.0-1ubuntu1~20.04.1)\n",
      "  configuration: --prefix=/home/ubuntu/ffmpeg_build --pkg-config-flags=--static --extra-cflags=-I/home/ubuntu/ffmpeg_build/include --extra-ldflags=-L/home/ubuntu/ffmpeg_build/lib --extra-libs='-lpthread -lm' --ld=g++ --bindir=/home/ubuntu/bin --enable-gpl --enable-gnutls --enable-libaom --enable-libass --enable-libfdk-aac --enable-libfreetype --enable-libmp3lame --enable-libopus --enable-libsvtav1 --enable-libdav1d --enable-libvorbis --enable-libvpx --enable-libx264 --enable-libx265 --enable-libvmaf --enable-version3 --enable-nonfree\n",
      "  libavutil      57. 24.101 / 57. 24.101\n",
      "  libavcodec     59. 26.100 / 59. 26.100\n",
      "  libavformat    59. 22.100 / 59. 22.100\n",
      "  libavdevice    59.  6.100 / 59.  6.100\n",
      "  libavfilter     8. 33.100 /  8. 33.100\n",
      "  libswscale      6.  6.100 /  6.  6.100\n",
      "  libswresample   4.  6.100 /  4.  6.100\n",
      "  libpostproc    56.  5.100 / 56.  5.100\n",
      "Input #0, yuv4mpegpipe, from 'test_vids/srcRAW_FullHD/rush_field_cuts_1080p.y4m':\n",
      "  Duration: 00:00:19.02, start: 0.000000, bitrate: 994335 kb/s\n",
      "  Stream #0:0: Video: rawvideo (Y42B / 0x42323459), yuv422p(progressive), 1920x1080, SAR 1:1 DAR 16:9, 29.97 fps, 29.97 tbr, 29.97 tbn\n",
      "Stream mapping:\n",
      "  Stream #0:0 -> #0:0 (rawvideo (native) -> wrapped_avframe (native))\n",
      "Press [q] to stop, [?] for help\n",
      "Output #0, yuv4mpegpipe, to 'test_vids/srcRAW_SD/rush_field_cuts_SDp.y4m':\n",
      "  Metadata:\n",
      "    encoder         : Lavf59.22.100\n",
      "  Stream #0:0: Video: wrapped_avframe, yuv422p(tv, progressive), 480x270 [SAR 1:1 DAR 16:9], q=2-31, 200 kb/s, 29.97 fps, 29.97 tbn\n",
      "    Metadata:\n",
      "      encoder         : Lavc59.26.100 wrapped_avframe\n",
      "frame=  570 fps=0.0 q=-0.0 Lsize=  144285kB time=00:00:19.01 bitrate=62147.3kbits/s speed=28.4x    \n",
      "video:263kB audio:0kB subtitle:0kB other streams:0kB global headers:0kB muxing overhead: 54816.554688%\n"
     ]
    },
    {
     "data": {
      "text/plain": [
       "0"
      ]
     },
     "execution_count": 1,
     "metadata": {},
     "output_type": "execute_result"
    }
   ],
   "source": [
    "import subprocess\n",
    "c_seq = \"ffmpeg -i test_vids/srcRAW_FullHD/rush_field_cuts_1080p.y4m \\\n",
    "        -filter:v scale=480x270 test_vids/srcRAW_SD/rush_field_cuts_SDp.y4m\"\n",
    "subprocess.call(c_seq, shell=True)"
   ]
  },
  {
   "cell_type": "code",
   "execution_count": null,
   "id": "95d56865",
   "metadata": {},
   "outputs": [],
   "source": [
    "import csv\n",
    "import json\n",
    "\n",
    "source = \"testscene\"\n",
    "data_list = []\n",
    "\n",
    "json_file = \"rd_results/rd_\" + source + \".json\"\n",
    "with open(json_file, 'r') as r:\n",
    "    i_data = json.load(r)\n",
    "for item in i_data:\n",
    "    v_entry = []\n",
    "    for meta, value in item.items():\n",
    "        v_entry.append(value)\n",
    "    data_list.append(v_entry)\n",
    "    \n",
    "header = [\"index\", \"content\", \"file\", \"codec\", \"width\", \"height\", \"fps\", \"crf\", \"bitrate\", \"vmaf\", \"psnr\"]\n",
    "\n",
    "csv_file = \"rd_results/rd_\" + source + \".csv\"\n",
    "with open(csv_file, \"w\") as file:\n",
    "    csv_writer = csv.writer(file)\n",
    "    csv_writer.writerow(header)\n",
    "    for row in data_list:\n",
    "        csv_writer.writerow(row)"
   ]
  },
  {
   "cell_type": "code",
   "execution_count": 3,
   "id": "a82793b7",
   "metadata": {},
   "outputs": [
    {
     "name": "stdout",
     "output_type": "stream",
     "text": [
      "test_vids/srcRAW_HD/big_buck_bunny_720p24.y4m\n"
     ]
    }
   ],
   "source": [
    "import os\n",
    "import tkinter as tk\n",
    "from tkinter import filedialog\n",
    "\n",
    "root = tk.Tk()\n",
    "root.withdraw()\n",
    "\n",
    "file_path = os.path.relpath(filedialog.askopenfilename())\n",
    "print(file_path)"
   ]
  },
  {
   "cell_type": "code",
   "execution_count": 40,
   "id": "09454ae2",
   "metadata": {},
   "outputs": [
    {
     "name": "stdout",
     "output_type": "stream",
     "text": [
      "Input #0, mov,mp4,m4a,3gp,3g2,mj2, from 'test_vids/temp_encoded/1/27_AVC.mp4':\n",
      "  Metadata:\n",
      "    major_brand     : isom\n",
      "    minor_version   : 512\n",
      "    compatible_brands: isomiso2avc1mp41\n",
      "    encoder         : Lavf59.22.100\n",
      "  Duration: 00:00:02.00, start: 0.000000, bitrate: 8674 kb/s\n",
      "  Stream #0:0[0x1](und): Video: h264 (High) (avc1 / 0x31637661), yuv420p(progressive), 1920x1080, 8672 kb/s, 29.97 fps, 29.97 tbr, 11988 tbn (default)\n",
      "    Metadata:\n",
      "      handler_name    : VideoHandler\n",
      "      vendor_id       : [0][0][0][0]\n",
      "pict_type=I\n"
     ]
    }
   ],
   "source": [
    "!ffprobe -hide_banner -show_frames test_vids/temp_encoded/1/27_AVC.mp4 | grep \"pict_type=I\""
   ]
  },
  {
   "cell_type": "code",
   "execution_count": 77,
   "id": "924cfec1",
   "metadata": {},
   "outputs": [
    {
     "name": "stdout",
     "output_type": "stream",
     "text": [
      "80\n"
     ]
    }
   ],
   "source": [
    "res_matrix = {\"crf\": [17], \"vmaf\": [60, 80, 90]}\n",
    "x=-1\n",
    "print(0-x*res_matrix[\"vmaf\"][1])"
   ]
  },
  {
   "cell_type": "code",
   "execution_count": 78,
   "id": "702df0df",
   "metadata": {},
   "outputs": [
    {
     "ename": "ModuleNotFoundError",
     "evalue": "No module named 'plotly'",
     "output_type": "error",
     "traceback": [
      "\u001b[0;31m---------------------------------------------------------------------------\u001b[0m",
      "\u001b[0;31mModuleNotFoundError\u001b[0m                       Traceback (most recent call last)",
      "Input \u001b[0;32mIn [78]\u001b[0m, in \u001b[0;36m<cell line: 1>\u001b[0;34m()\u001b[0m\n\u001b[0;32m----> 1\u001b[0m \u001b[38;5;28;01mimport\u001b[39;00m \u001b[38;5;21;01mplotly\u001b[39;00m\u001b[38;5;21;01m.\u001b[39;00m\u001b[38;5;21;01mexpress\u001b[39;00m \u001b[38;5;28;01mas\u001b[39;00m \u001b[38;5;21;01mpl\u001b[39;00m\n\u001b[1;32m      2\u001b[0m pl\u001b[38;5;241m.\u001b[39mplot(\u001b[38;5;241m1\u001b[39m,\u001b[38;5;241m1\u001b[39m, \u001b[38;5;124m'\u001b[39m\u001b[38;5;124mbo\u001b[39m\u001b[38;5;124m'\u001b[39m)\n",
      "\u001b[0;31mModuleNotFoundError\u001b[0m: No module named 'plotly'"
     ]
    }
   ],
   "source": [
    "import plotly.express as pl\n",
    "pl.plot(1,1, 'bo')"
   ]
  },
  {
   "cell_type": "code",
   "execution_count": 3,
   "id": "81cd7470",
   "metadata": {},
   "outputs": [
    {
     "name": "stdout",
     "output_type": "stream",
     "text": [
      "[0. 2. 4. 6. 8.]\n"
     ]
    }
   ],
   "source": [
    "import numpy as np\n",
    "a = np.zeros(5)\n",
    "def suzz(i,d):\n",
    "    a[i]=d\n",
    "for i in range(0,5):\n",
    "    suzz(i,i+i)\n",
    "print(a)"
   ]
  },
  {
   "cell_type": "code",
   "execution_count": 13,
   "id": "5b9e5a18",
   "metadata": {},
   "outputs": [
    {
     "name": "stdout",
     "output_type": "stream",
     "text": [
      "[31 31 32]\n"
     ]
    }
   ],
   "source": [
    "import numpy as np\n",
    "a = [32,32,33]\n",
    "print(np.asarray(a)-1)"
   ]
  },
  {
   "cell_type": "code",
   "execution_count": 91,
   "id": "f498d37a",
   "metadata": {},
   "outputs": [
    {
     "name": "stdout",
     "output_type": "stream",
     "text": [
      "[3 0]\n"
     ]
    }
   ],
   "source": [
    "import numpy as np\n",
    "a=np.array([[2,8,9,1,25],[1,2,3,4,5]])\n",
    "print(np.argmin(a, axis=1))"
   ]
  },
  {
   "cell_type": "code",
   "execution_count": 26,
   "id": "e093b403",
   "metadata": {},
   "outputs": [
    {
     "name": "stdout",
     "output_type": "stream",
     "text": [
      "True\n"
     ]
    }
   ],
   "source": [
    "import numpy as np\n",
    "a = np.array([5,5,5])\n",
    "c = np.array([5,5,5])\n",
    "print((a == c).all())"
   ]
  },
  {
   "cell_type": "code",
   "execution_count": 104,
   "id": "8804b2be",
   "metadata": {},
   "outputs": [
    {
     "name": "stdout",
     "output_type": "stream",
     "text": [
      "[10 11 12 13 14 15 16 17 18 19 20 21 22 23 24 26 27 28 29 30 31 32 33 34\n",
      " 35 36 37 38 39 40]\n"
     ]
    }
   ],
   "source": [
    "import numpy as np\n",
    "def interval(l,n):\n",
    "    w = (l[1] - l[0]) / (n - 1)\n",
    "    return np.array([round(l[0]+i*w) for i in range(n)])\n",
    "num_pts = 30 #more for more precision\n",
    "print(interval([10,40], num_pts))"
   ]
  },
  {
   "cell_type": "code",
   "execution_count": 19,
   "id": "e7b60fad",
   "metadata": {},
   "outputs": [
    {
     "name": "stderr",
     "output_type": "stream",
     "text": [
      "<>:12: SyntaxWarning: list indices must be integers or slices, not tuple; perhaps you missed a comma?\n",
      "<>:12: SyntaxWarning: list indices must be integers or slices, not tuple; perhaps you missed a comma?\n"
     ]
    },
    {
     "ename": "NameError",
     "evalue": "name 'p' is not defined",
     "output_type": "error",
     "traceback": [
      "\u001b[0;31m---------------------------------------------------------------------------\u001b[0m",
      "\u001b[0;31mNameError\u001b[0m                                 Traceback (most recent call last)",
      "Input \u001b[0;32mIn [19]\u001b[0m, in \u001b[0;36m<cell line: 5>\u001b[0;34m()\u001b[0m\n\u001b[1;32m      3\u001b[0m l0\u001b[38;5;241m=\u001b[39m[\u001b[38;5;241m340099.87709208\u001b[39m, \u001b[38;5;241m0\u001b[39m]\n\u001b[1;32m      4\u001b[0m l1\u001b[38;5;241m=\u001b[39m[\u001b[38;5;241m0\u001b[39m, \u001b[38;5;241m3.102292521198141\u001b[39m]\n\u001b[0;32m----> 5\u001b[0m pl\u001b[38;5;241m.\u001b[39mplot(\u001b[43mp\u001b[49m[\u001b[38;5;241m0\u001b[39m], p[\u001b[38;5;241m1\u001b[39m], \u001b[38;5;124m'\u001b[39m\u001b[38;5;124mro\u001b[39m\u001b[38;5;124m'\u001b[39m)\n\u001b[1;32m      6\u001b[0m pl\u001b[38;5;241m.\u001b[39mplot(l0[\u001b[38;5;241m0\u001b[39m], l0[\u001b[38;5;241m1\u001b[39m], \u001b[38;5;124m'\u001b[39m\u001b[38;5;124mbo\u001b[39m\u001b[38;5;124m'\u001b[39m)\n\u001b[1;32m      7\u001b[0m pl\u001b[38;5;241m.\u001b[39mplot(l1[\u001b[38;5;241m0\u001b[39m], l1[\u001b[38;5;241m1\u001b[39m], \u001b[38;5;124m'\u001b[39m\u001b[38;5;124mgo\u001b[39m\u001b[38;5;124m'\u001b[39m)\n",
      "\u001b[0;31mNameError\u001b[0m: name 'p' is not defined"
     ]
    }
   ],
   "source": [
    "import matplotlib.pyplot as pl\n",
    "r = [1254477,1085638,935833,801799,684622,581509,492681,414777,347610,290466,242212]\n",
    "l0=[340099.87709208, 0]\n",
    "l1=[0, 3.102292521198141]\n",
    "pl.plot(p[0], p[1], 'ro')\n",
    "pl.plot(l0[0], l0[1], 'bo')\n",
    "pl.plot(l1[0], l1[1], 'go')\n",
    "pl.grid(True)\n",
    "l0 = [(m*t_pts[\"rate\"][s][s_mins[s]] - t_pts[\"dist\"][s][s_mins[s]])/m,0]\n",
    "l1 = [0,t_pts[\"dist\"][s][s_mins[s]] - m*t_pts[\"rate\"][s][s_mins[s]]]"
   ]
  },
  {
   "cell_type": "code",
   "execution_count": 33,
   "id": "30e4d3fe",
   "metadata": {},
   "outputs": [
    {
     "name": "stdout",
     "output_type": "stream",
     "text": [
      "100.23932951405209\n",
      "100.06867426427186\n",
      "74.03212190157211\n"
     ]
    }
   ],
   "source": [
    "print(441451*100/440397)\n",
    "print(74.082941*100/74.0321)\n",
    "print(100-25.967878098427892)"
   ]
  },
  {
   "cell_type": "code",
   "execution_count": 63,
   "id": "3998db8c",
   "metadata": {},
   "outputs": [
    {
     "name": "stdout",
     "output_type": "stream",
     "text": [
      "3\n"
     ]
    }
   ],
   "source": [
    "xf = xg = 3\n",
    "print(xg)"
   ]
  },
  {
   "cell_type": "code",
   "execution_count": null,
   "id": "c5c84efd",
   "metadata": {},
   "outputs": [],
   "source": []
  }
 ],
 "metadata": {
  "kernelspec": {
   "display_name": "Python 3 (ipykernel)",
   "language": "python",
   "name": "python3"
  },
  "language_info": {
   "codemirror_mode": {
    "name": "ipython",
    "version": 3
   },
   "file_extension": ".py",
   "mimetype": "text/x-python",
   "name": "python",
   "nbconvert_exporter": "python",
   "pygments_lexer": "ipython3",
   "version": "3.8.10"
  }
 },
 "nbformat": 4,
 "nbformat_minor": 5
}
