{
 "cells": [
  {
   "cell_type": "markdown",
   "id": "c13350e5",
   "metadata": {},
   "source": [
    "## From EXR to YUV\n",
    "* .exr images from ftp://svtopencontent.svt.se\n",
    "* 1500 images at 50 fps = 30sec\n",
    "* inside a .yuv raw video with 4k resolution and yuv420p sampling"
   ]
  },
  {
   "cell_type": "markdown",
   "id": "f4e7573b",
   "metadata": {},
   "source": [
    "import subprocess\n",
    "command = f\"ffmpeg -f concat -safe 0 -i tests_vids/srcRAW_FullHD/SVT/cuts_full.txt \\\n",
    "    -f yuv4mpegpipe tests_vids/srcRAW_FullHD/SVT/mux_fullmix_50.y4m\"\n",
    "subprocess.call(command, shell=True)"
   ]
  },
  {
   "cell_type": "code",
   "execution_count": 2,
   "id": "21ce755e",
   "metadata": {},
   "outputs": [
    {
     "name": "stderr",
     "output_type": "stream",
     "text": [
      "ffmpeg version N-106635-g83e1a1de88 Copyright (c) 2000-2022 the FFmpeg developers\n",
      "  built with gcc 9 (Ubuntu 9.4.0-1ubuntu1~20.04.1)\n",
      "  configuration: --prefix=/home/ubuntu/ffmpeg_build --pkg-config-flags=--static --extra-cflags=-I/home/ubuntu/ffmpeg_build/include --extra-ldflags=-L/home/ubuntu/ffmpeg_build/lib --extra-libs='-lpthread -lm' --ld=g++ --bindir=/home/ubuntu/bin --enable-gpl --enable-gnutls --enable-libaom --enable-libass --enable-libfdk-aac --enable-libfreetype --enable-libmp3lame --enable-libopus --enable-libsvtav1 --enable-libdav1d --enable-libvorbis --enable-libvpx --enable-libx264 --enable-libx265 --enable-libvmaf --enable-version3 --enable-nonfree\n",
      "  libavutil      57. 24.101 / 57. 24.101\n",
      "  libavcodec     59. 26.100 / 59. 26.100\n",
      "  libavformat    59. 22.100 / 59. 22.100\n",
      "  libavdevice    59.  6.100 / 59.  6.100\n",
      "  libavfilter     8. 33.100 /  8. 33.100\n",
      "  libswscale      6.  6.100 /  6.  6.100\n",
      "  libswresample   4.  6.100 /  4.  6.100\n",
      "  libpostproc    56.  5.100 / 56.  5.100\n",
      "Input #0, concat, from '/home/ubuntu/video_dynopt/cuts.txt':\n",
      "  Duration: N/A, start: 0.000000, bitrate: N/A\n",
      "  Stream #0:0: Video: rawvideo (Y3[11][10] / 0xA0B3359), yuv420p10le(progressive), 4096x2160, SAR 1:1 DAR 256:135, 60 fps, 60 tbr, 60 tbn\n",
      "Stream mapping:\n",
      "  Stream #0:0 -> #0:0 (rawvideo (native) -> wrapped_avframe (native))\n",
      "Press [q] to stop, [?] for help\n",
      "Output #0, yuv4mpegpipe, to 'tests_vids/srcRAW_4K/bar_dinner.y4m':\n",
      "  Metadata:\n",
      "    encoder         : Lavf59.22.100\n",
      "  Stream #0:0: Video: wrapped_avframe, yuv420p(tv, progressive), 4096x2160 [SAR 1:1 DAR 256:135], q=2-31, 200 kb/s, 30 fps, 30 tbn\n",
      "    Metadata:\n",
      "      encoder         : Lavc59.26.100 wrapped_avframe\n",
      "frame= 1201 fps=2.8 q=-0.0 Lsize=15564967kB time=00:00:40.03 bitrate=3185051.1kbits/s dup=0 drop=1197 speed=0.0923x    \n",
      "video:554kB audio:0kB subtitle:0kB other streams:0kB global headers:0kB muxing overhead: 2811562.250000%\n"
     ]
    },
    {
     "data": {
      "text/plain": [
       "0"
      ]
     },
     "execution_count": 2,
     "metadata": {},
     "output_type": "execute_result"
    }
   ],
   "source": [
    "import subprocess\n",
    "command = f\"ffmpeg -f concat -safe 0 -i /home/ubuntu/video_dynopt/cuts.txt \\\n",
    "    -pix_fmt yuv420p -r 30 tests_vids/srcRAW_4K/bar_dinner.y4m\"\n",
    "subprocess.call(command, shell=True)"
   ]
  },
  {
   "cell_type": "markdown",
   "id": "28755306",
   "metadata": {},
   "source": [
    "import subprocess\n",
    "c_seq = \"ffmpeg -y -start_number 180000 -framerate 50 -i test_vids/src_waterfall/waterfall_%04d.exr \\\n",
    "        -c:v rawvideo -pix_fmt yuv420p -s 3840x2160 -r 50 test_vids/refs/waterfall.yuv\"\n",
    "subprocess.call(c_seq, shell=True)"
   ]
  },
  {
   "cell_type": "code",
   "execution_count": 1,
   "id": "6685c506",
   "metadata": {},
   "outputs": [
    {
     "name": "stderr",
     "output_type": "stream",
     "text": [
      "ffmpeg version N-106635-g83e1a1de88 Copyright (c) 2000-2022 the FFmpeg developers\n",
      "  built with gcc 9 (Ubuntu 9.4.0-1ubuntu1~20.04.1)\n",
      "  configuration: --prefix=/home/ubuntu/ffmpeg_build --pkg-config-flags=--static --extra-cflags=-I/home/ubuntu/ffmpeg_build/include --extra-ldflags=-L/home/ubuntu/ffmpeg_build/lib --extra-libs='-lpthread -lm' --ld=g++ --bindir=/home/ubuntu/bin --enable-gpl --enable-gnutls --enable-libaom --enable-libass --enable-libfdk-aac --enable-libfreetype --enable-libmp3lame --enable-libopus --enable-libsvtav1 --enable-libdav1d --enable-libvorbis --enable-libvpx --enable-libx264 --enable-libx265 --enable-libvmaf --enable-version3 --enable-nonfree\n",
      "  libavutil      57. 24.101 / 57. 24.101\n",
      "  libavcodec     59. 26.100 / 59. 26.100\n",
      "  libavformat    59. 22.100 / 59. 22.100\n",
      "  libavdevice    59.  6.100 / 59.  6.100\n",
      "  libavfilter     8. 33.100 /  8. 33.100\n",
      "  libswscale      6.  6.100 /  6.  6.100\n",
      "  libswresample   4.  6.100 /  4.  6.100\n",
      "  libpostproc    56.  5.100 / 56.  5.100\n",
      "Input #0, mxf, from '/home/ubuntu/video_dynopt/tests_vids/srcRAW_4K/SVT/VIDEO_13cc0bda-5bf9-4fcc-8141-3af169a66e0a.mxf':\n",
      "  Metadata:\n",
      "    operational_pattern_ul: 060e2b34.04010101.0d010201.01010100\n",
      "    uid             : e80efe31-15b0-44e8-9fc9-c867c7a59ab0\n",
      "    generation_uid  : 47aa15b3-2919-4af5-a360-85eae6f36c58\n",
      "    company_name    : Blackmagic Design\n",
      "    product_name    : DaVinci Resolve\n",
      "    product_version : 17.4.6\n",
      "    product_uid     : 057cd849-178a-4b88-b4c7-825af8761b34\n",
      "    modification_date: 2022-04-17T20:41:17.768000Z\n",
      "    application_platform: DaVinci Resolve\n",
      "    material_package_umid: 0x060A2B340101010501010F201300000076FA593E44B1439E98C5315703C1DF59\n",
      "    material_package_name: VIDEO_13cc0bda-5bf9-4fcc-8141-3af169a66e0a\n",
      "    timecode        : 01:00:00:00\n",
      "  Duration: 00:01:10.00, start: 0.000000, bitrate: 6572105 kb/s\n",
      "  Stream #0:0: Video: jpeg2000, rgb48le(12 bpc, bt2020nc/bt2020/smpte2084, progressive), 3840x2160, lossless, SAR 1:1 DAR 16:9, 50 tbr, 50 tbn\n",
      "    Metadata:\n",
      "      file_package_umid: 0x060A2B340101010501010F201300000013CC0BDA5BF94FCC81413AF169A66E0A\n",
      "      file_package_name: VIDEO_13cc0bda-5bf9-4fcc-8141-3af169a66e0a\n",
      "      track_name      : PHDR Image Track\n",
      "    Side data:\n",
      "      Mastering Display Metadata, has_primaries:1 has_luminance:1 r(0.7080,0.2920) g(0.1700,0.7970) b(0.1310 0.0460) wp(0.3127, 0.3290) min_luminance=0.000100, max_luminance=1000.000000\n",
      "Stream mapping:\n",
      "  Stream #0:0 -> #0:0 (jpeg2000 (native) -> wrapped_avframe (native))\n",
      "Press [q] to stop, [?] for help\n",
      "Output #0, yuv4mpegpipe, to 'tests_vids/srcRAW_4K/SVT/edit_natural.y4m':\n",
      "  Metadata:\n",
      "    operational_pattern_ul: 060e2b34.04010101.0d010201.01010100\n",
      "    uid             : e80efe31-15b0-44e8-9fc9-c867c7a59ab0\n",
      "    generation_uid  : 47aa15b3-2919-4af5-a360-85eae6f36c58\n",
      "    timecode        : 01:00:00:00\n",
      "    material_package_name: VIDEO_13cc0bda-5bf9-4fcc-8141-3af169a66e0a\n",
      "    material_package_umid: 0x060A2B340101010501010F201300000076FA593E44B1439E98C5315703C1DF59\n",
      "    product_uid     : 057cd849-178a-4b88-b4c7-825af8761b34\n",
      "    modification_date: 2022-04-17T20:41:17.768000Z\n",
      "    application_platform: DaVinci Resolve\n",
      "    encoder         : Lavf59.22.100\n",
      "  Stream #0:0: Video: wrapped_avframe, yuv420p(tv, bt2020nc/bt2020/smpte2084, progressive), 3840x2160 [SAR 1:1 DAR 16:9], q=2-31, 200 kb/s, 25 fps, 25 tbn\n",
      "    Metadata:\n",
      "      file_package_umid: 0x060A2B340101010501010F201300000013CC0BDA5BF94FCC81413AF169A66E0A\n",
      "      file_package_name: VIDEO_13cc0bda-5bf9-4fcc-8141-3af169a66e0a\n",
      "      track_name      : PHDR Image Track\n",
      "      encoder         : Lavc59.26.100 wrapped_avframe\n",
      "    Side data:\n",
      "      Mastering Display Metadata, has_primaries:1 has_luminance:1 r(0.7080,0.2920) g(0.1700,0.7970) b(0.1310 0.0460) wp(0.3127, 0.3290) min_luminance=0.000100, max_luminance=1000.000000\n",
      "frame= 1752 fps=0.5 q=-0.0 Lsize=21286810kB time=00:01:10.08 bitrate=2488321.2kbits/s dup=0 drop=1748 speed=0.0207x    \n",
      "video:808kB audio:0kB subtitle:0kB other streams:0kB global headers:0kB muxing overhead: 2635833.500000%\n"
     ]
    },
    {
     "data": {
      "text/plain": [
       "0"
      ]
     },
     "execution_count": 1,
     "metadata": {},
     "output_type": "execute_result"
    }
   ],
   "source": [
    "import subprocess\n",
    "c_seq = \"ffmpeg -i /home/ubuntu/video_dynopt/tests_vids/srcRAW_4K/SVT/VIDEO_13cc0bda-5bf9-4fcc-8141-3af169a66e0a.mxf \\\n",
    "    -pix_fmt yuv420p -r 25 tests_vids/srcRAW_4K/SVT/edit_natural.y4m\"\n",
    "subprocess.call(c_seq, shell=True)"
   ]
  },
  {
   "cell_type": "markdown",
   "id": "baa6a520",
   "metadata": {},
   "source": [
    "## From YUV to YUV multires\n",
    "the .yuv reference uncompressed file is downsized to 5 more resolutions"
   ]
  },
  {
   "cell_type": "markdown",
   "id": "23f0a4e5",
   "metadata": {},
   "source": [
    "import numpy as np\n",
    "import subprocess\n",
    "source = \"smithy\"\n",
    "res_widths = [3840, 2560, 1920, 1280, 1024, 640]\n",
    "res_heights = [2160, 1440, 1080, 720, 576, 360]\n",
    "for i in range(1, res_widths.size):\n",
    "    path = \"test_vids/downsampled/\" + source + \"_\" + str(res_widths[i-1]) + \".yuv\"\n",
    "    out = \"test_vids/downsampled/\" + source + \"_\" + str(res_widths[i]) + \".yuv\"\n",
    "    command = f\"ffmpeg -f rawvideo -video_size {res_widths[i-1]}x{res_heights[i-1]} -r 50 -pixel_format yuv420p \\\n",
    "    -i {path} -f rawvideo -c:v rawvideo -filter:v scale={res_widths[i]}x{res_heights[i]} -pix_fmt yuv420p {out}\"\n",
    "    subprocess.call(command, shell=True)"
   ]
  },
  {
   "cell_type": "markdown",
   "id": "4c767856",
   "metadata": {},
   "source": [
    "## From YUV to H264 AVC"
   ]
  },
  {
   "cell_type": "code",
   "execution_count": 29,
   "id": "1bd6facd",
   "metadata": {},
   "outputs": [
    {
     "name": "stderr",
     "output_type": "stream",
     "text": [
      "ffmpeg version N-106635-g83e1a1de88 Copyright (c) 2000-2022 the FFmpeg developers\n",
      "  built with gcc 9 (Ubuntu 9.4.0-1ubuntu1~20.04.1)\n",
      "  configuration: --prefix=/home/ubuntu/ffmpeg_build --pkg-config-flags=--static --extra-cflags=-I/home/ubuntu/ffmpeg_build/include --extra-ldflags=-L/home/ubuntu/ffmpeg_build/lib --extra-libs='-lpthread -lm' --ld=g++ --bindir=/home/ubuntu/bin --enable-gpl --enable-gnutls --enable-libaom --enable-libass --enable-libfdk-aac --enable-libfreetype --enable-libmp3lame --enable-libopus --enable-libsvtav1 --enable-libdav1d --enable-libvorbis --enable-libvpx --enable-libx264 --enable-libx265 --enable-libvmaf --enable-version3 --enable-nonfree\n",
      "  libavutil      57. 24.101 / 57. 24.101\n",
      "  libavcodec     59. 26.100 / 59. 26.100\n",
      "  libavformat    59. 22.100 / 59. 22.100\n",
      "  libavdevice    59.  6.100 / 59.  6.100\n",
      "  libavfilter     8. 33.100 /  8. 33.100\n",
      "  libswscale      6.  6.100 /  6.  6.100\n",
      "  libswresample   4.  6.100 /  4.  6.100\n",
      "  libpostproc    56.  5.100 / 56.  5.100\n",
      "Input #0, mov,mp4,m4a,3gp,3g2,mj2, from '/home/ubuntu/video_dynopt/tests_vids/foreman.mp4':\n",
      "  Metadata:\n",
      "    major_brand     : isom\n",
      "    minor_version   : 512\n",
      "    compatible_brands: isomiso2avc1mp41\n",
      "    encoder         : Lavf59.22.100\n",
      "  Duration: 00:00:10.01, start: 0.000000, bitrate: 341 kb/s\n",
      "  Stream #0:0[0x1](und): Video: h264 (High) (avc1 / 0x31637661), yuv420p(progressive), 176x144 [SAR 128:117 DAR 1408:1053], 337 kb/s, 29.97 fps, 29.97 tbr, 30k tbn (default)\n",
      "    Metadata:\n",
      "      handler_name    : VideoHandler\n",
      "      vendor_id       : [0][0][0][0]\n",
      "Stream mapping:\n",
      "  Stream #0:0 -> #0:0 (h264 (native) -> h264 (libx264))\n",
      "Press [q] to stop, [?] for help\n",
      "[libx264 @ 0x56361a2e4180] using SAR=128/117\n",
      "[libx264 @ 0x56361a2e4180] using cpu capabilities: MMX2 SSE2Fast SSSE3 SSE4.2 AVX FMA3 BMI2 AVX2\n",
      "[libx264 @ 0x56361a2e4180] profile High, level 1.1\n",
      "[libx264 @ 0x56361a2e4180] 264 - core 155 r2917 0a84d98 - H.264/MPEG-4 AVC codec - Copyleft 2003-2018 - http://www.videolan.org/x264.html - options: cabac=1 ref=3 deblock=1:0:0 analyse=0x3:0x113 me=hex subme=7 psy=1 psy_rd=1.00:0.00 mixed_ref=1 me_range=16 chroma_me=1 trellis=1 8x8dct=1 cqm=0 deadzone=21,11 fast_pskip=1 chroma_qp_offset=-2 threads=4 lookahead_threads=1 sliced_threads=0 nr=0 decimate=1 interlaced=0 bluray_compat=0 constrained_intra=0 bframes=3 b_pyramid=2 b_adapt=1 b_bias=0 direct=1 weightb=1 open_gop=0 weightp=2 keyint=250 keyint_min=25 scenecut=40 intra_refresh=0 rc_lookahead=40 rc=crf mbtree=1 crf=23.0 qcomp=0.60 qpmin=0 qpmax=69 qpstep=4 ip_ratio=1.40 aq=1:1.00\n",
      "Output #0, mp4, to 'mv.mp4':\n",
      "  Metadata:\n",
      "    major_brand     : isom\n",
      "    minor_version   : 512\n",
      "    compatible_brands: isomiso2avc1mp41\n",
      "    encoder         : Lavf59.22.100\n",
      "  Stream #0:0(und): Video: h264 (avc1 / 0x31637661), yuv420p(progressive), 176x144 [SAR 128:117 DAR 1408:1053], q=2-31, 29.97 fps, 30k tbn (default)\n",
      "    Metadata:\n",
      "      handler_name    : VideoHandler\n",
      "      vendor_id       : [0][0][0][0]\n",
      "      encoder         : Lavc59.26.100 libx264\n",
      "    Side data:\n",
      "      cpb: bitrate max/min/avg: 0/0/0 buffer size: 0 vbv_delay: N/A\n",
      "frame=    1 fps=0.0 q=0.0 size=       0kB time=00:00:00.00 bitrate=N/A speed=   0x    \r"
     ]
    },
    {
     "name": "stdout",
     "output_type": "stream",
     "text": [
      "45 done\n"
     ]
    },
    {
     "name": "stderr",
     "output_type": "stream",
     "text": [
      "frame=  300 fps=0.0 q=-1.0 Lsize=     667kB time=00:00:09.90 bitrate= 551.5kbits/s speed=23.2x    \n",
      "video:663kB audio:0kB subtitle:0kB other streams:0kB global headers:0kB muxing overhead: 0.624173%\n",
      "[libx264 @ 0x56361a2e4180] frame I:4     Avg QP:29.06  size:  5433\n",
      "[libx264 @ 0x56361a2e4180] frame P:106   Avg QP:29.94  size:  3076\n",
      "[libx264 @ 0x56361a2e4180] frame B:190   Avg QP:32.11  size:  1739\n",
      "[libx264 @ 0x56361a2e4180] consecutive B-frames:  9.7% 14.7%  9.0% 66.7%\n",
      "[libx264 @ 0x56361a2e4180] mb I  I16..4:  1.3% 10.9% 87.9%\n",
      "[libx264 @ 0x56361a2e4180] mb P  I16..4:  0.2%  1.0% 28.5%  P16..4: 17.2% 27.1% 24.5%  0.0%  0.0%    skip: 1.5%\n",
      "[libx264 @ 0x56361a2e4180] mb B  I16..4:  0.2%  0.4%  8.3%  B16..8: 31.4% 26.4% 14.2%  direct:11.4%  skip: 7.7%  L0:45.1% L1:41.7% BI:13.3%\n",
      "[libx264 @ 0x56361a2e4180] 8x8 transform intra:4.1% inter:9.7%\n",
      "[libx264 @ 0x56361a2e4180] coded y,uvDC,uvAC intra: 95.5% 64.7% 29.7% inter: 48.4% 10.3% 1.0%\n",
      "[libx264 @ 0x56361a2e4180] i16 v,h,dc,p: 39% 17% 23% 20%\n",
      "[libx264 @ 0x56361a2e4180] i8 v,h,dc,ddl,ddr,vr,hd,vl,hu: 14% 15%  9%  3% 17% 12% 13%  7% 11%\n",
      "[libx264 @ 0x56361a2e4180] i4 v,h,dc,ddl,ddr,vr,hd,vl,hu: 15% 14% 23%  6% 10%  8% 11%  5%  8%\n",
      "[libx264 @ 0x56361a2e4180] i8c dc,h,v,p: 61% 17% 18%  5%\n",
      "[libx264 @ 0x56361a2e4180] Weighted P-Frames: Y:15.1% UV:3.8%\n",
      "[libx264 @ 0x56361a2e4180] ref P L0: 47.6% 12.9% 21.1% 16.1%  2.4%\n",
      "[libx264 @ 0x56361a2e4180] ref B L0: 75.2% 20.1%  4.7%\n",
      "[libx264 @ 0x56361a2e4180] ref B L1: 90.5%  9.5%\n",
      "[libx264 @ 0x56361a2e4180] kb/s:542.09\n"
     ]
    }
   ],
   "source": [
    "import os\n",
    "import numpy as np\n",
    "import subprocess\n",
    "def interval(l,n):\n",
    "    w = (l[1] - l[0]) / (n - 1)\n",
    "    return np.array([round(l[0]+i*w) for i in range(n)])\n",
    "source = \"/home/ubuntu/video_dynopt/tests_vids/srcRAW_SD/meridian_SD.y4m\"\n",
    "crfs = interval([15,45],8)\n",
    "for current_crf in crfs:\n",
    "    out = \"tests_vids/testAVC/merid\" + str(current_crf).zfill(2) + \".mp4\"\n",
    "    to_avc = f\"ffmpeg -i {source} -c:v libx264 -crf {current_crf} -pix_fmt yuv420p {out} -hide_banner -loglevel error\"\n",
    "    subprocess.call(to_avc, shell=True)\n",
    "    print(str(current_crf) + \" done\")"
   ]
  },
  {
   "cell_type": "code",
   "execution_count": 38,
   "id": "528af3cd",
   "metadata": {},
   "outputs": [
    {
     "name": "stdout",
     "output_type": "stream",
     "text": [
      "45 done\n"
     ]
    }
   ],
   "source": [
    "import os\n",
    "import numpy as np\n",
    "import subprocess\n",
    "def interval(l,n):\n",
    "    w = (l[1] - l[0]) / (n - 1)\n",
    "    return np.array([round(l[0]+i*w) for i in range(n)])\n",
    "source = \"/home/ubuntu/video_dynopt/tests_vids/srcRAW_HD/in_to_tree_420_720p50.y4m\"\n",
    "out = \"tests_vids/tree.mp4\"\n",
    "to_avc = f\"ffmpeg -i {source} -c:v libx264 -crf 15 -pix_fmt yuv420p -vf 'fps=16,scale=320x180' {out} -hide_banner -loglevel error\"\n",
    "subprocess.call(to_avc, shell=True)\n",
    "print(str(current_crf) + \" done\")"
   ]
  },
  {
   "cell_type": "code",
   "execution_count": 41,
   "id": "53fc705b",
   "metadata": {},
   "outputs": [
    {
     "name": "stdout",
     "output_type": "stream",
     "text": [
      "45 done\n"
     ]
    }
   ],
   "source": [
    "import os\n",
    "import numpy as np\n",
    "import subprocess\n",
    "def interval(l,n):\n",
    "    w = (l[1] - l[0]) / (n - 1)\n",
    "    return np.array([round(l[0]+i*w) for i in range(n)])\n",
    "source = \"/home/ubuntu/video_dynopt/tests_vids/tree.mp4\"\n",
    "out = \"tests_vids/treeBB.mp4\"\n",
    "to_avc = f\"ffmpeg -flags2 +export_mvs -i {source} -vf codecview=mv=bb {out} -hide_banner -loglevel error\"\n",
    "subprocess.call(to_avc, shell=True)\n",
    "print(str(current_crf) + \" done\")"
   ]
  },
  {
   "cell_type": "markdown",
   "id": "9d5a7062",
   "metadata": {},
   "source": [
    "## From YUV multires to H265 HEVC"
   ]
  },
  {
   "cell_type": "code",
   "execution_count": 21,
   "id": "b72f54a2",
   "metadata": {},
   "outputs": [
    {
     "name": "stderr",
     "output_type": "stream",
     "text": [
      "x265 [info]: HEVC encoder version 3.2.1+1-b5c86a64bbbe\n",
      "x265 [info]: build info [Linux][GCC 9.3.0][64 bit] 8bit+10bit+12bit\n",
      "x265 [info]: using cpu capabilities: MMX2 SSE2Fast LZCNT SSSE3 SSE4.2 AVX FMA3 BMI2 AVX2\n",
      "x265 [info]: Main profile, Level-4 (Main tier)\n",
      "x265 [info]: Thread pool created using 8 threads\n",
      "x265 [info]: Slices                              : 1\n",
      "x265 [info]: frame threads / pool features       : 3 / wpp(12 rows)\n",
      "x265 [info]: Coding QT: max CU size, min CU size : 64 / 8\n",
      "x265 [info]: Residual QT: max TU size, max depth : 32 / 1 inter / 1 intra\n",
      "x265 [info]: ME / range / subpel / merge         : hex / 57 / 2 / 3\n",
      "x265 [info]: Keyframe min / max / scenecut / bias: 25 / 250 / 40 / 5.00\n",
      "x265 [info]: Lookahead / bframes / badapt        : 20 / 4 / 2\n",
      "x265 [info]: b-pyramid / weightp / weightb       : 1 / 1 / 0\n",
      "x265 [info]: References / ref-limit  cu / depth  : 3 / off / on\n",
      "x265 [info]: AQ: mode / str / qg-size / cu-tree  : 2 / 1.0 / 32 / 1\n",
      "x265 [info]: Rate Control / qCompress            : CRF-12.0 / 0.60\n",
      "x265 [info]: tools: rd=3 psy-rd=2.00 early-skip rskip signhide tmvp b-intra\n",
      "x265 [info]: tools: strong-intra-smoothing lslices=4 deblock sao\n",
      "tests_vids/srcRAW_HD/meridian_HD.y4m: Input/output error\n",
      "x265 [info]: frame I:     17, Avg QP:13.31  kb/s: 58639.97\n",
      "x265 [info]: frame P:    610, Avg QP:14.79  kb/s: 25491.44\n",
      "x265 [info]: frame B:   2096, Avg QP:21.04  kb/s: 2202.53 \n",
      "x265 [info]: Weighted P-Frames: Y:4.9% UV:0.7%\n",
      "x265 [info]: consecutive B-frames: 3.8% 8.3% 9.9% 5.7% 72.2% \n",
      "\n",
      "encoded 2723 frames in 82.29s (33.09 fps), 7772.00 kb/s, Avg QP:19.59\n",
      "x265 [info]: HEVC encoder version 3.2.1+1-b5c86a64bbbe\n",
      "x265 [info]: build info [Linux][GCC 9.3.0][64 bit] 8bit+10bit+12bit\n",
      "x265 [info]: using cpu capabilities: MMX2 SSE2Fast LZCNT SSSE3 SSE4.2 AVX FMA3 BMI2 AVX2\n",
      "x265 [info]: Main profile, Level-4 (Main tier)\n",
      "x265 [info]: Thread pool created using 8 threads\n",
      "x265 [info]: Slices                              : 1\n",
      "x265 [info]: frame threads / pool features       : 3 / wpp(12 rows)\n",
      "x265 [info]: Coding QT: max CU size, min CU size : 64 / 8\n",
      "x265 [info]: Residual QT: max TU size, max depth : 32 / 1 inter / 1 intra\n",
      "x265 [info]: ME / range / subpel / merge         : hex / 57 / 2 / 3\n",
      "x265 [info]: Keyframe min / max / scenecut / bias: 25 / 250 / 40 / 5.00\n",
      "x265 [info]: Lookahead / bframes / badapt        : 20 / 4 / 2\n",
      "x265 [info]: b-pyramid / weightp / weightb       : 1 / 1 / 0\n",
      "x265 [info]: References / ref-limit  cu / depth  : 3 / off / on\n",
      "x265 [info]: AQ: mode / str / qg-size / cu-tree  : 2 / 1.0 / 32 / 1\n",
      "x265 [info]: Rate Control / qCompress            : CRF-14.0 / 0.60\n",
      "x265 [info]: tools: rd=3 psy-rd=2.00 early-skip rskip signhide tmvp b-intra\n",
      "x265 [info]: tools: strong-intra-smoothing lslices=4 deblock sao\n"
     ]
    },
    {
     "name": "stdout",
     "output_type": "stream",
     "text": [
      "12 done\n"
     ]
    },
    {
     "ename": "KeyboardInterrupt",
     "evalue": "",
     "output_type": "error",
     "traceback": [
      "\u001b[0;31m---------------------------------------------------------------------------\u001b[0m",
      "\u001b[0;31mKeyboardInterrupt\u001b[0m                         Traceback (most recent call last)",
      "Input \u001b[0;32mIn [21]\u001b[0m, in \u001b[0;36m<cell line: 9>\u001b[0;34m()\u001b[0m\n\u001b[1;32m     10\u001b[0m out \u001b[38;5;241m=\u001b[39m \u001b[38;5;124m\"\u001b[39m\u001b[38;5;124mtests_vids/testHEVC/medrid\u001b[39m\u001b[38;5;124m\"\u001b[39m \u001b[38;5;241m+\u001b[39m \u001b[38;5;28mstr\u001b[39m(current_crf)\u001b[38;5;241m.\u001b[39mzfill(\u001b[38;5;241m2\u001b[39m) \u001b[38;5;241m+\u001b[39m \u001b[38;5;124m\"\u001b[39m\u001b[38;5;124m.mp4\u001b[39m\u001b[38;5;124m\"\u001b[39m\n\u001b[1;32m     11\u001b[0m to_avc \u001b[38;5;241m=\u001b[39m \u001b[38;5;124mf\u001b[39m\u001b[38;5;124m\"\u001b[39m\u001b[38;5;124mffmpeg -i \u001b[39m\u001b[38;5;132;01m{\u001b[39;00msource\u001b[38;5;132;01m}\u001b[39;00m\u001b[38;5;124m -c:v libx265 -crf \u001b[39m\u001b[38;5;132;01m{\u001b[39;00mcurrent_crf\u001b[38;5;132;01m}\u001b[39;00m\u001b[38;5;124m -pix_fmt yuv420p \u001b[39m\u001b[38;5;132;01m{\u001b[39;00mout\u001b[38;5;132;01m}\u001b[39;00m\u001b[38;5;124m -hide_banner -loglevel error -x265-params log-level=none\u001b[39m\u001b[38;5;124m\"\u001b[39m\n\u001b[0;32m---> 12\u001b[0m \u001b[43msubprocess\u001b[49m\u001b[38;5;241;43m.\u001b[39;49m\u001b[43mcall\u001b[49m\u001b[43m(\u001b[49m\u001b[43mto_avc\u001b[49m\u001b[43m,\u001b[49m\u001b[43m \u001b[49m\u001b[43mshell\u001b[49m\u001b[38;5;241;43m=\u001b[39;49m\u001b[38;5;28;43;01mTrue\u001b[39;49;00m\u001b[43m)\u001b[49m\n\u001b[1;32m     13\u001b[0m \u001b[38;5;28mprint\u001b[39m(\u001b[38;5;28mstr\u001b[39m(current_crf) \u001b[38;5;241m+\u001b[39m \u001b[38;5;124m\"\u001b[39m\u001b[38;5;124m done\u001b[39m\u001b[38;5;124m\"\u001b[39m)\n",
      "File \u001b[0;32m/usr/lib/python3.8/subprocess.py:342\u001b[0m, in \u001b[0;36mcall\u001b[0;34m(timeout, *popenargs, **kwargs)\u001b[0m\n\u001b[1;32m    340\u001b[0m \u001b[38;5;28;01mwith\u001b[39;00m Popen(\u001b[38;5;241m*\u001b[39mpopenargs, \u001b[38;5;241m*\u001b[39m\u001b[38;5;241m*\u001b[39mkwargs) \u001b[38;5;28;01mas\u001b[39;00m p:\n\u001b[1;32m    341\u001b[0m     \u001b[38;5;28;01mtry\u001b[39;00m:\n\u001b[0;32m--> 342\u001b[0m         \u001b[38;5;28;01mreturn\u001b[39;00m \u001b[43mp\u001b[49m\u001b[38;5;241;43m.\u001b[39;49m\u001b[43mwait\u001b[49m\u001b[43m(\u001b[49m\u001b[43mtimeout\u001b[49m\u001b[38;5;241;43m=\u001b[39;49m\u001b[43mtimeout\u001b[49m\u001b[43m)\u001b[49m\n\u001b[1;32m    343\u001b[0m     \u001b[38;5;28;01mexcept\u001b[39;00m:  \u001b[38;5;66;03m# Including KeyboardInterrupt, wait handled that.\u001b[39;00m\n\u001b[1;32m    344\u001b[0m         p\u001b[38;5;241m.\u001b[39mkill()\n",
      "File \u001b[0;32m/usr/lib/python3.8/subprocess.py:1083\u001b[0m, in \u001b[0;36mPopen.wait\u001b[0;34m(self, timeout)\u001b[0m\n\u001b[1;32m   1081\u001b[0m     endtime \u001b[38;5;241m=\u001b[39m _time() \u001b[38;5;241m+\u001b[39m timeout\n\u001b[1;32m   1082\u001b[0m \u001b[38;5;28;01mtry\u001b[39;00m:\n\u001b[0;32m-> 1083\u001b[0m     \u001b[38;5;28;01mreturn\u001b[39;00m \u001b[38;5;28;43mself\u001b[39;49m\u001b[38;5;241;43m.\u001b[39;49m\u001b[43m_wait\u001b[49m\u001b[43m(\u001b[49m\u001b[43mtimeout\u001b[49m\u001b[38;5;241;43m=\u001b[39;49m\u001b[43mtimeout\u001b[49m\u001b[43m)\u001b[49m\n\u001b[1;32m   1084\u001b[0m \u001b[38;5;28;01mexcept\u001b[39;00m \u001b[38;5;167;01mKeyboardInterrupt\u001b[39;00m:\n\u001b[1;32m   1085\u001b[0m     \u001b[38;5;66;03m# https://bugs.python.org/issue25942\u001b[39;00m\n\u001b[1;32m   1086\u001b[0m     \u001b[38;5;66;03m# The first keyboard interrupt waits briefly for the child to\u001b[39;00m\n\u001b[1;32m   1087\u001b[0m     \u001b[38;5;66;03m# exit under the common assumption that it also received the ^C\u001b[39;00m\n\u001b[1;32m   1088\u001b[0m     \u001b[38;5;66;03m# generated SIGINT and will exit rapidly.\u001b[39;00m\n\u001b[1;32m   1089\u001b[0m     \u001b[38;5;28;01mif\u001b[39;00m timeout \u001b[38;5;129;01mis\u001b[39;00m \u001b[38;5;129;01mnot\u001b[39;00m \u001b[38;5;28;01mNone\u001b[39;00m:\n",
      "File \u001b[0;32m/usr/lib/python3.8/subprocess.py:1806\u001b[0m, in \u001b[0;36mPopen._wait\u001b[0;34m(self, timeout)\u001b[0m\n\u001b[1;32m   1804\u001b[0m \u001b[38;5;28;01mif\u001b[39;00m \u001b[38;5;28mself\u001b[39m\u001b[38;5;241m.\u001b[39mreturncode \u001b[38;5;129;01mis\u001b[39;00m \u001b[38;5;129;01mnot\u001b[39;00m \u001b[38;5;28;01mNone\u001b[39;00m:\n\u001b[1;32m   1805\u001b[0m     \u001b[38;5;28;01mbreak\u001b[39;00m  \u001b[38;5;66;03m# Another thread waited.\u001b[39;00m\n\u001b[0;32m-> 1806\u001b[0m (pid, sts) \u001b[38;5;241m=\u001b[39m \u001b[38;5;28;43mself\u001b[39;49m\u001b[38;5;241;43m.\u001b[39;49m\u001b[43m_try_wait\u001b[49m\u001b[43m(\u001b[49m\u001b[38;5;241;43m0\u001b[39;49m\u001b[43m)\u001b[49m\n\u001b[1;32m   1807\u001b[0m \u001b[38;5;66;03m# Check the pid and loop as waitpid has been known to\u001b[39;00m\n\u001b[1;32m   1808\u001b[0m \u001b[38;5;66;03m# return 0 even without WNOHANG in odd situations.\u001b[39;00m\n\u001b[1;32m   1809\u001b[0m \u001b[38;5;66;03m# http://bugs.python.org/issue14396.\u001b[39;00m\n\u001b[1;32m   1810\u001b[0m \u001b[38;5;28;01mif\u001b[39;00m pid \u001b[38;5;241m==\u001b[39m \u001b[38;5;28mself\u001b[39m\u001b[38;5;241m.\u001b[39mpid:\n",
      "File \u001b[0;32m/usr/lib/python3.8/subprocess.py:1764\u001b[0m, in \u001b[0;36mPopen._try_wait\u001b[0;34m(self, wait_flags)\u001b[0m\n\u001b[1;32m   1762\u001b[0m \u001b[38;5;124;03m\"\"\"All callers to this function MUST hold self._waitpid_lock.\"\"\"\u001b[39;00m\n\u001b[1;32m   1763\u001b[0m \u001b[38;5;28;01mtry\u001b[39;00m:\n\u001b[0;32m-> 1764\u001b[0m     (pid, sts) \u001b[38;5;241m=\u001b[39m \u001b[43mos\u001b[49m\u001b[38;5;241;43m.\u001b[39;49m\u001b[43mwaitpid\u001b[49m\u001b[43m(\u001b[49m\u001b[38;5;28;43mself\u001b[39;49m\u001b[38;5;241;43m.\u001b[39;49m\u001b[43mpid\u001b[49m\u001b[43m,\u001b[49m\u001b[43m \u001b[49m\u001b[43mwait_flags\u001b[49m\u001b[43m)\u001b[49m\n\u001b[1;32m   1765\u001b[0m \u001b[38;5;28;01mexcept\u001b[39;00m \u001b[38;5;167;01mChildProcessError\u001b[39;00m:\n\u001b[1;32m   1766\u001b[0m     \u001b[38;5;66;03m# This happens if SIGCLD is set to be ignored or waiting\u001b[39;00m\n\u001b[1;32m   1767\u001b[0m     \u001b[38;5;66;03m# for child processes has otherwise been disabled for our\u001b[39;00m\n\u001b[1;32m   1768\u001b[0m     \u001b[38;5;66;03m# process.  This child is dead, we can't get the status.\u001b[39;00m\n\u001b[1;32m   1769\u001b[0m     pid \u001b[38;5;241m=\u001b[39m \u001b[38;5;28mself\u001b[39m\u001b[38;5;241m.\u001b[39mpid\n",
      "\u001b[0;31mKeyboardInterrupt\u001b[0m: "
     ]
    }
   ],
   "source": [
    "import os\n",
    "import numpy as np\n",
    "import subprocess\n",
    "def interval(l,n):\n",
    "    w = (l[1] - l[0]) / (n - 1)\n",
    "    return np.array([round(l[0]+i*w) for i in range(n)])\n",
    "source = \"tests_vids/srcRAW_HD/meridian_HD.y4m\"\n",
    "crfs = interval([12,27],8)\n",
    "for current_crf in crfs:\n",
    "    out = \"tests_vids/testHEVC/medrid\" + str(current_crf).zfill(2) + \".mp4\"\n",
    "    to_avc = f\"ffmpeg -i {source} -c:v libx265 -crf {current_crf} -pix_fmt yuv420p {out} -hide_banner -loglevel error -x265-params log-level=none\"\n",
    "    subprocess.call(to_avc, shell=True)\n",
    "    print(str(current_crf) + \" done\")"
   ]
  },
  {
   "cell_type": "markdown",
   "id": "5a48bd95",
   "metadata": {},
   "source": [
    "## From RAW to VP9"
   ]
  },
  {
   "cell_type": "code",
   "execution_count": 17,
   "id": "fc5e42a8",
   "metadata": {},
   "outputs": [
    {
     "name": "stdout",
     "output_type": "stream",
     "text": [
      "39 done\n"
     ]
    }
   ],
   "source": [
    "import os\n",
    "import numpy as np\n",
    "import subprocess\n",
    "def interval(l,n):\n",
    "    w = (l[1] - l[0]) / (n - 1)\n",
    "    return np.array([round(l[0]+i*w) for i in range(n)])\n",
    "source = \"tests_vids/srcRAW_4K/Netflix_BarScene_4096x2160_60fps_10bit_420.y4m\"\n",
    "crfs = interval([23,38],8)\n",
    "for current_crf in crfs:\n",
    "    out = \"tests_vids/testVP9/bar\" + str(current_crf).zfill(2) + \".mp4\"\n",
    "    to_avc = f\"ffmpeg -i {source} -c:v libvpx-vp9 -crf {current_crf} -b:v 0 -pix_fmt yuv420p {out} -hide_banner -loglevel error\"\n",
    "    subprocess.call(to_avc, shell=True)\n",
    "    print(str(current_crf) + \" done\")"
   ]
  },
  {
   "cell_type": "markdown",
   "id": "5816e13c",
   "metadata": {},
   "source": [
    "# From RAW to AV1"
   ]
  },
  {
   "cell_type": "code",
   "execution_count": 19,
   "id": "8847fdc5",
   "metadata": {},
   "outputs": [
    {
     "name": "stderr",
     "output_type": "stream",
     "text": [
      "Svt[info]: -------------------------------------------\n",
      "Svt[info]: SVT [version]:\tSVT-AV1 Encoder Lib v1.0.0-rc2-7-g981ecdb0\n",
      "Svt[info]: SVT [build]  :\tGCC 9.4.0\t 64 bit\n",
      "Svt[info]: LIB Build date: Apr 21 2022 23:42:21\n",
      "Svt[info]: -------------------------------------------\n",
      "Svt[info]: Number of logical cores available: 8\n",
      "Svt[info]: Number of PPCS 54\n",
      "Svt[info]: [asm level on system : up to avx2]\n",
      "Svt[info]: [asm level selected : up to avx2]\n",
      "Svt[info]: -------------------------------------------\n",
      "Svt[info]: SVT [config]: main profile\ttier (auto)\tlevel (auto)\n",
      "Svt[info]: SVT [config]: width / height / fps numerator / fps denominator \t\t: 4096 / 2160 / 60 / 1\n",
      "Svt[info]: SVT [config]: bit-depth / color format / compressed 10-bit format\t\t: 8 / YUV420 / 0\n",
      "Svt[info]: SVT [config]: preset / tune / pred struct \t\t\t\t\t: 10 / PSNR / random access\n",
      "Svt[info]: SVT [config]: gop size / mini-gop size / key-frame type \t\t\t: 321 / 16 / key frame\n",
      "Svt[info]: SVT [config]: BRC mode / rate factor \t\t\t\t\t: CRF / 37 \n",
      "Svt[info]: -------------------------------------------\n"
     ]
    },
    {
     "name": "stdout",
     "output_type": "stream",
     "text": [
      "37 done\n"
     ]
    }
   ],
   "source": [
    "import os\n",
    "import numpy as np\n",
    "import subprocess\n",
    "def interval(l,n):\n",
    "    w = (l[1] - l[0]) / (n - 1)\n",
    "    return np.array([round(l[0]+i*w) for i in range(n)])\n",
    "source = \"tests_vids/srcRAW_4K/Netflix_BarScene_4096x2160_60fps_10bit_420.y4m\"\n",
    "out = \"tests_vids/testAV1/bar\" + str(37).zfill(2) + \".mp4\"\n",
    "to_avc = f\"ffmpeg -i {source} -c:v libsvtav1 -crf {37} -pix_fmt yuv420p {out} -hide_banner -loglevel error\"\n",
    "subprocess.call(to_avc, shell=True)\n",
    "print(str(37) + \" done\")"
   ]
  },
  {
   "cell_type": "code",
   "execution_count": null,
   "id": "12ba016b",
   "metadata": {},
   "outputs": [],
   "source": []
  }
 ],
 "metadata": {
  "kernelspec": {
   "display_name": "Python 3 (ipykernel)",
   "language": "python",
   "name": "python3"
  },
  "language_info": {
   "codemirror_mode": {
    "name": "ipython",
    "version": 3
   },
   "file_extension": ".py",
   "mimetype": "text/x-python",
   "name": "python",
   "nbconvert_exporter": "python",
   "pygments_lexer": "ipython3",
   "version": "3.8.10"
  }
 },
 "nbformat": 4,
 "nbformat_minor": 5
}
