{
 "cells": [
  {
   "cell_type": "markdown",
   "id": "c13350e5",
   "metadata": {},
   "source": [
    "## From EXR to YUV\n",
    "* .exr images from ftp://svtopencontent.svt.se\n",
    "* 1500 images at 50 fps = 30sec\n",
    "* inside a .yuv raw video with 4k resolution and yuv420p sampling"
   ]
  },
  {
   "cell_type": "code",
   "execution_count": null,
   "id": "b26e6664",
   "metadata": {},
   "outputs": [],
   "source": [
    "import subprocess\n",
    "c_seq = \"ffmpeg -y -start_number 180000 -framerate 50 -i test_vids/smithy/smithy_%04d.exr \\\n",
    "        -c:v rawvideo -pix_fmt yuv420p -s 3840x2160 -r 50 test_vids/smithy.yuv\"\n",
    "subprocess.call(c_seq, shell=True)"
   ]
  },
  {
   "cell_type": "markdown",
   "id": "baa6a520",
   "metadata": {},
   "source": [
    "## From YUV to YUV multires\n",
    "the .yuv reference uncompressed file is downsized to 5 more resolutions"
   ]
  },
  {
   "cell_type": "code",
   "execution_count": null,
   "id": "5e3a4089",
   "metadata": {},
   "outputs": [],
   "source": [
    "import numpy as np\n",
    "import subprocess\n",
    "source = \"smithy\"\n",
    "res_widths = np.array([3840, 2560, 1920, 1280, 1024, 640])\n",
    "res_heights = np.array([2160, 1440, 1080, 720, 576, 360])\n",
    "for i in range(1, res_widths.size):\n",
    "    path = \"test_vids/downsampled/\" + source + \"_\" + str(res_widths[i-1]) + \".yuv\"\n",
    "    out = \"test_vids/downsampled/\" + source + \"_\" + str(res_widths[i]) + \".yuv\"\n",
    "    command = f\"ffmpeg -f rawvideo -video_size {res_widths[i-1]}x{res_heights[i-1]} -r 50 -pixel_format yuv420p \\\n",
    "    -i {path} -f rawvideo -c:v rawvideo -filter:v scale={res_widths[i]}x{res_heights[i]} -pix_fmt yuv420p {out}\"\n",
    "    subprocess.call(command, shell=True)"
   ]
  },
  {
   "cell_type": "markdown",
   "id": "4c767856",
   "metadata": {},
   "source": [
    "## From YUV multires to H264 AVC"
   ]
  },
  {
   "cell_type": "code",
   "execution_count": null,
   "id": "1bd6facd",
   "metadata": {},
   "outputs": [],
   "source": [
    "import os\n",
    "import subprocess\n",
    "folder = 'test_vids/downsampled'\n",
    "source = \"smithy\"\n",
    "res_widths = [3840, 2560, 1920, 1280, 1024, 640]\n",
    "res_heights = [2160, 1440, 1080, 720, 576, 360]\n",
    "quality = [1, 11, 23, 34, 50]\n",
    "for file in os.listdir(folder):\n",
    "    path = os.path.join(folder, file)\n",
    "    if str(file).endswith('.yuv'):\n",
    "        current_res = str(file)[:-4].strip(source + \"_\")\n",
    "        current_index = res_widths.index(int(current_res))\n",
    "        for current_crf in range(0,5):\n",
    "            out = \"test_vids/encoded/\" + source + \"AVC_\" + str(current_res) + \"_cf\" + str(quality[current_crf]) + \".mp4\"\n",
    "            to_avc = f\"ffmpeg -f rawvideo -video_size {res_widths[current_index]}x{res_heights[current_index]} \\\n",
    "            -r 50 -pixel_format yuv420p -i {path} -c:v libx264 -crf {quality[current_crf]} {out}\"\n",
    "            subprocess.call(to_avc, shell=True)"
   ]
  },
  {
   "cell_type": "markdown",
   "id": "9d5a7062",
   "metadata": {},
   "source": [
    "## From YUV multires to H265 HEVC"
   ]
  }
 ],
 "metadata": {
  "kernelspec": {
   "display_name": "Python 3 (ipykernel)",
   "language": "python",
   "name": "python3"
  },
  "language_info": {
   "codemirror_mode": {
    "name": "ipython",
    "version": 3
   },
   "file_extension": ".py",
   "mimetype": "text/x-python",
   "name": "python",
   "nbconvert_exporter": "python",
   "pygments_lexer": "ipython3",
   "version": "3.8.10"
  }
 },
 "nbformat": 4,
 "nbformat_minor": 5
}
