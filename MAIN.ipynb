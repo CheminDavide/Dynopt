{
 "cells": [
  {
   "cell_type": "markdown",
   "id": "9496f57f",
   "metadata": {},
   "source": [
    "# Dynamic optimization"
   ]
  },
  {
   "cell_type": "code",
   "execution_count": 1,
   "id": "06157ea0",
   "metadata": {},
   "outputs": [
    {
     "name": "stdout",
     "output_type": "stream",
     "text": [
      "3.8.10\n"
     ]
    }
   ],
   "source": [
    "from platform import python_version\n",
    "print(python_version())"
   ]
  },
  {
   "cell_type": "markdown",
   "id": "46d1e929",
   "metadata": {},
   "source": [
    "## Index\n",
    "1. starting from single shots\n",
    "    https://media.xiph.org/video/derf/\n",
    "    ftp://svtopencontent.svt.se\n",
    "2. coding raw videos in AVC, HEVC, VP9 (in seguito ed eventualmente AV1 e VVC) using:\n",
    "    - ffmpeg library for AVC\n",
    "    - TODO\n",
    "    \n",
    "3. script per generazione automatica di codifiche multiple, in python, includendo anche risoluzioni fino a 4k (sulle 10 risoluzioni proposte dal paper, selezionarne 5 e aggiungerne 2 oltre l'HD) con convex hull RD dei singoli shot e visualizzazione in MATLAB\n",
    "\n",
    "4. valutazione risultati con PSNR, MSSIM e soprattutto VMAF e comparazione per contenuto dei singoli shot\n",
    "\n",
    "5. memorizzazione risultati su csv\n",
    "\n",
    "6. divisione video in spezzoni con ffmpeg\n",
    "\n",
    "7. script python per generazione dell'intero video codificato seguendo i passi descritti finora per ogni shot e con convex hull generale; test su 3 titoli: ritmo lento, azione e animazione\n",
    "\n",
    "8. valutazione risultati come punto e. anche in base alla durata degli shot"
   ]
  },
  {
   "cell_type": "code",
   "execution_count": 18,
   "id": "d92d1881",
   "metadata": {},
   "outputs": [
    {
     "name": "stdout",
     "output_type": "stream",
     "text": [
      "\u001b[1;31mtest_vids/smithy.mov: No such file or directory\r\n",
      "\u001b[0m"
     ]
    }
   ],
   "source": [
    "#show info\n",
    "!ffprobe -hide_banner test_vids/smithy.mov"
   ]
  },
  {
   "cell_type": "code",
   "execution_count": 19,
   "id": "971e4ad7",
   "metadata": {},
   "outputs": [
    {
     "name": "stdout",
     "output_type": "stream",
     "text": [
      "Input #0, mov,mp4,m4a,3gp,3g2,mj2, from 'test_vids/encoded/smithyAVC_1280_cf23.mp4':\r\n",
      "  Metadata:\r\n",
      "    major_brand     : isom\r\n",
      "    minor_version   : 512\r\n",
      "    compatible_brands: isomiso2avc1mp41\r\n",
      "    encoder         : Lavf58.29.100\r\n",
      "  Duration: 00:00:30.00, start: 0.000000, bitrate: 3682 kb/s\r\n",
      "  Stream #0:0[0x1](und): Video: h264 (High) (avc1 / 0x31637661), yuv420p(progressive), 1280x720, 3677 kb/s, 50 fps, 50 tbr, 12800 tbn (default)\r\n",
      "    Metadata:\r\n",
      "      handler_name    : VideoHandler\r\n",
      "      vendor_id       : [0][0][0][0]\r\n"
     ]
    }
   ],
   "source": [
    "!ffprobe -hide_banner test_vids/encoded/smithyAVC_1280_cf23.mp4"
   ]
  },
  {
   "cell_type": "markdown",
   "id": "6e35de96",
   "metadata": {},
   "source": [
    "[1920 \u0002 1080; 1536 \u0002 864; 1216 \u0002 684; 960 \u0002 540; 768 \u0002 432; 608 \u0002 342; 480 \u0002 270; 384 \u0002 216; 320 \u0002 180; 256 \u0002 144]"
   ]
  },
  {
   "cell_type": "code",
   "execution_count": null,
   "id": "7ec40bfb",
   "metadata": {},
   "outputs": [],
   "source": [
    "!ffplay -f rawvideo -video_size 640x360 test_vids/downsampled/smithy_640.yuv"
   ]
  },
  {
   "cell_type": "code",
   "execution_count": 3,
   "id": "c1f5cb03",
   "metadata": {
    "scrolled": true
   },
   "outputs": [
    {
     "name": "stdout",
     "output_type": "stream",
     "text": [
      "{'programs': [], 'streams': [{'index': 0, 'codec_name': 'hevc', 'codec_long_name': 'H.265 / HEVC (High Efficiency Video Coding)', 'profile': 'Main', 'codec_type': 'video', 'codec_tag_string': 'hev1', 'codec_tag': '0x31766568', 'width': 3840, 'height': 2160, 'coded_width': 3840, 'coded_height': 2160, 'closed_captions': 0, 'film_grain': 0, 'has_b_frames': 2, 'pix_fmt': 'yuv420p', 'level': 153, 'color_range': 'tv', 'chroma_location': 'left', 'field_order': 'progressive', 'refs': 1, 'id': '0x1', 'r_frame_rate': '50/1', 'avg_frame_rate': '50/1', 'time_base': '1/12800', 'start_pts': 0, 'start_time': '0.000000', 'duration_ts': 384000, 'duration': '30.000000', 'bit_rate': '5591491', 'nb_frames': '1500', 'extradata_size': 2202, 'disposition': {'default': 1, 'dub': 0, 'original': 0, 'comment': 0, 'lyrics': 0, 'karaoke': 0, 'forced': 0, 'hearing_impaired': 0, 'visual_impaired': 0, 'clean_effects': 0, 'attached_pic': 0, 'timed_thumbnails': 0, 'captions': 0, 'descriptions': 0, 'metadata': 0, 'dependent': 0, 'still_image': 0}, 'tags': {'language': 'und', 'handler_name': 'VideoHandler', 'vendor_id': '[0][0][0][0]'}}], 'format': {'filename': 'test_vids/encoded/smithyHEVC_cf34.mp4', 'nb_streams': 1, 'nb_programs': 0, 'format_name': 'mov,mp4,m4a,3gp,3g2,mj2', 'format_long_name': 'QuickTime / MOV', 'start_time': '0.000000', 'duration': '30.000000', 'size': '20990930', 'bit_rate': '5597581', 'probe_score': 100, 'tags': {'major_brand': 'isom', 'minor_version': '512', 'compatible_brands': 'isomiso2mp41', 'encoder': 'Lavf59.22.100'}}}\n"
     ]
    }
   ],
   "source": [
    "import subprocess\n",
    "import json\n",
    "command=\"ffprobe -v error -select_streams v:0 -show_entries format:stream -print_format json test_vids/encoded/smithyHEVC_cf34.mp4\"\n",
    "cout = subprocess.run(command.split(), stdout=subprocess.PIPE, stderr=subprocess.STDOUT).stdout\n",
    "dict = json.loads(cout)  # Convert data from JSON string to dictionary\n",
    "print(dict)"
   ]
  },
  {
   "cell_type": "code",
   "execution_count": 161,
   "id": "72e2bf06",
   "metadata": {},
   "outputs": [
    {
     "name": "stdout",
     "output_type": "stream",
     "text": [
      "32\n"
     ]
    },
    {
     "data": {
      "image/png": "[encoded data removed]",
      "text/plain": [
       "<Figure size 432x288 with 1 Axes>"
      ]
     },
     "metadata": {
      "needs_background": "light"
     },
     "output_type": "display_data"
    }
   ],
   "source": [
    "import json\n",
    "import numpy as np\n",
    "import matplotlib.pyplot as pl\n",
    "from scipy.optimize import curve_fit\n",
    "\n",
    "def find_closest(arr, val):\n",
    "    idx = (np.abs(arr - val)).argmin()\n",
    "    return idx\n",
    "def log_fit(x, a, b, c):\n",
    "    return a * np.log(x + b) + c\n",
    "\n",
    "source = \"forest\"\n",
    "filepath = \"rd_results/rd_\" + source + \".json\"\n",
    "bitrates = []\n",
    "vmafs = []\n",
    "\n",
    "with open(filepath, 'r') as r:\n",
    "    i_data = json.load(r)\n",
    "for item in i_data:\n",
    "    if(item[\"codec\"] == \"vp9\"):\n",
    "        bitrates.append(item[\"bitrate\"])\n",
    "        vmafs.append(item[\"vmaf\"])\n",
    "num_samples = (max(bitrates) - min(bitrates)) / 26\n",
    "\n",
    "popt, pcov = curve_fit(log_fit, bitrates, vmafs, maxfev=2000)\n",
    "xnew = np.arange(min(bitrates), max(bitrates)+num_samples, num_samples)\n",
    "interp_vmaf = log_fit(xnew, *popt)\n",
    "pl.plot(bitrates, vmafs, 'bo')\n",
    "pl.plot(xnew, interp_vmaf, 'r')\n",
    "pl.grid(True)\n",
    "\n",
    "target_bitrate = 12000000\n",
    "target_vmaf = 98\n",
    "opt_dist = True\n",
    "if(opt_dist):\n",
    "    cfr = find_closest(interp_vmaf, target_vmaf)\n",
    "else:\n",
    "    cfr = find_closest(xnew, target_bitrate)\n",
    "print(cfr + 15)\n",
    "    "
   ]
  },
  {
   "cell_type": "code",
   "execution_count": null,
   "id": "0925f689",
   "metadata": {},
   "outputs": [],
   "source": []
  }
 ],
 "metadata": {
  "kernelspec": {
   "display_name": "Python 3 (ipykernel)",
   "language": "python",
   "name": "python3"
  },
  "language_info": {
   "codemirror_mode": {
    "name": "ipython",
    "version": 3
   },
   "file_extension": ".py",
   "mimetype": "text/x-python",
   "name": "python",
   "nbconvert_exporter": "python",
   "pygments_lexer": "ipython3",
   "version": "3.8.10"
  }
 },
 "nbformat": 4,
 "nbformat_minor": 5
}
