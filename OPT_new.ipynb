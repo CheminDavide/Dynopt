{
 "cells": [
  {
   "cell_type": "markdown",
   "id": "ddee1d68",
   "metadata": {},
   "source": [
    "# Lagrange opt\n",
    "## Combinations"
   ]
  },
  {
   "cell_type": "markdown",
   "id": "a193523a",
   "metadata": {},
   "source": [
    "* Import libraries\n",
    "* Define the combine function to generate all the possible combination among elements of a matrix\n",
    "* Init variables"
   ]
  },
  {
   "cell_type": "code",
   "execution_count": 1,
   "id": "2517c1b6",
   "metadata": {},
   "outputs": [],
   "source": [
    "import json\n",
    "import numpy as np\n",
    "import matplotlib.pyplot as pl\n",
    "\n",
    "def combine(*pools):\n",
    "    result = [[]]\n",
    "    for pool in pools: #for each scene\n",
    "        result = [x+[y] for x in result for y in pool] #nested loop\n",
    "    #add a new column at each loop and the rows required to cover all possibilities\n",
    "    for prod in result: #return an iterable generator\n",
    "        yield prod\n",
    "\n",
    "source = \"testscene\"\n",
    "filepath = \"rd_results/rd_\" + source + \".json\"\n",
    "\n",
    "with open(filepath, 'r') as r:\n",
    "    i_data = json.load(r)\n",
    "    \n",
    "s_rates = np.zeros(shape=(3,5), dtype=int) #TODO: auto\n",
    "s_dists = np.zeros(shape=(3,5)) #TODO: auto\n",
    "i = 0 #cfr index\n",
    "scene_count = 0 #store past scene index\n",
    "\n",
    "# !! TODO: scene to shot !!\n",
    "for item in i_data:\n",
    "    if(item[\"codec\"] == \"hevc\"):\n",
    "        scene_index = item[\"scene_index\"]\n",
    "        if(scene_index != scene_count): #when the shot changes\n",
    "            i = 0\n",
    "            scene_count = scene_index\n",
    "        s_rates[scene_index, i] = item[\"bitrate\"]\n",
    "        s_dists[scene_index, i] = 100 - item[\"vmaf\"]\n",
    "        i += 1\n",
    "\n",
    "t = 6 #TODO compute\n",
    "rates = np.einsum('ij->i', list(combine(*s_rates))) / t #rate (pesta) vs bitrate (solo somma)\n",
    "dists = np.einsum('ij->i', list(combine(*s_dists))) / (scene_count + 1) #sum of rows\n",
    "# media pesata"
   ]
  },
  {
   "cell_type": "markdown",
   "id": "38ef34a8",
   "metadata": {},
   "source": [
    "plot results"
   ]
  },
  {
   "cell_type": "code",
   "execution_count": 2,
   "id": "ef58c279",
   "metadata": {},
   "outputs": [
    {
     "data": {
      "image/png": "[encoded data removed]",
      "text/plain": [
       "<Figure size 432x288 with 1 Axes>"
      ]
     },
     "metadata": {
      "needs_background": "light"
     },
     "output_type": "display_data"
    }
   ],
   "source": [
    "pl.plot(rates, dists, 'bo')\n",
    "pl.xlabel(\"bitrate/sec\")\n",
    "pl.ylabel(\"distortion (IVMAF)\")\n",
    "pl.grid(True)\n",
    "\n",
    "target_rate = 12000000\n",
    "target_dist = 100 - 80\n",
    "opt_dist = True"
   ]
  },
  {
   "cell_type": "markdown",
   "id": "3853efee",
   "metadata": {},
   "source": [
    "## Discrete opt with Lagrange\n",
    "* opt not absolute, but with a target rate? Or also dist?\n",
    " 1 relative vmafs and rate\n",
    " 2 absolute slope tangent (calcolando tutti i punti o con stima come fatto)\n",
    "* is there the need to describe the convex hull? no\n",
    " nooo\n",
    "\n",
    "Bisection algorithm:\n",
    "Find the initial lambda value\n",
    "* (coding unit = shot ??) each coding unit is made of a combination of shots coded at different crfs.\n",
    " \n",
    "* why more minima and maxima?\n",
    " sequenza no scena\n",
    " \n",
    "* how to compute again TOT Rc and Dc? TOT?\n",
    "stop when current rate = max rate, otherwise compute again lambda (same formula):\n",
    "- if it's more new Rr = Rc (Rc è complessivo)\n",
    "- if it's less new Rl = Rc\n",
    "verifica alg calcolando tutti punti e differenza"
   ]
  },
  {
   "cell_type": "code",
   "execution_count": null,
   "id": "a60c6bc7",
   "metadata": {},
   "outputs": [],
   "source": []
  }
 ],
 "metadata": {
  "kernelspec": {
   "display_name": "Python 3 (ipykernel)",
   "language": "python",
   "name": "python3"
  },
  "language_info": {
   "codemirror_mode": {
    "name": "ipython",
    "version": 3
   },
   "file_extension": ".py",
   "mimetype": "text/x-python",
   "name": "python",
   "nbconvert_exporter": "python",
   "pygments_lexer": "ipython3",
   "version": "3.8.10"
  }
 },
 "nbformat": 4,
 "nbformat_minor": 5
}
