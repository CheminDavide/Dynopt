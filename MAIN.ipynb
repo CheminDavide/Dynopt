{
 "cells": [
  {
   "cell_type": "markdown",
   "id": "9496f57f",
   "metadata": {},
   "source": [
    "# Dynamic optimization"
   ]
  },
  {
   "cell_type": "markdown",
   "id": "46d1e929",
   "metadata": {},
   "source": [
    "## Index\n",
    "1. starting from single shots\n",
    "2. coding raw videos in AVC, HEVC, VP9 (in seguito ed eventualmente AV1 e VVC) using:\n",
    "    - ffmpeg library for AVC\n",
    "    - TODO\n",
    "    \n",
    "3. script per generazione automatica di codifiche multiple, in python, includendo anche risoluzioni fino a 4k (sulle 10 risoluzioni proposte dal paper, selezionarne 5 e aggiungerne 2 oltre l'HD) con convex hull RD dei singoli shot e visualizzazione in MATLAB\n",
    "\n",
    "4. valutazione risultati con PSNR, MSSIM e soprattutto VMAF e comparazione per contenuto dei singoli shot\n",
    "\n",
    "5. memorizzazione risultati su csv\n",
    "\n",
    "6. divisione video in spezzoni con ffmpeg\n",
    "\n",
    "7. script python per generazione dell'intero video codificato seguendo i passi descritti finora per ogni shot e con convex hull generale; test su 3 titoli: ritmo lento, azione e animazione\n",
    "\n",
    "8. valutazione risultati come punto e. anche in base alla durata degli shot"
   ]
  },
  {
   "cell_type": "code",
   "execution_count": 1,
   "id": "d92d1881",
   "metadata": {},
   "outputs": [
    {
     "name": "stdout",
     "output_type": "stream",
     "text": [
      "ffprobe version 4.2.4-1ubuntu0.1 Copyright (c) 2007-2020 the FFmpeg developers\n",
      "  built with gcc 9 (Ubuntu 9.3.0-10ubuntu2)\n",
      "  configuration: --prefix=/usr --extra-version=1ubuntu0.1 --toolchain=hardened --libdir=/usr/lib/x86_64-linux-gnu --incdir=/usr/include/x86_64-linux-gnu --arch=amd64 --enable-gpl --disable-stripping --enable-avresample --disable-filter=resample --enable-avisynth --enable-gnutls --enable-ladspa --enable-libaom --enable-libass --enable-libbluray --enable-libbs2b --enable-libcaca --enable-libcdio --enable-libcodec2 --enable-libflite --enable-libfontconfig --enable-libfreetype --enable-libfribidi --enable-libgme --enable-libgsm --enable-libjack --enable-libmp3lame --enable-libmysofa --enable-libopenjpeg --enable-libopenmpt --enable-libopus --enable-libpulse --enable-librsvg --enable-librubberband --enable-libshine --enable-libsnappy --enable-libsoxr --enable-libspeex --enable-libssh --enable-libtheora --enable-libtwolame --enable-libvidstab --enable-libvorbis --enable-libvpx --enable-libwavpack --enable-libwebp --enable-libx265 --enable-libxml2 --enable-libxvid --enable-libzmq --enable-libzvbi --enable-lv2 --enable-omx --enable-openal --enable-opencl --enable-opengl --enable-sdl2 --enable-libdc1394 --enable-libdrm --enable-libiec61883 --enable-nvenc --enable-chromaprint --enable-frei0r --enable-libx264 --enable-shared\n",
      "  libavutil      56. 31.100 / 56. 31.100\n",
      "  libavcodec     58. 54.100 / 58. 54.100\n",
      "  libavformat    58. 29.100 / 58. 29.100\n",
      "  libavdevice    58.  8.100 / 58.  8.100\n",
      "  libavfilter     7. 57.100 /  7. 57.100\n",
      "  libavresample   4.  0.  0 /  4.  0.  0\n",
      "  libswscale      5.  5.100 /  5.  5.100\n",
      "  libswresample   3.  5.100 /  3.  5.100\n",
      "  libpostproc    55.  5.100 / 55.  5.100\n",
      "Input #0, yuv4mpegpipe, from 'temp/in_to_tree_444_720p50.y4m':\n",
      "  Duration: 00:00:10.00, start: 0.000000, bitrate: 1105922 kb/s\n",
      "    Stream #0:0: Video: rawvideo (444P / 0x50343434), yuv444p(progressive), 1280x720, SAR 1:1 DAR 16:9, 50 fps, 50 tbr, 50 tbn, 50 tbc\n"
     ]
    }
   ],
   "source": [
    "import ffmpeg\n",
    "!ffprobe temp/in_to_tree_444_720p50.y4m"
   ]
  },
  {
   "cell_type": "code",
   "execution_count": null,
   "id": "fe90506a",
   "metadata": {},
   "outputs": [],
   "source": []
  }
 ],
 "metadata": {
  "kernelspec": {
   "display_name": "Python 3 (ipykernel)",
   "language": "python",
   "name": "python3"
  },
  "language_info": {
   "codemirror_mode": {
    "name": "ipython",
    "version": 3
   },
   "file_extension": ".py",
   "mimetype": "text/x-python",
   "name": "python",
   "nbconvert_exporter": "python",
   "pygments_lexer": "ipython3",
   "version": "3.8.10"
  }
 },
 "nbformat": 4,
 "nbformat_minor": 5
}
