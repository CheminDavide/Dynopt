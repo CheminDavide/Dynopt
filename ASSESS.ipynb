{
 "cells": [
  {
   "cell_type": "markdown",
   "id": "bb4d1517",
   "metadata": {},
   "source": [
    "## VMAF"
   ]
  },
  {
   "cell_type": "code",
   "execution_count": null,
   "id": "fb1da30f",
   "metadata": {},
   "outputs": [],
   "source": [
    "import subprocess\n",
    "c_vmaf = f\"ffmpeg -f rawvideo -r 50 -video_size 3840x2160 -i test_vids/downsampled/smithy_3840.yuv \\\n",
    "        -i test_vids/encoded/smithyAVC_3840_cf1.mp4 \\\n",
    "        -lavfi \\\"[0:v]setpts=PTS-STARTPTS[ref];\\\n",
    "                 [1:v]scale=3840x2160:flags=bicubic, setpts=PTS-STARTPTS[dist];\\\n",
    "                 [dist][ref]libvmaf=log_path=rd_results/vmaf_logs.json:log_fmt=json\\\" \\\n",
    "        -f null -\"\n",
    "subprocess.call(c_vmaf, shell=True)"
   ]
  }
 ],
 "metadata": {
  "kernelspec": {
   "display_name": "Python 3 (ipykernel)",
   "language": "python",
   "name": "python3"
  },
  "language_info": {
   "codemirror_mode": {
    "name": "ipython",
    "version": 3
   },
   "file_extension": ".py",
   "mimetype": "text/x-python",
   "name": "python",
   "nbconvert_exporter": "python",
   "pygments_lexer": "ipython3",
   "version": "3.8.10"
  }
 },
 "nbformat": 4,
 "nbformat_minor": 5
}
