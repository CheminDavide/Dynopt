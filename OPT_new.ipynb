{
 "cells": [
  {
   "cell_type": "markdown",
   "id": "ddee1d68",
   "metadata": {},
   "source": [
    "# Results and plots"
   ]
  },
  {
   "cell_type": "markdown",
   "id": "a193523a",
   "metadata": {},
   "source": [
    "## Brute force approach"
   ]
  },
  {
   "cell_type": "code",
   "execution_count": 7,
   "id": "f541c961",
   "metadata": {},
   "outputs": [],
   "source": [
    "res = {\"content\": \"rush_field_cuts_SDp\",\"codec\": \"avc\",\"width\": 480,\"height\": 270,\"fps\": 29.97,\"shots\": [{\"index\": 0,\"duration\": 10.611,\"assessment\": {\"crf\": [0,0,0,0,0,0,0,0,0,0,0,0,0,0,0,0,0,0,0,0,0,0,0,0,0,25,26,27,28,29,0,31,32,33,34,35,0,0,0,0,0,0,0,0,0,0,0,0,0,0,0,0],\"rate\": [0,0,0,0,0,0,0,0,0,0,0,0,0,0,0,0,0,0,0,0,0,0,0,0,0,1254477,1085638,935833,801799,684622,0,492681,414777,347610,290466,242212,0,0,0,0,0,0,0,0,0,0,0,0,0,0,0,0],\"dist\": [0.0,0.0,0.0,0.0,0.0,0.0,0.0,0.0,0.0,0.0,0.0,0.0,0.0,0.0,0.0,0.0,0.0,0.0,0.0,0.0,0.0,0.0,0.0,0.0,0.0,88.985674,87.071674,84.816501,82.444409,79.70459,0.0,73.101066,69.42523,65.237103,60.838325,56.019107,0.0,0.0,0.0,0.0,0.0,0.0,0.0,0.0,0.0,0.0,0.0,0.0,0.0,0.0,0.0,0.0]},\"opt_points\": [{\"metric\": \"dist\",\"target\": 75,\"crf\": 32}]},{\"index\": 1,\"duration\": 2.003,\"assessment\": {\"crf\": [0,0,0,0,0,0,0,0,0,0,0,0,0,0,0,0,0,0,0,0,0,0,0,0,0,25,26,27,28,29,0,31,32,33,34,35,0,0,0,0,0,0,0,0,0,0,0,0,0,0,0,0],\"rate\": [0,0,0,0,0,0,0,0,0,0,0,0,0,0,0,0,0,0,0,0,0,0,0,0,0,1680954,1468153,1280938,1117715,973156,0,738751,640619,558218,480850,416163,0,0,0,0,0,0,0,0,0,0,0,0,0,0,0,0],\"dist\": [0.0,0.0,0.0,0.0,0.0,0.0,0.0,0.0,0.0,0.0,0.0,0.0,0.0,0.0,0.0,0.0,0.0,0.0,0.0,0.0,0.0,0.0,0.0,0.0,0.0,98.282299,96.994531,95.132537,92.543064,89.732716,0.0,83.433942,79.703344,75.78538,71.711082,67.100226,0.0,0.0,0.0,0.0,0.0,0.0,0.0,0.0,0.0,0.0,0.0,0.0,0.0,0.0,0.0,0.0]},\"opt_points\": [{\"metric\": \"dist\",\"target\": 75,\"crf\": 33}]},{\"index\": 2,\"duration\": 3.404,\"assessment\": {\"crf\": [0,0,0,0,0,0,0,0,0,0,0,0,0,0,0,0,0,0,0,0,0,0,0,0,0,25,26,27,28,29,0,31,32,33,34,35,0,0,0,0,0,0,0,0,0,0,0,0,0,0,0,0],\"rate\": [0,0,0,0,0,0,0,0,0,0,0,0,0,0,0,0,0,0,0,0,0,0,0,0,0,916086,811727,716319,633882,561287,0,439649,388947,345212,306079,271121,0,0,0,0,0,0,0,0,0,0,0,0,0,0,0,0],\"dist\": [0.0,0.0,0.0,0.0,0.0,0.0,0.0,0.0,0.0,0.0,0.0,0.0,0.0,0.0,0.0,0.0,0.0,0.0,0.0,0.0,0.0,0.0,0.0,0.0,0.0,92.019708,90.314922,88.277713,86.247534,83.721455,0.0,78.043433,74.8657,71.325387,67.802058,64.155059,0.0,0.0,0.0,0.0,0.0,0.0,0.0,0.0,0.0,0.0,0.0,0.0,0.0,0.0,0.0,0.0]},\"opt_points\": [{\"metric\": \"dist\",\"target\": 75,\"crf\": 29}]},{\"index\": 3,\"duration\": 3.004,\"assessment\": {\"crf\": [0,0,0,0,0,0,0,0,0,0,0,0,0,0,0,0,0,0,0,0,0,0,0,0,0,25,26,27,28,29,0,31,32,33,34,35,0,0,0,0,0,0,0,0,0,0,0,0,0,0,0,0],\"rate\": [0,0,0,0,0,0,0,0,0,0,0,0,0,0,0,0,0,0,0,0,0,0,0,0,0,729488,649978,578247,516487,459419,0,365965,324482,290346,258378,230154,0,0,0,0,0,0,0,0,0,0,0,0,0,0,0,0],\"dist\": [0.0,0.0,0.0,0.0,0.0,0.0,0.0,0.0,0.0,0.0,0.0,0.0,0.0,0.0,0.0,0.0,0.0,0.0,0.0,0.0,0.0,0.0,0.0,0.0,0.0,93.269671,91.412661,89.344999,87.1439,84.616461,0.0,78.855269,75.580998,72.044948,68.531343,64.507931,0.0,0.0,0.0,0.0,0.0,0.0,0.0,0.0,0.0,0.0,0.0,0.0,0.0,0.0,0.0,0.0]},\"opt_points\": [{\"metric\": \"dist\",\"target\": 75,\"crf\": 29}]}]}"
   ]
  },
  {
   "cell_type": "code",
   "execution_count": 17,
   "id": "2517c1b6",
   "metadata": {
    "scrolled": true
   },
   "outputs": [
    {
     "name": "stdout",
     "output_type": "stream",
     "text": [
      "459419\n"
     ]
    }
   ],
   "source": [
    "import json\n",
    "import numpy as np\n",
    "import matplotlib.pyplot as pl\n",
    "\n",
    "print(res[\"shots\"][3][\"assessment\"][\"rate\"][29])\n",
    "\n",
    "r1=np.array([414777,558218,561287,459419])\n",
    "d1=np.array([69.42523,75.78538,83.721455,84.616461])\n",
    "out_crfs= [32, 33, 29, 29]\n"
   ]
  },
  {
   "cell_type": "code",
   "execution_count": 18,
   "id": "5ec2ff3f",
   "metadata": {},
   "outputs": [
    {
     "data": {
      "text/plain": [
       "<Figure size 432x288 with 0 Axes>"
      ]
     },
     "execution_count": 18,
     "metadata": {},
     "output_type": "execute_result"
    },
    {
     "data": {
      "image/png": "[encoded data removed]",
      "text/plain": [
       "<Figure size 860x540 with 1 Axes>"
      ]
     },
     "metadata": {
      "needs_background": "light"
     },
     "output_type": "display_data"
    },
    {
     "data": {
      "text/plain": [
       "<Figure size 432x288 with 0 Axes>"
      ]
     },
     "metadata": {},
     "output_type": "display_data"
    }
   ],
   "source": [
    "my_dpi = 96\n",
    "pl.figure(figsize=(860/my_dpi, 540/my_dpi), dpi=my_dpi)\n",
    "pl.plot(r1/1000, 100-d1, 'bo')\n",
    "#pl.plot([start[0],end[0]],[start[1],end[1]])\n",
    "pl.grid(True)\n",
    "pl.title(\"RD shot 0 - points\")\n",
    "pl.ylabel(\"Distortion IVMAF\")\n",
    "pl.xlabel(\"MB Rate\")\n",
    "pl.figure()"
   ]
  },
  {
   "cell_type": "code",
   "execution_count": null,
   "id": "a60c6bc7",
   "metadata": {},
   "outputs": [],
   "source": [
    "import json\n",
    "import numpy as np\n",
    "from scipy.optimize import curve_fit\n",
    "\n",
    "def find_closest(arr, val):\n",
    "    idx = (np.abs(arr - val)).argmin()\n",
    "    return idx\n",
    "def log_fit(x, a, b, c):\n",
    "    return a * np.log(x + b) + c\n",
    "\n",
    "source = \"forest\"\n",
    "filepath = \"rd_results/rd_\" + source + \".json\"\n",
    "bitrates = []\n",
    "vmafs = []\n",
    "\n",
    "with open(filepath, 'r') as r:\n",
    "    i_data = json.load(r)\n",
    "for item in i_data:\n",
    "    if(item[\"codec\"] == \"vp9\"):\n",
    "        bitrates.append(item[\"bitrate\"])\n",
    "        vmafs.append(item[\"vmaf\"])\n",
    "num_samples = (max(bitrates) - min(bitrates)) / 26\n",
    "\n",
    "#LOG CURVE FITTING\n",
    "popt, pcov = curve_fit(log_fit, bitrates, vmafs, maxfev=2000)\n",
    "xnew = np.arange(min(bitrates), max(bitrates)+num_samples, num_samples)\n",
    "interp_vmaf = log_fit(xnew, *popt)\n",
    "\n",
    "#SELECT TARGET\n",
    "target_bitrate = 12000000\n",
    "target_vmaf = 98\n",
    "opt_dist = True\n",
    "if(opt_dist):\n",
    "    crf = find_closest(interp_vmaf, target_vmaf)\n",
    "else:\n",
    "    crf = find_closest(xnew, target_bitrate)\n",
    "print(crf + 15)"
   ]
  },
  {
   "cell_type": "code",
   "execution_count": null,
   "id": "73e59d69",
   "metadata": {},
   "outputs": [],
   "source": [
    "import matplotlib.pyplot as pl\n",
    "\n",
    "pl.plot(bitrates, vmafs, 'bo')\n",
    "pl.plot(xnew, interp_vmaf, 'r')\n",
    "pl.grid(True)\n",
    "\n",
    "#TODO: covariance testing, MSE assessment"
   ]
  },
  {
   "cell_type": "markdown",
   "id": "8f5e4f9a",
   "metadata": {},
   "source": [
    "The same but with RD:"
   ]
  },
  {
   "cell_type": "code",
   "execution_count": null,
   "id": "5fd89e2f",
   "metadata": {},
   "outputs": [],
   "source": [
    "import json\n",
    "import numpy as np\n",
    "from scipy.optimize import curve_fit\n",
    "\n",
    "def find_closest(arr, val):\n",
    "    idx = (np.abs(arr - val)).argmin()\n",
    "    return idx\n",
    "\n",
    "def log_fit(x, a, b, c): #anche polinomio 2 grado\n",
    "    return a * np.log(x + b) + c      \n",
    "\n",
    "source = \"forest\"\n",
    "filepath = \"rd_results/rd_\" + source + \".json\"\n",
    "rates = []\n",
    "dists = []\n",
    "\n",
    "with open(filepath, 'r') as r:\n",
    "    i_data = json.load(r)\n",
    "for item in i_data:\n",
    "    if(item[\"codec\"] == \"hevc\"):\n",
    "        rates.append(item[\"bitrate\"])\n",
    "        dists.append(100 - item[\"vmaf\"])\n",
    "num_samples = (max(rates) - min(rates)) / 25 #to change\n",
    "\n",
    "target_rate = 12000000\n",
    "target_dist = 100 - 80\n",
    "opt_dist = True\n",
    "\n",
    "#LOG CURVE FITTING\n",
    "popt, pcov = curve_fit(log_fit, rates, dists, maxfev=1000)\n",
    "xrate = np.arange(min(rates), max(rates) + num_samples, num_samples)\n",
    "ydist = np.asarray(log_fit(xrate, *popt))\n",
    "if(opt_dist):\n",
    "    crf = find_closest(ydist, target_dist)\n",
    "else:\n",
    "    crf = find_closest(xrate, target_rate)\n",
    "print(crf + 15) #to change"
   ]
  },
  {
   "cell_type": "code",
   "execution_count": null,
   "id": "ed50c5f8",
   "metadata": {},
   "outputs": [],
   "source": [
    "import matplotlib.pyplot as pl\n",
    "\n",
    "pl.plot(rates, dists, 'bo')\n",
    "pl.plot(xrate, ydist, 'r')\n",
    "pl.grid(True)"
   ]
  },
  {
   "cell_type": "code",
   "execution_count": null,
   "id": "81f4cc4a",
   "metadata": {},
   "outputs": [],
   "source": [
    "#NORMALIZATION\n",
    "rates = np.asarray(rates)\n",
    "dists = np.asarray(dists)\n",
    "nx = (xrate - min(xrate))/(max(xrate) - min(xrate))\n",
    "ny = (ydist - min(ydist))/(max(ydist) - min(ydist))\n",
    "#npopt, npcov = curve_fit(log_fit, nx, ny, maxfev=1000)\n",
    "#num_samples = 1 / 25 #to change\n",
    "#nxrate = np.arange(min(nx), max(nx) + num_samples, num_samples)\n",
    "#nydist = np.asarray(log_fit(nxrate, *popt))\n",
    "ncrf = np.argmin(np.sqrt(np.add(nx**2, ny**2))) \n",
    "print(ncrf + 15)"
   ]
  },
  {
   "cell_type": "code",
   "execution_count": null,
   "id": "4f3a6871",
   "metadata": {},
   "outputs": [],
   "source": [
    "import matplotlib.pyplot as pl\n",
    "\n",
    "x1 = nx[ncrf]\n",
    "y1 = ny[ncrf]\n",
    "pl.plot(x1, y1, 'go')\n",
    "pl.plot(nx, ny, 'r')\n",
    "pl.grid(True)"
   ]
  },
  {
   "cell_type": "code",
   "execution_count": 2,
   "id": "7cf6f820",
   "metadata": {},
   "outputs": [
    {
     "name": "stdout",
     "output_type": "stream",
     "text": [
      "5\n"
     ]
    },
    {
     "data": {
      "text/plain": [
       "<Figure size 432x288 with 0 Axes>"
      ]
     },
     "execution_count": 2,
     "metadata": {},
     "output_type": "execute_result"
    },
    {
     "data": {
      "image/png": "[encoded data removed]",
      "text/plain": [
       "<Figure size 432x288 with 1 Axes>"
      ]
     },
     "metadata": {
      "needs_background": "light"
     },
     "output_type": "display_data"
    },
    {
     "data": {
      "text/plain": [
       "<Figure size 432x288 with 0 Axes>"
      ]
     },
     "metadata": {},
     "output_type": "display_data"
    }
   ],
   "source": [
    "import numpy as np\n",
    "from scipy.optimize import curve_fit\n",
    "import matplotlib.pyplot as pl\n",
    "\n",
    "def density_space(xs, ps, n, endpoint=False, order=1):\n",
    "    from scipy.interpolate import interp1d\n",
    "    from scipy.integrate import cumtrapz\n",
    "    \n",
    "    cps = cumtrapz(ps, xs, initial=0)\n",
    "    cps *= (1/cps[-1])\n",
    "    intfunc = interp1d(cps, xs, kind=order)\n",
    "    return intfunc(np.linspace(0, 1, n, endpoint=endpoint))\n",
    "\n",
    "def compute_slope(xl,yl,xr,yr):\n",
    "    return -(yl-yr)/(xl-xr)\n",
    "def eq_fit(x, a, b, c):\n",
    "    #return a * np.log(x + b) + c\n",
    "    #return a*x**2 + b*x + c\n",
    "    #return c + (a / np.log2(x + b))\n",
    "    return a / (x + b) + c\n",
    "def as_slope(x, a):\n",
    "    return a / (x ** 2)\n",
    "def line(x, x1, y1):\n",
    "    return -as_slope(x1, par[0])*(x - x1) + y1\n",
    "def show_tangent(x1,y1):\n",
    "    # Define x data range for tangent line\n",
    "    xrange = np.linspace(x1-2000000, x1+2000000, 2)\n",
    "    pl.plot(xrange, line(xrange, x1, y1), 'C1--', linewidth = 2)\n",
    "\n",
    "crf = [0, 13, 26, 38, 51]\n",
    "rates = [18729544, 5554671, 1085638, 138604, 12974]\n",
    "dists = [8.0860000e-03, 1.0444440e+00, 1.2928326e+01, 5.9431145e+01, 9.5521998e+01]\n",
    "par, cov = curve_fit(eq_fit, rates, dists)\n",
    "num_samples = (max(rates) - min(rates)) / 51 #to change\n",
    "xnew = np.arange(min(rates), max(rates)+num_samples, num_samples)\n",
    "#xnew = density_space(rates,eq_fit(rates, *par),n=52, endpoint=True)\n",
    "fun_curve = eq_fit(xnew, *par)\n",
    "t_ext = compute_slope(rates[4],dists[4],rates[0],dists[0])\n",
    "#print(\"t-slope: \"+str(\"%.16f\" % t_ext[\"slope\"]))\n",
    "#print(t_ext)\n",
    "\n",
    "print(np.argmin(abs(t_ext-(par[0]/np.einsum('i,i->i',xnew,xnew)))))\n",
    "#pl.plot(xnew1,fun_curve)\n",
    "pl.plot(rates, dists, 'bo')\n",
    "pl.plot(xnew, fun_curve, 'ro')\n",
    "show_tangent(xnew[19],fun_curve[19])\n",
    "pl.grid(True)\n",
    "pl.figure()\n"
   ]
  },
  {
   "cell_type": "code",
   "execution_count": 3,
   "id": "ad7af3e7",
   "metadata": {},
   "outputs": [
    {
     "ename": "NameError",
     "evalue": "name 'xrate' is not defined",
     "output_type": "error",
     "traceback": [
      "\u001b[0;31m---------------------------------------------------------------------------\u001b[0m",
      "\u001b[0;31mNameError\u001b[0m                                 Traceback (most recent call last)",
      "Input \u001b[0;32mIn [3]\u001b[0m, in \u001b[0;36m<cell line: 12>\u001b[0;34m()\u001b[0m\n\u001b[1;32m      9\u001b[0m     xrange \u001b[38;5;241m=\u001b[39m np\u001b[38;5;241m.\u001b[39mlinspace(x1\u001b[38;5;241m-\u001b[39m\u001b[38;5;241m50000000\u001b[39m, x1\u001b[38;5;241m+\u001b[39m\u001b[38;5;241m50000000\u001b[39m, \u001b[38;5;241m2\u001b[39m)\n\u001b[1;32m     10\u001b[0m     pl\u001b[38;5;241m.\u001b[39mplot(xrange, line(xrange, x1, y1), \u001b[38;5;124m'\u001b[39m\u001b[38;5;124mC1--\u001b[39m\u001b[38;5;124m'\u001b[39m, linewidth \u001b[38;5;241m=\u001b[39m \u001b[38;5;241m2\u001b[39m)\n\u001b[0;32m---> 12\u001b[0m x1 \u001b[38;5;241m=\u001b[39m \u001b[43mxrate\u001b[49m[crf]\n\u001b[1;32m     13\u001b[0m y1 \u001b[38;5;241m=\u001b[39m ydist[crf]\n\u001b[1;32m     15\u001b[0m pl\u001b[38;5;241m.\u001b[39mplot(x1, y1, \u001b[38;5;124m'\u001b[39m\u001b[38;5;124mgo\u001b[39m\u001b[38;5;124m'\u001b[39m)\n",
      "\u001b[0;31mNameError\u001b[0m: name 'xrate' is not defined"
     ]
    }
   ],
   "source": [
    "import matplotlib.pyplot as pl\n",
    "\n",
    "def slope(x):\n",
    "    return popt[0] / (x + popt[1])\n",
    "def line(x, x1, y1):\n",
    "    return slope(x1)*(x - x1) + y1\n",
    "def show_tangent(x1,y1):\n",
    "    # Define x data range for tangent line\n",
    "    xrange = np.linspace(x1-50000000, x1+50000000, 2)\n",
    "    pl.plot(xrange, line(xrange, x1, y1), 'C1--', linewidth = 2)\n",
    "\n",
    "x1 = xrate[crf]\n",
    "y1 = ydist[crf]\n",
    "\n",
    "pl.plot(x1, y1, 'go')\n",
    "pl.plot(xrate, ydist, 'r')\n",
    "show_tangent(x1,y1)\n",
    "pl.grid(True)\n",
    "\n",
    "#TODO: linear inverse testing"
   ]
  }
 ],
 "metadata": {
  "kernelspec": {
   "display_name": "Python 3 (ipykernel)",
   "language": "python",
   "name": "python3"
  },
  "language_info": {
   "codemirror_mode": {
    "name": "ipython",
    "version": 3
   },
   "file_extension": ".py",
   "mimetype": "text/x-python",
   "name": "python",
   "nbconvert_exporter": "python",
   "pygments_lexer": "ipython3",
   "version": "3.8.10"
  }
 },
 "nbformat": 4,
 "nbformat_minor": 5
}
