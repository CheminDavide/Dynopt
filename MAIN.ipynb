{
 "cells": [
  {
   "cell_type": "markdown",
   "id": "9496f57f",
   "metadata": {},
   "source": [
    "# Dynamic optimization"
   ]
  },
  {
   "cell_type": "code",
   "execution_count": 1,
   "id": "06157ea0",
   "metadata": {},
   "outputs": [
    {
     "name": "stdout",
     "output_type": "stream",
     "text": [
      "3.8.10\n"
     ]
    }
   ],
   "source": [
    "from platform import python_version\n",
    "print(python_version())"
   ]
  },
  {
   "cell_type": "markdown",
   "id": "46d1e929",
   "metadata": {},
   "source": [
    "## Testing phase\n",
    "1. starting from single shots from:\n",
    "    - https://media.xiph.org/video/derf/\n",
    "    - ftp://svtopencontent.svt.se\n",
    "\n",
    "2. coding raw videos in AVC, HEVC, VP9 (in seguito ed eventualmente AV1 e VVC) using:\n",
    "    - ffmpeg library for AVC, HEVC, VP9 and AV1\n",
    "    - Fraunhofer Versatile Video Encoder (VVenC) for VVC\n",
    "\n",
    "3. In this first testing phase we assess the different codecs, quality metrics, complexity of the contents, density and cbr steps by encoding multiple quality versions at different crf values. (see [Encoding Notebook](ENCODE.ipynb))\n",
    "\n",
    "4. Each of these shot is evaluated through PSNR and VMAF metrics, which are stored inside .json and .csv files togheter with the videos' encoding parameters. (see [Assessment Notebook](ASSESS.ipynb))"
   ]
  },
  {
   "cell_type": "code",
   "execution_count": 2,
   "id": "5845f64e",
   "metadata": {},
   "outputs": [],
   "source": [
    "# TODO: display plots"
   ]
  },
  {
   "cell_type": "markdown",
   "id": "c40772a7",
   "metadata": {},
   "source": [
    "## Optimization phase\n",
    "We suggest two methods for the dynamic optimization of video shots (still not scenes) based on rate-distortion techniques:\n",
    "1. Curve fitting, approximative but faster\n",
    "2. Recursive target search, slow and also to test the precision of the prevous one"
   ]
  },
  {
   "cell_type": "markdown",
   "id": "9c1646fc",
   "metadata": {},
   "source": [
    "## 1. Curve fitting\n",
    "Given the RQ points discover the logarithmic function that describes their trend and find the best crf for a specific target of bitrate or quality."
   ]
  },
  {
   "cell_type": "code",
   "execution_count": 3,
   "id": "72e2bf06",
   "metadata": {},
   "outputs": [
    {
     "name": "stdout",
     "output_type": "stream",
     "text": [
      "32\n"
     ]
    },
    {
     "name": "stderr",
     "output_type": "stream",
     "text": [
      "/home/ubuntu/video_dynopt/env/lib/python3.8/site-packages/scipy/optimize/_minpack_py.py:833: OptimizeWarning: Covariance of the parameters could not be estimated\n",
      "  warnings.warn('Covariance of the parameters could not be estimated',\n"
     ]
    }
   ],
   "source": [
    "import json\n",
    "import numpy as np\n",
    "from scipy.optimize import curve_fit\n",
    "\n",
    "def find_closest(arr, val):\n",
    "    idx = (np.abs(arr - val)).argmin()\n",
    "    return idx\n",
    "def log_fit(x, a, b, c):\n",
    "    return a * np.log(x + b) + c\n",
    "\n",
    "source = \"forest\"\n",
    "filepath = \"rd_results/rd_\" + source + \".json\"\n",
    "bitrates = []\n",
    "vmafs = []\n",
    "\n",
    "with open(filepath, 'r') as r:\n",
    "    i_data = json.load(r)\n",
    "for item in i_data:\n",
    "    if(item[\"codec\"] == \"vp9\"):\n",
    "        bitrates.append(item[\"bitrate\"])\n",
    "        vmafs.append(item[\"vmaf\"])\n",
    "num_samples = (max(bitrates) - min(bitrates)) / 26\n",
    "\n",
    "#LOG CURVE FITTING\n",
    "popt, pcov = curve_fit(log_fit, bitrates, vmafs, maxfev=2000)\n",
    "xnew = np.arange(min(bitrates), max(bitrates)+num_samples, num_samples)\n",
    "interp_vmaf = log_fit(xnew, *popt)\n",
    "\n",
    "#SELECT TARGET\n",
    "target_bitrate = 12000000\n",
    "target_vmaf = 98\n",
    "opt_dist = True\n",
    "if(opt_dist):\n",
    "    crf = find_closest(interp_vmaf, target_vmaf)\n",
    "else:\n",
    "    crf = find_closest(xnew, target_bitrate)\n",
    "print(crf + 15)\n",
    "    "
   ]
  },
  {
   "cell_type": "code",
   "execution_count": 4,
   "id": "a4ed1a55",
   "metadata": {},
   "outputs": [
    {
     "data": {
      "image/png": "[encoded data removed]",
      "text/plain": [
       "<Figure size 432x288 with 1 Axes>"
      ]
     },
     "metadata": {
      "needs_background": "light"
     },
     "output_type": "display_data"
    }
   ],
   "source": [
    "import matplotlib.pyplot as pl\n",
    "\n",
    "pl.plot(bitrates, vmafs, 'bo')\n",
    "pl.plot(xnew, interp_vmaf, 'r')\n",
    "pl.grid(True)\n",
    "\n",
    "#TODO: covariance testing, MSE assessment"
   ]
  },
  {
   "cell_type": "markdown",
   "id": "c38c98e0",
   "metadata": {},
   "source": [
    "The same but with RD:"
   ]
  },
  {
   "cell_type": "code",
   "execution_count": 75,
   "id": "c29fd61a",
   "metadata": {},
   "outputs": [
    {
     "name": "stdout",
     "output_type": "stream",
     "text": [
      "[4230288, 33291461, 13687865, 147758394, 69415444]\n",
      "[69.45263800000001, 23.869677999999993, 44.853526, 2.746516999999997, 10.516582]\n",
      "5520311.769230769\n",
      "15\n"
     ]
    },
    {
     "data": {
      "image/png": "[encoded data removed]",
      "text/plain": [
       "<Figure size 432x288 with 1 Axes>"
      ]
     },
     "metadata": {
      "needs_background": "light"
     },
     "output_type": "display_data"
    }
   ],
   "source": [
    "import json\n",
    "import numpy as np\n",
    "import matplotlib.pyplot as pl\n",
    "from scipy.optimize import curve_fit\n",
    "\n",
    "def find_closest(arr, val):\n",
    "    idx = (np.abs(arr - val)).argmin()\n",
    "    return idx\n",
    "def log_fit(x, a, b, c):\n",
    "    return a * np.log(x + b) + c\n",
    "\n",
    "source = \"forest\"\n",
    "filepath = \"rd_results/rd_\" + source + \".json\"\n",
    "bitrates = []\n",
    "vmafs = []\n",
    "\n",
    "with open(filepath, 'r') as r:\n",
    "    i_data = json.load(r)\n",
    "for item in i_data:\n",
    "    if(item[\"codec\"] == \"hevc\"):\n",
    "        bitrates.append(item[\"bitrate\"])\n",
    "        vmafs.append(100 - item[\"vmaf\"])\n",
    "num_samples = (max(bitrates) - min(bitrates)) / 26\n",
    "print(bitrates)\n",
    "print(vmafs)\n",
    "print(num_samples)\n",
    "#LOG CURVE FITTING\n",
    "popt, pcov = curve_fit(log_fit, bitrates, vmafs, maxfev=1000)\n",
    "xnew = np.arange(min(bitrates), max(bitrates), num_samples)\n",
    "interp_vmaf = log_fit(xnew, *popt)\n",
    "pl.plot(bitrates, vmafs, 'bo')\n",
    "pl.plot(xnew, interp_vmaf, 'ro')\n",
    "pl.grid(True)\n",
    "\n",
    "#OPT\n",
    "opt_rd = np.sqrt(np.add(np.asarray(np.log(xnew))**2, np.asarray(interp_vmaf)**2))\n",
    "\n",
    "#SELECT TARGET\n",
    "target_bitrate = 12000000\n",
    "target_vmaf = 98\n",
    "opt_dist = True\n",
    "if(opt_dist):\n",
    "    crf = find_closest(interp_vmaf, target_vmaf)\n",
    "else:\n",
    "    crf = find_closest(xnew, target_bitrate)\n",
    "print(crf + 15)"
   ]
  },
  {
   "cell_type": "code",
   "execution_count": 71,
   "id": "7ea11e6b",
   "metadata": {},
   "outputs": [
    {
     "data": {
      "image/png": "[encoded data removed]",
      "text/plain": [
       "<Figure size 432x288 with 1 Axes>"
      ]
     },
     "metadata": {
      "needs_background": "light"
     },
     "output_type": "display_data"
    }
   ],
   "source": [
    "import matplotlib.pyplot as pl\n",
    "\n",
    "pl.plot(bitrates, vmafs, 'bo')\n",
    "pl.plot(xnew, interp_vmaf, 'ro')\n",
    "pl.grid(True)\n",
    "\n",
    "#TODO: linear inverse testing"
   ]
  },
  {
   "cell_type": "markdown",
   "id": "774aea9e",
   "metadata": {},
   "source": [
    "## 2. Search\n",
    "- Encode the first video at a fixed crf\n",
    "- Encode two more versions with a +- delta of crf\n",
    "- Compute VMAF quality metrics\n",
    "- From RQ to RD points\n",
    "- Which one of these three points is closer to the origin?\n",
    "    - if it's the one in the middle reduce delta and repeat\n",
    "    - if it's one of the outer, encode just one another video, with the same delta, in that direction\n",
    "- Repeat until no more discrete crfs in between"
   ]
  },
  {
   "cell_type": "code",
   "execution_count": null,
   "id": "1c7dee1d",
   "metadata": {},
   "outputs": [],
   "source": []
  }
 ],
 "metadata": {
  "kernelspec": {
   "display_name": "Python 3 (ipykernel)",
   "language": "python",
   "name": "python3"
  },
  "language_info": {
   "codemirror_mode": {
    "name": "ipython",
    "version": 3
   },
   "file_extension": ".py",
   "mimetype": "text/x-python",
   "name": "python",
   "nbconvert_exporter": "python",
   "pygments_lexer": "ipython3",
   "version": "3.8.10"
  }
 },
 "nbformat": 4,
 "nbformat_minor": 5
}
