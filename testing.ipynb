{
 "cells": [
  {
   "cell_type": "markdown",
   "id": "9496f57f",
   "metadata": {},
   "source": [
    "# this notebook is just for testing"
   ]
  },
  {
   "cell_type": "code",
   "execution_count": 1,
   "id": "06157ea0",
   "metadata": {},
   "outputs": [
    {
     "name": "stdout",
     "output_type": "stream",
     "text": [
      "3.8.10\n"
     ]
    }
   ],
   "source": [
    "from platform import python_version\n",
    "print(python_version())"
   ]
  },
  {
   "cell_type": "code",
   "execution_count": 401,
   "id": "a89619f0",
   "metadata": {},
   "outputs": [
    {
     "name": "stdout",
     "output_type": "stream",
     "text": [
      "1154943\n",
      "-assessed= tests_vids/OPT_vids/rush_fiel_vmaf90fx_AVC.mp4\n",
      "91.227454\n"
     ]
    }
   ],
   "source": [
    "import os\n",
    "import subprocess\n",
    "import json\n",
    "import numpy as np\n",
    "import matplotlib.pyplot as pl\n",
    "import tkinter as tk #to import file\n",
    "from tkinter import filedialog #to open import dialog\n",
    "\n",
    "def print_info(file):\n",
    "    command = f\"ffprobe -v error -select_streams v:0 -show_entries format:stream -print_format json {file}\"\n",
    "    cout = subprocess.run(command.split(), stdout=subprocess.PIPE, stderr=subprocess.STDOUT).stdout\n",
    "    jout = json.loads(cout)\n",
    "    print(jout)\n",
    "            \n",
    "def get_bitrate(file):\n",
    "    command = f\"ffprobe -v error -select_streams v:0 -show_entries format:stream -print_format json {file}\"\n",
    "    cout = subprocess.run(command.split(), stdout=subprocess.PIPE, stderr=subprocess.STDOUT).stdout\n",
    "    jout = json.loads(cout)  # Convert data from JSON string to dictionary\n",
    "    return int(jout[\"format\"][\"bit_rate\"])\n",
    "\n",
    "def get_vmaf(dist,ref,r):\n",
    "    c_vmaf = f\"ffmpeg -i {ref} -i {dist} -hide_banner -loglevel error\\\n",
    "            -lavfi \\\"[0:v]setpts=PTS-STARTPTS[ref];\\\n",
    "                    [1:v]scale={r[0]}x{r[1]}:flags=bicubic,setpts=PTS-STARTPTS[dist];\\\n",
    "                    [dist][ref]libvmaf=feature=name=psnr:log_path=config/vmaf_logs.json:log_fmt=json\\\" \\\n",
    "            -f null -\" #|name=float_ssim|name=float_ms_ssim to compute the other metrics\n",
    "    subprocess.call(c_vmaf, shell=True)\n",
    "    print(\"-assessed= \" + dist)\n",
    "    with open(\"config/vmaf_logs.json\", 'r') as r: #extract quality and rate values\n",
    "        i_data = json.load(r)\n",
    "    return i_data[\"pooled_metrics\"][\"vmaf\"][\"mean\"]\n",
    "    \n",
    "def scale():\n",
    "    c_seq = \"ffmpeg -i test_vids/srcRAW_FullHD/rush_field_cuts_1080p.y4m \\\n",
    "        -filter:v scale=480x270 test_vids/srcRAW_SD/rush_field_cuts_SDp.y4m\"\n",
    "    subprocess.call(c_seq, shell=True)\n",
    "    \n",
    "def open_file():\n",
    "    root = tk.Tk()\n",
    "    root.withdraw()\n",
    "    f = os.path.relpath(filedialog.askopenfilename())\n",
    "    #file_name = os.path.basename(source_path).split('.')[0]\n",
    "    return f\n",
    "\n",
    "res = [480,270]\n",
    "file = \"tests_vids/OPT_vids/rush_fiel_vmaf90fx_AVC.mp4\"\n",
    "#file=\"tests_vids/OPT_vids/rush_fiel_rate1000000fx_AVC.mp4\"\n",
    "f_ref = \"tests_vids/srcRAW_SD/rush_field_cuts_SDp.y4m\"\n",
    "print(get_bitrate(file))\n",
    "print(get_vmaf(file,f_ref,res))\n",
    "plot = {\"PLOT\": False, \"FX\": False, \"BF\": False, \"LG\": False, \"CF\": False, \"TARGET\": \"rate\"}\n",
    "\n",
    "if plot[\"PLOT\"]:\n",
    "    my_dpi = 96\n",
    "    pl.figure(figsize=(860/my_dpi, 540/my_dpi), dpi=my_dpi)\n",
    "\n",
    "    if plot[\"FX\"]:\n",
    "        folder = \"tests_vids/OPT_vids/fx_\"+plot[\"TARGET\"]\n",
    "        rate = np.zeros(len(os.listdir(folder)))\n",
    "        dist = np.zeros(len(os.listdir(folder)))\n",
    "        i = 0\n",
    "        for vid in sorted(os.listdir(folder)):\n",
    "            rate[i] = get_bitrate(folder + vid)\n",
    "            dist[i] = get_vmaf(folder + vid,f_ref)\n",
    "            i += 1\n",
    "        print(rate)\n",
    "        print(dist)\n",
    "        pl.plot(rate/1000, dist, '-b', label=\"Fixed CRF\")\n",
    "\n",
    "    if plot[\"BF\"]:\n",
    "        folder = \"tests_vids/OPT_vids/bf_\"+plot[\"TARGET\"]\n",
    "        rate = np.zeros(len(os.listdir(folder)))\n",
    "        dist = np.zeros(len(os.listdir(folder)))\n",
    "        i = 0\n",
    "        for vid in sorted(os.listdir(folder)):\n",
    "            rate[i] = get_bitrate(folder + vid)\n",
    "            dist[i] = get_vmaf(folder + vid,f_ref)\n",
    "            i += 1\n",
    "        print(rate)\n",
    "        print(dist)\n",
    "        pl.plot(rate/1000, dist, '-g', label=\"OPT bf\")\n",
    "\n",
    "    if plot[\"LG\"]:\n",
    "        folder = \"tests_vids/OPT_vids/lg_\"+plot[\"TARGET\"]\n",
    "        rate = np.zeros(len(os.listdir(folder)))\n",
    "        dist = np.zeros(len(os.listdir(folder)))\n",
    "        i = 0\n",
    "        for vid in sorted(os.listdir(folder)):\n",
    "            rate[i] = get_bitrate(folder + vid)\n",
    "            dist[i] = get_vmaf(folder + vid,f_ref)\n",
    "            i += 1\n",
    "        print(rate)\n",
    "        print(dist)\n",
    "        pl.plot(rate/1000, dist, '-c', label=\"OPT lg\")\n",
    "\n",
    "    if plot[\"CF\"]:\n",
    "        folder = \"tests_vids/OPT_vids/cf_\"+plot[\"TARGET\"]\n",
    "        rate = np.zeros(len(os.listdir(folder)))\n",
    "        dist = np.zeros(len(os.listdir(folder)))\n",
    "        i = 0\n",
    "        for vid in sorted(os.listdir(folder)):\n",
    "            rate[i] = get_bitrate(folder + vid)\n",
    "            dist[i] = get_vmaf(folder + vid,f_ref)\n",
    "            i += 1\n",
    "        print(rate)\n",
    "        print(dist)\n",
    "        pl.plot(rate/1000, dist, '-r', label=\"OPT cf\")\n",
    "\n",
    "    pl.grid(True)\n",
    "    pl.title(\"RQ curves\")\n",
    "    pl.ylabel(\"VMAF quality\")\n",
    "    pl.xlabel(\"Bitrate (MB)\")\n",
    "    pl.legend(loc=\"lower right\")\n",
    "    pl.figure()\n"
   ]
  },
  {
   "cell_type": "code",
   "execution_count": null,
   "id": "d92d1881",
   "metadata": {},
   "outputs": [],
   "source": []
  },
  {
   "cell_type": "code",
   "execution_count": 399,
   "id": "7ec40bfb",
   "metadata": {},
   "outputs": [
    {
     "ename": "SyntaxError",
     "evalue": "invalid syntax (3473743637.py, line 11)",
     "output_type": "error",
     "traceback": [
      "\u001b[0;36m  Input \u001b[0;32mIn [399]\u001b[0;36m\u001b[0m\n\u001b[0;31m    command = f\"ffprobe -v error -select_streams v:0 -show_entries format:stream -print_format json {t_pts[\"crf\"]}\"\u001b[0m\n\u001b[0m                                                                                                            ^\u001b[0m\n\u001b[0;31mSyntaxError\u001b[0m\u001b[0;31m:\u001b[0m invalid syntax\n"
     ]
    }
   ],
   "source": [
    "#!ffplay -f rawvideo -video_size 640x360 test_vids/downsampled/smithy_640.yuv\n",
    "import numpy as np\n",
    "import os\n",
    "import subprocess\n",
    "import json\n",
    "rng = [10,40]\n",
    "num_shots = 4\n",
    "t_pts = {\"crf\": \"tests_vids/srcRAW_SD/rush_field_cuts_SDp.y4m\", \\\n",
    "            \"rate\": \"\", \\\n",
    "            \"dist\": \"\"}\n",
    "command = f\"ffprobe -v error -select_streams v:0 -show_entries format:stream -print_format json {t_pts[\"crf\"]}\"\n",
    "cout = subprocess.run(command.split(), stdout=subprocess.PIPE, stderr=subprocess.STDOUT).stdout\n",
    "jout = json.loads(cout)\n",
    "print(jout)"
   ]
  },
  {
   "cell_type": "code",
   "execution_count": 307,
   "id": "5be6bdf1",
   "metadata": {},
   "outputs": [
    {
     "name": "stdout",
     "output_type": "stream",
     "text": [
      "[23.308242104968663]\n"
     ]
    },
    {
     "data": {
      "text/plain": [
       "[<mpl_toolkits.mplot3d.art3d.Line3D at 0x7fd936b5d490>]"
      ]
     },
     "execution_count": 307,
     "metadata": {},
     "output_type": "execute_result"
    },
    {
     "data": {
      "image/png": "[encoded data removed]",
      "text/plain": [
       "<Figure size 432x288 with 1 Axes>"
      ]
     },
     "metadata": {
      "needs_background": "light"
     },
     "output_type": "display_data"
    }
   ],
   "source": [
    "import numpy as np\n",
    "from scipy.optimize import curve_fit\n",
    "from scipy import interpolate\n",
    "from scipy import integrate\n",
    "import matplotlib.pyplot as pl\n",
    "from mpl_toolkits import mplot3d\n",
    "\n",
    "def eq_fit(x, a, b, c):\n",
    "    return a / (x + b) + c\n",
    "def func(data, a, b):\n",
    "    return data[:,0]*data[:,1]*a + b\n",
    "\n",
    "A = np.array([(19,20,24), (10,40,28), (10,50,31)])\n",
    "crf = np.array([0, 13, 26, 38, 51])\n",
    "rates = np.array([18729544, 5554671, 1085638, 138604, 12974])\n",
    "dists = np.array([8.0860000e-03, 1.0444440e+00, 1.2928326e+01, 5.9431145e+01, 9.5521998e+01])\n",
    "par, cov = curve_fit(eq_fit, rates, dists)\n",
    "xnew = np.linspace(rates[0],rates[-1],52)\n",
    "ynew = eq_fit(xnew, *par)\n",
    "params, pcov = curve_fit(func, np.array(np.vstack((rates, dists)).T), crf)\n",
    "znew = func(np.array(np.vstack((xnew, ynew)).T),*params)\n",
    "print(func(np.array([[rates[4],dists[4],None]]),*params))\n",
    "ax = pl.figure()\n",
    "ax = pl.axes(projection='3d')\n",
    "ax.scatter(rates,dists,crf)\n",
    "pl.plot(xnew/1000,ynew,znew)"
   ]
  },
  {
   "cell_type": "code",
   "execution_count": 334,
   "id": "47911015",
   "metadata": {},
   "outputs": [
    {
     "name": "stdout",
     "output_type": "stream",
     "text": [
      "t-slope: 0.0000051031739256\n",
      "[1.10202891e-01 4.57571666e-02 2.44888823e-02 1.50055977e-02\n",
      " 1.00015915e-02 7.05542424e-03 5.18395369e-03 3.93406711e-03\n",
      " 3.06187997e-03 2.43186597e-03 1.96391725e-03 1.60827254e-03\n",
      " 1.33273371e-03 9.65582191e-04 6.09888725e-04 4.19852275e-04\n",
      " 2.89326152e-04 2.08070307e-04 1.52017717e-04 1.12337961e-04\n",
      " 8.43466448e-05 6.40437398e-05 4.90657465e-05 3.78908999e-05\n",
      " 2.94827808e-05 2.30038439e-05 1.57387669e-05 1.17163995e-05\n",
      " 9.05988942e-06 6.88046742e-06 5.32533166e-06 4.08867196e-06\n",
      " 3.15077904e-06 2.43736990e-06 1.88869285e-06 1.46586074e-06\n",
      " 1.14037915e-06 8.86006652e-07 6.01207089e-07 4.98750792e-07\n",
      " 4.18873369e-07 3.49238384e-07 2.92084767e-07 2.44865308e-07\n",
      " 2.04867868e-07 1.71297786e-07 1.43364743e-07 1.20048654e-07\n",
      " 1.00576547e-07 8.42011800e-08 7.04924270e-08 5.28793815e-08]\n",
      "C-slope: 0.0000090598894161\n"
     ]
    },
    {
     "data": {
      "text/plain": [
       "<Figure size 432x288 with 0 Axes>"
      ]
     },
     "execution_count": 334,
     "metadata": {},
     "output_type": "execute_result"
    },
    {
     "data": {
      "image/png": "[encoded data removed]",
      "text/plain": [
       "<Figure size 432x288 with 1 Axes>"
      ]
     },
     "metadata": {
      "needs_background": "light"
     },
     "output_type": "display_data"
    },
    {
     "data": {
      "text/plain": [
       "<Figure size 432x288 with 0 Axes>"
      ]
     },
     "metadata": {},
     "output_type": "display_data"
    }
   ],
   "source": [
    "import numpy as np\n",
    "from scipy.optimize import curve_fit\n",
    "import matplotlib.pyplot as pl\n",
    "from scipy.interpolate import interp1d\n",
    "from scipy.integrate import cumtrapz\n",
    "\n",
    "def interval(l,n):\n",
    "    \"\"\"\n",
    "    Split an interval (l[0],l[1]) into n values\n",
    "\n",
    "    Input:\n",
    "    - l : list(2)\n",
    "        Boundaries of the interval to split\n",
    "    - l : int\n",
    "        Number of sub-intervals to define\n",
    "    Output:\n",
    "    - out : np.array(n+1)\n",
    "        Array of CRFs values\n",
    "    \"\"\"\n",
    "    w = (l[1] - l[0]) / (n - 1)\n",
    "    return np.array([round(l[0]+i*w) for i in range(n)])\n",
    "def density_space(xs, ps, n, order=1):\n",
    "    cps = cumtrapz(ps, xs, initial=0)\n",
    "    cps *= (1/cps[-1]) #normalize [0,1]\n",
    "    intfunc = interp1d(cps, xs, kind=order)\n",
    "    t = intfunc(np.linspace(0, 1, n, endpoint=False))\n",
    "    return t\n",
    "\n",
    "def eq_fit(x, a, b, c):\n",
    "    #return a * np.log(x + b) + c\n",
    "    #return a*x**2 + b*x + c\n",
    "    #return c + (a / np.log2(x + b))\n",
    "    return a / (x + b) + c\n",
    "def compute_slope(xl,yl,xr,yr):\n",
    "    return -(yl-yr)/(xl-xr)\n",
    "def as_slope(x, a):\n",
    "    return a / (x ** 2)\n",
    "def line(x, x1, y1):\n",
    "    print(\"C-slope: \"+str(\"%.16f\" % as_slope(x1, par[0])))\n",
    "    return -as_slope(x1, par[0])*(x - x1) + y1\n",
    "def show_tangent(x1,y1):\n",
    "    # Define x data range for tangent line\n",
    "    xrange = np.linspace(x1-2000000, x1+2000000, 2)\n",
    "    pl.plot(xrange, line(xrange, x1, y1), 'C1--', linewidth = 2)\n",
    "    \n",
    "def intrp(i):\n",
    "    intv = crf[i+1]-crf[i]\n",
    "    t = np.linspace(x[i],x[i+1],num=intv,endpoint=False)\n",
    "    tn = density_space(t,eq_fit(t,*par),n=intv)\n",
    "    return tn\n",
    "\n",
    "\n",
    "crf = np.array([0, 13, 26, 38, 51])\n",
    "rates = np.array([18729544, 5554671, 1085638, 138604, 12974])\n",
    "dists = np.array([8.0860000e-03, 1.0444440e+00, 1.2928326e+01, 5.9431145e+01, 9.5521998e+01])\n",
    "par, cov = curve_fit(eq_fit, rates, dists, bounds=(0,np.inf))\n",
    "x = np.flip(rates)\n",
    "t_pts[\"rate\"][shot index] = np.append(np.concatenate([np.linspace(x[i],x[i+1],num=global_.npts[i+1]-global_.npts[i],endpoint=False) for i in range(config[\"ENC\"][\"NUM_INTERVALS\"]-1)]),x[-1])\n",
    "#xnew = np.concatenate([np.linspace(x[i],x[i+1],num=crf[i+1]-crf[i],endpoint=False) for i in range(len(x)-1)])\n",
    "xnew = np.concatenate([intrp(i) for i in range(len(x)-1)])\n",
    "xnew = np.append(xnew,x[-1])\n",
    "ynew = eq_fit(xnew, *par)\n",
    "t_ext = compute_slope(rates[4],dists[4],rates[0],dists[0])\n",
    "print(\"t-slope: \"+str(\"%.16f\" % t_ext))\n",
    "print(as_slope(xnew, par[0]))\n",
    "#print(np.argmin(abs(t_ext-(par[0]/np.einsum('i,i->i',xnew,xnew)))))\n",
    "#pl.plot(fun_curve, 'go')\n",
    "pl.plot(xnew, ynew, 'ro')\n",
    "pl.plot(rates, dists, 'bo')\n",
    "show_tangent(xnew[28],fun_curve[28])\n",
    "pl.grid(True)\n",
    "pl.figure()"
   ]
  },
  {
   "cell_type": "markdown",
   "id": "807b6169",
   "metadata": {},
   "source": [
    "## math-array operations"
   ]
  },
  {
   "cell_type": "code",
   "execution_count": null,
   "id": "f5c2ebfb",
   "metadata": {},
   "outputs": [],
   "source": [
    "import numpy as np\n"
   ]
  },
  {
   "cell_type": "markdown",
   "id": "2b05c90b",
   "metadata": {},
   "source": [
    "## plots"
   ]
  },
  {
   "cell_type": "code",
   "execution_count": null,
   "id": "b72a4199",
   "metadata": {},
   "outputs": [],
   "source": [
    "import matplotlib.pyplot as pl"
   ]
  },
  {
   "cell_type": "code",
   "execution_count": null,
   "id": "27e10ba4",
   "metadata": {},
   "outputs": [],
   "source": [
    "my_dpi = 96\n",
    "pl.figure(figsize=(860/my_dpi, 540/my_dpi), dpi=my_dpi)\n",
    "pl.plot(rate/1000, 100-dist, 'bo')\n",
    "#pl.plot([start[0],end[0]],[start[1],end[1]])\n",
    "pl.grid(True)\n",
    "pl.title(\"RD shot 0 - points\")\n",
    "pl.ylabel(\"Distortion IVMAF\")\n",
    "pl.xlabel(\"MB Rate\")\n",
    "pl.figure()"
   ]
  },
  {
   "cell_type": "code",
   "execution_count": 14,
   "id": "23e8d962",
   "metadata": {},
   "outputs": [
    {
     "name": "stdout",
     "output_type": "stream",
     "text": [
      "[\n"
     ]
    }
   ],
   "source": []
  },
  {
   "cell_type": "code",
   "execution_count": null,
   "id": "6c2c7aa8",
   "metadata": {},
   "outputs": [],
   "source": []
  }
 ],
 "metadata": {
  "kernelspec": {
   "display_name": "Python 3 (ipykernel)",
   "language": "python",
   "name": "python3"
  },
  "language_info": {
   "codemirror_mode": {
    "name": "ipython",
    "version": 3
   },
   "file_extension": ".py",
   "mimetype": "text/x-python",
   "name": "python",
   "nbconvert_exporter": "python",
   "pygments_lexer": "ipython3",
   "version": "3.8.10"
  }
 },
 "nbformat": 4,
 "nbformat_minor": 5
}
