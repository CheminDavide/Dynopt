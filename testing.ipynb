{
 "cells": [
  {
   "cell_type": "markdown",
   "id": "9496f57f",
   "metadata": {},
   "source": [
    "# this is a notebook just for testing"
   ]
  },
  {
   "cell_type": "code",
   "execution_count": 1,
   "id": "06157ea0",
   "metadata": {},
   "outputs": [
    {
     "name": "stdout",
     "output_type": "stream",
     "text": [
      "3.8.10\n"
     ]
    }
   ],
   "source": [
    "from platform import python_version\n",
    "print(python_version())"
   ]
  },
  {
   "cell_type": "code",
   "execution_count": 11,
   "id": "d92d1881",
   "metadata": {},
   "outputs": [
    {
     "name": "stdout",
     "output_type": "stream",
     "text": [
      "{\r\n",
      "Input #0, yuv4mpegpipe, from 'test_vids/srcRAW_FullHD/rush_field_cuts_1080p.y4m':\r\n",
      "  Duration: 00:00:19.02, start: 0.000000, bitrate: 994335 kb/s\r\n",
      "  Stream #0:0: Video: rawvideo (Y42B / 0x42323459), yuv422p(progressive), 1920x1080, SAR 1:1 DAR 16:9, 29.97 fps, 29.97 tbr, 29.97 tbn\r\n",
      "    \"programs\": [\r\n",
      "\r\n",
      "    ],\r\n",
      "    \"streams\": [\r\n",
      "        {\r\n",
      "            \"index\": 0,\r\n",
      "            \"codec_name\": \"rawvideo\",\r\n",
      "            \"codec_long_name\": \"raw video\",\r\n",
      "            \"codec_type\": \"video\",\r\n",
      "            \"codec_tag_string\": \"Y42B\",\r\n",
      "            \"codec_tag\": \"0x42323459\",\r\n",
      "            \"width\": 1920,\r\n",
      "            \"height\": 1080,\r\n",
      "            \"coded_width\": 1920,\r\n",
      "            \"coded_height\": 1080,\r\n",
      "            \"closed_captions\": 0,\r\n",
      "            \"film_grain\": 0,\r\n",
      "            \"has_b_frames\": 0,\r\n",
      "            \"sample_aspect_ratio\": \"1:1\",\r\n",
      "            \"display_aspect_ratio\": \"16:9\",\r\n",
      "            \"pix_fmt\": \"yuv422p\",\r\n",
      "            \"level\": -99,\r\n",
      "            \"field_order\": \"progressive\",\r\n",
      "            \"refs\": 1,\r\n",
      "            \"r_frame_rate\": \"30000/1001\",\r\n",
      "            \"avg_frame_rate\": \"30000/1001\",\r\n",
      "            \"time_base\": \"1001/30000\",\r\n",
      "            \"start_pts\": 0,\r\n",
      "            \"start_time\": \"0.000000\",\r\n",
      "            \"duration_ts\": 570,\r\n",
      "            \"duration\": \"19.019000\",\r\n",
      "            \"disposition\": {\r\n",
      "                \"default\": 0,\r\n",
      "                \"dub\": 0,\r\n",
      "                \"original\": 0,\r\n",
      "                \"comment\": 0,\r\n",
      "                \"lyrics\": 0,\r\n",
      "                \"karaoke\": 0,\r\n",
      "                \"forced\": 0,\r\n",
      "                \"hearing_impaired\": 0,\r\n",
      "                \"visual_impaired\": 0,\r\n",
      "                \"clean_effects\": 0,\r\n",
      "                \"attached_pic\": 0,\r\n",
      "                \"timed_thumbnails\": 0,\r\n",
      "                \"captions\": 0,\r\n",
      "                \"descriptions\": 0,\r\n",
      "                \"metadata\": 0,\r\n",
      "                \"dependent\": 0,\r\n",
      "                \"still_image\": 0\r\n",
      "            }\r\n",
      "        }\r\n",
      "    ],\r\n",
      "    \"format\": {\r\n",
      "        \"filename\": \"test_vids/srcRAW_FullHD/rush_field_cuts_1080p.y4m\",\r\n",
      "        \"nb_streams\": 1,\r\n",
      "        \"nb_programs\": 0,\r\n",
      "        \"format_name\": \"yuv4mpegpipe\",\r\n",
      "        \"format_long_name\": \"YUV4MPEG pipe\",\r\n",
      "        \"start_time\": \"0.000000\",\r\n",
      "        \"duration\": \"19.019000\",\r\n",
      "        \"size\": \"2363907467\",\r\n",
      "        \"bit_rate\": \"994335124\",\r\n",
      "        \"probe_score\": 100\r\n",
      "    }\r\n",
      "}\r\n"
     ]
    }
   ],
   "source": [
    "#show info\n",
    "!ffprobe -hide_banner test_vids/srcRAW_FullHD/rush_field_cuts_1080p.y4m -show_entries format:stream -print_format json"
   ]
  },
  {
   "cell_type": "code",
   "execution_count": 19,
   "id": "971e4ad7",
   "metadata": {},
   "outputs": [
    {
     "name": "stdout",
     "output_type": "stream",
     "text": [
      "Input #0, mov,mp4,m4a,3gp,3g2,mj2, from 'test_vids/encoded/smithyAVC_1280_cf23.mp4':\r\n",
      "  Metadata:\r\n",
      "    major_brand     : isom\r\n",
      "    minor_version   : 512\r\n",
      "    compatible_brands: isomiso2avc1mp41\r\n",
      "    encoder         : Lavf58.29.100\r\n",
      "  Duration: 00:00:30.00, start: 0.000000, bitrate: 3682 kb/s\r\n",
      "  Stream #0:0[0x1](und): Video: h264 (High) (avc1 / 0x31637661), yuv420p(progressive), 1280x720, 3677 kb/s, 50 fps, 50 tbr, 12800 tbn (default)\r\n",
      "    Metadata:\r\n",
      "      handler_name    : VideoHandler\r\n",
      "      vendor_id       : [0][0][0][0]\r\n"
     ]
    }
   ],
   "source": [
    "!ffprobe -hide_banner test_vids/encoded/smithyAVC_1280_cf23.mp4"
   ]
  },
  {
   "cell_type": "markdown",
   "id": "6e35de96",
   "metadata": {},
   "source": [
    "[1920 \u0002 1080; 1536 \u0002 864; 1216 \u0002 684; 960 \u0002 540; 768 \u0002 432; 608 \u0002 342; 480 \u0002 270; 384 \u0002 216; 320 \u0002 180; 256 \u0002 144]"
   ]
  },
  {
   "cell_type": "code",
   "execution_count": null,
   "id": "7ec40bfb",
   "metadata": {},
   "outputs": [],
   "source": [
    "!ffplay -f rawvideo -video_size 640x360 test_vids/downsampled/smithy_640.yuv"
   ]
  },
  {
   "cell_type": "code",
   "execution_count": 3,
   "id": "c1f5cb03",
   "metadata": {
    "scrolled": true
   },
   "outputs": [
    {
     "name": "stdout",
     "output_type": "stream",
     "text": [
      "{'programs': [], 'streams': [{'index': 0, 'codec_name': 'hevc', 'codec_long_name': 'H.265 / HEVC (High Efficiency Video Coding)', 'profile': 'Main', 'codec_type': 'video', 'codec_tag_string': 'hev1', 'codec_tag': '0x31766568', 'width': 3840, 'height': 2160, 'coded_width': 3840, 'coded_height': 2160, 'closed_captions': 0, 'film_grain': 0, 'has_b_frames': 2, 'pix_fmt': 'yuv420p', 'level': 153, 'color_range': 'tv', 'chroma_location': 'left', 'field_order': 'progressive', 'refs': 1, 'id': '0x1', 'r_frame_rate': '50/1', 'avg_frame_rate': '50/1', 'time_base': '1/12800', 'start_pts': 0, 'start_time': '0.000000', 'duration_ts': 384000, 'duration': '30.000000', 'bit_rate': '5591491', 'nb_frames': '1500', 'extradata_size': 2202, 'disposition': {'default': 1, 'dub': 0, 'original': 0, 'comment': 0, 'lyrics': 0, 'karaoke': 0, 'forced': 0, 'hearing_impaired': 0, 'visual_impaired': 0, 'clean_effects': 0, 'attached_pic': 0, 'timed_thumbnails': 0, 'captions': 0, 'descriptions': 0, 'metadata': 0, 'dependent': 0, 'still_image': 0}, 'tags': {'language': 'und', 'handler_name': 'VideoHandler', 'vendor_id': '[0][0][0][0]'}}], 'format': {'filename': 'test_vids/encoded/smithyHEVC_cf34.mp4', 'nb_streams': 1, 'nb_programs': 0, 'format_name': 'mov,mp4,m4a,3gp,3g2,mj2', 'format_long_name': 'QuickTime / MOV', 'start_time': '0.000000', 'duration': '30.000000', 'size': '20990930', 'bit_rate': '5597581', 'probe_score': 100, 'tags': {'major_brand': 'isom', 'minor_version': '512', 'compatible_brands': 'isomiso2mp41', 'encoder': 'Lavf59.22.100'}}}\n"
     ]
    }
   ],
   "source": [
    "import subprocess\n",
    "import json\n",
    "command=\"ffprobe -v error -select_streams v:0 -show_entries format:stream -print_format json test_vids/encoded/smithyHEVC_cf34.mp4\"\n",
    "cout = subprocess.run(command.split(), stdout=subprocess.PIPE, stderr=subprocess.STDOUT).stdout\n",
    "dict = json.loads(cout)  # Convert data from JSON string to dictionary\n",
    "print(dict)"
   ]
  },
  {
   "cell_type": "code",
   "execution_count": 12,
   "id": "0925f689",
   "metadata": {},
   "outputs": [
    {
     "name": "stdout",
     "output_type": "stream",
     "text": [
      "[70 24 45  3 11]\n",
      "[0.80168352 0.3389326  0.52103589 0.88479829 0.433684  ]\n"
     ]
    },
    {
     "data": {
      "image/png": "[encoded data removed]",
      "text/plain": [
       "<Figure size 432x288 with 1 Axes>"
      ]
     },
     "metadata": {
      "needs_background": "light"
     },
     "output_type": "display_data"
    }
   ],
   "source": [
    "import numpy as np\n",
    "import matplotlib.pyplot as pl\n",
    "\n",
    "r = np.array([4000000,33000000,13000000,147000000,69000000])\n",
    "q = np.array([30,76,55,97,89])\n",
    "d = 100 - q\n",
    "nr = np.linalg.norm(r)\n",
    "nd = np.linalg.norm(d)\n",
    "rz = r/nr\n",
    "dz = d/nd\n",
    "opt_rd = np.sqrt(np.add(rz**2, dz**2))\n",
    "print(d)\n",
    "print(opt_rd)\n",
    "pl.plot(r, d, 'bo')\n",
    "pl.xlim([0,150000000])\n",
    "pl.ylim([0,100])\n",
    "pl.grid(True)"
   ]
  },
  {
   "cell_type": "code",
   "execution_count": 6,
   "id": "f5c2ebfb",
   "metadata": {},
   "outputs": [
    {
     "name": "stdout",
     "output_type": "stream",
     "text": [
      "[2. 3.]\n"
     ]
    }
   ],
   "source": [
    "import numpy as np\n",
    "A = [[1,2,3],[3,3,3]]\n",
    "print(np.einsum('ij->i', A)/3)"
   ]
  },
  {
   "cell_type": "code",
   "execution_count": 9,
   "id": "a6d03e48",
   "metadata": {},
   "outputs": [
    {
     "name": "stdout",
     "output_type": "stream",
     "text": [
      "[[ 0.  1.  2.  3.  4.  5.  6.  7.  8.  9. 10. 11. 12. 13. 14. 15. 16. 17.\n",
      "  18. 19. 20. 21. 22. 23. 24. 25. 26. 27. 28. 29. 30. 31. 32. 33. 34. 35.\n",
      "  36. 37. 38. 39. 40. 41. 42. 43. 44. 45. 46. 47. 48. 49. 50. 51.]\n",
      " [ 0.  0.  0.  0.  0.  0.  0.  0.  0.  0.  0.  0.  0.  0.  0.  0.  0.  0.\n",
      "   0.  0.  0.  0.  0.  0.  0.  0.  0.  0.  0.  0.  0.  0.  0.  0.  0.  0.\n",
      "   0.  0.  0.  0.  0.  0.  0.  0.  0.  0.  0.  0.  0.  0.  0.  0.]\n",
      " [ 0.  0.  0.  0.  0.  0.  0.  0.  0.  0.  0.  0.  0.  0.  0.  0.  0.  0.\n",
      "   0.  0.  0.  0.  0.  0.  0.  0.  0.  0.  0.  0.  0.  0.  0.  0.  0.  0.\n",
      "   0.  0.  0.  0.  0.  0.  0.  0.  0.  0.  0.  0.  0.  0.  0.  0.]\n",
      " [ 0.  0.  0.  0.  0.  0.  0.  0.  0.  0.  0.  0.  0.  0.  0.  0.  0.  0.\n",
      "   0.  0.  0.  0.  0.  0.  0.  0.  0.  0.  0.  0.  0.  0.  0.  0.  0.  0.\n",
      "   0.  0.  0.  0.  0.  0.  0.  0.  0.  0.  0.  0.  0.  0.  0.  0.]]\n"
     ]
    }
   ],
   "source": [
    "import numpy as np\n",
    "A = np.zeros([4,52])\n",
    "A[0] = np.arange(0,52,1)\n",
    "print(A)"
   ]
  },
  {
   "cell_type": "code",
   "execution_count": 32,
   "id": "7da115af",
   "metadata": {},
   "outputs": [
    {
     "name": "stdout",
     "output_type": "stream",
     "text": [
      "[{'target': 0, 'crf': 0}, {'target': 0, 'crf': 0}, {'target': 0, 'crf': 0}]\n"
     ]
    }
   ],
   "source": [
    "import json\n",
    "num_scenes = 3\n",
    "opt_points = []\n",
    "source_name = \"testscene01\"\n",
    "rd_file = \"rd_results/\" + source_name + \".json\"\n",
    "with open(rd_file, 'r') as f:\n",
    "    o_data = json.load(f)\n",
    "    o_data[\"video_content\"] = source_name\n",
    "    template_opt = o_data[\"versions\"][0][\"shots\"][0][\"opt_points\"][0]\n",
    "    for i in range(0, num_scenes):\n",
    "        opt_points.append(template_opt)\n",
    "    print(opt_points)\n",
    "    o_data[\"versions\"][0][\"shots\"][0][\"opt_points\"] = opt_points\n",
    "with open(rd_file, 'w') as w:\n",
    "    json.dump(o_data, w, indent=5, separators=(',',': '))"
   ]
  },
  {
   "cell_type": "code",
   "execution_count": 28,
   "id": "ad3d5065",
   "metadata": {},
   "outputs": [
    {
     "name": "stderr",
     "output_type": "stream",
     "text": [
      "ffmpeg version N-106635-g83e1a1de88 Copyright (c) 2000-2022 the FFmpeg developers\n",
      "  built with gcc 9 (Ubuntu 9.4.0-1ubuntu1~20.04.1)\n",
      "  configuration: --prefix=/home/ubuntu/ffmpeg_build --pkg-config-flags=--static --extra-cflags=-I/home/ubuntu/ffmpeg_build/include --extra-ldflags=-L/home/ubuntu/ffmpeg_build/lib --extra-libs='-lpthread -lm' --ld=g++ --bindir=/home/ubuntu/bin --enable-gpl --enable-gnutls --enable-libaom --enable-libass --enable-libfdk-aac --enable-libfreetype --enable-libmp3lame --enable-libopus --enable-libsvtav1 --enable-libdav1d --enable-libvorbis --enable-libvpx --enable-libx264 --enable-libx265 --enable-libvmaf --enable-version3 --enable-nonfree\n",
      "  libavutil      57. 24.101 / 57. 24.101\n",
      "  libavcodec     59. 26.100 / 59. 26.100\n",
      "  libavformat    59. 22.100 / 59. 22.100\n",
      "  libavdevice    59.  6.100 / 59.  6.100\n",
      "  libavfilter     8. 33.100 /  8. 33.100\n",
      "  libswscale      6.  6.100 /  6.  6.100\n",
      "  libswresample   4.  6.100 /  4.  6.100\n",
      "  libpostproc    56.  5.100 / 56.  5.100\n",
      "Input #0, yuv4mpegpipe, from 'test_vids/srcRAW_FullHD/rush_field_cuts_1080p.y4m':\n",
      "  Duration: 00:00:19.02, start: 0.000000, bitrate: 994335 kb/s\n",
      "  Stream #0:0: Video: rawvideo (Y42B / 0x42323459), yuv422p(progressive), 1920x1080, SAR 1:1 DAR 16:9, 29.97 fps, 29.97 tbr, 29.97 tbn\n",
      "Stream mapping:\n",
      "  Stream #0:0 -> #0:0 (rawvideo (native) -> rawvideo (native))\n",
      "Press [q] to stop, [?] for help\n",
      "Output #0, rawvideo, to 'test_vids/tempRAW_refs/test.yuv':\n",
      "  Metadata:\n",
      "    encoder         : Lavf59.22.100\n",
      "  Stream #0:0: Video: rawvideo (I420 / 0x30323449), yuv420p(tv, progressive), 1920x1080 [SAR 1:1 DAR 16:9], q=2-31, 745750 kb/s, 29.97 fps, 29.97 tbn\n",
      "    Metadata:\n",
      "      encoder         : Lavc59.26.100 rawvideo\n",
      "frame=  570 fps=319 q=-0.0 Lsize= 1731375kB time=00:00:19.01 bitrate=745750.2kbits/s speed=10.6x    \n",
      "video:1731375kB audio:0kB subtitle:0kB other streams:0kB global headers:0kB muxing overhead: 0.000000%\n"
     ]
    },
    {
     "data": {
      "text/plain": [
       "0"
      ]
     },
     "execution_count": 28,
     "metadata": {},
     "output_type": "execute_result"
    }
   ],
   "source": [
    "import subprocess\n",
    "c_seq = \"ffmpeg -i test_vids/srcRAW_FullHD/rush_field_cuts_1080p.y4m \\\n",
    "        -pix_fmt yuv420p test_vids/tempRAW_refs/test.yuv\"\n",
    "subprocess.call(c_seq, shell=True)"
   ]
  },
  {
   "cell_type": "code",
   "execution_count": 41,
   "id": "95d56865",
   "metadata": {},
   "outputs": [
    {
     "name": "stdout",
     "output_type": "stream",
     "text": [
      "<function <lambda> at 0x7fdcde01e5e0>\n",
      "2\n"
     ]
    }
   ],
   "source": [
    "flag_target = False\n",
    "target_quality = [0]\n",
    "target_bitrate = [0,0]\n",
    "print(lambda flag_target: len(target_quality) if flag_target else len(target_bitrate))\n",
    "print(y(flag_target))"
   ]
  },
  {
   "cell_type": "code",
   "execution_count": 42,
   "id": "c859d73c",
   "metadata": {},
   "outputs": [
    {
     "ename": "AttributeError",
     "evalue": "'dict' object has no attribute 'starting_range'",
     "output_type": "error",
     "traceback": [
      "\u001b[0;31m---------------------------------------------------------------------------\u001b[0m",
      "\u001b[0;31mAttributeError\u001b[0m                            Traceback (most recent call last)",
      "Input \u001b[0;32mIn [42]\u001b[0m, in \u001b[0;36m<cell line: 2>\u001b[0;34m()\u001b[0m\n\u001b[1;32m      1\u001b[0m PARAM_AVC \u001b[38;5;241m=\u001b[39m {\u001b[38;5;124m\"\u001b[39m\u001b[38;5;124mstarting_range\u001b[39m\u001b[38;5;124m\"\u001b[39m: [\u001b[38;5;241m17\u001b[39m,\u001b[38;5;241m28\u001b[39m], \u001b[38;5;124m\"\u001b[39m\u001b[38;5;124mlib\u001b[39m\u001b[38;5;124m\"\u001b[39m: \u001b[38;5;124m\"\u001b[39m\u001b[38;5;124mlibx264\u001b[39m\u001b[38;5;124m\"\u001b[39m, \u001b[38;5;124m\"\u001b[39m\u001b[38;5;124mcontainer\u001b[39m\u001b[38;5;124m\"\u001b[39m: \u001b[38;5;124m\"\u001b[39m\u001b[38;5;124mmp4\u001b[39m\u001b[38;5;124m\"\u001b[39m, \u001b[38;5;124m\"\u001b[39m\u001b[38;5;124madd_param\u001b[39m\u001b[38;5;124m\"\u001b[39m: \u001b[38;5;124m\"\u001b[39m\u001b[38;5;124m\"\u001b[39m}\n\u001b[0;32m----> 2\u001b[0m \u001b[38;5;28mprint\u001b[39m(\u001b[43mPARAM_AVC\u001b[49m\u001b[38;5;241;43m.\u001b[39;49m\u001b[43mstarting_range\u001b[49m)\n",
      "\u001b[0;31mAttributeError\u001b[0m: 'dict' object has no attribute 'starting_range'"
     ]
    }
   ],
   "source": [
    "PARAM_AVC = {\"starting_range\": [17,28], \"lib\": \"libx264\", \"container\": \"mp4\", \"add_param\": \"\"}\n",
    "print(PARAM_AVC.starting_range)"
   ]
  },
  {
   "cell_type": "code",
   "execution_count": 72,
   "id": "397f39e7",
   "metadata": {},
   "outputs": [
    {
     "name": "stdout",
     "output_type": "stream",
     "text": [
      "4\n",
      "[ 1.  2.  1.  0. inf  3.  3.]\n",
      "3\n"
     ]
    }
   ],
   "source": [
    "import numpy as np\n",
    "import math\n",
    "A = [1.,2.,1.,0.,-1.,3.,3.]\n",
    "B = np.asarray(A)\n",
    "min1 = np.argmin(B)\n",
    "print(min1)\n",
    "C = B.copy()\n",
    "C[min1] = np.inf\n",
    "print(C)\n",
    "min2 = np.argmin(C)\n",
    "print(min2)"
   ]
  },
  {
   "cell_type": "code",
   "execution_count": 57,
   "id": "be09479e",
   "metadata": {},
   "outputs": [
    {
     "name": "stdout",
     "output_type": "stream",
     "text": [
      "39\n",
      "38\n",
      "37\n",
      "36\n",
      "35\n",
      "34\n",
      "33\n",
      "32\n",
      "31\n",
      "30\n",
      "29\n",
      "28\n",
      "27\n",
      "26\n",
      "25\n",
      "24\n",
      "23\n",
      "22\n",
      "21\n",
      "20\n",
      "19\n",
      "18\n",
      "17\n"
     ]
    }
   ],
   "source": [
    "a = 40\n",
    "for i in range(23, 0, -1):\n",
    "    a -= 1\n",
    "    print(a)"
   ]
  },
  {
   "cell_type": "code",
   "execution_count": 77,
   "id": "48e9aa74",
   "metadata": {},
   "outputs": [
    {
     "name": "stdout",
     "output_type": "stream",
     "text": [
      "0.9000000000000057\n"
     ]
    }
   ],
   "source": [
    "a = (96.7 - 95.8)\n",
    "print(str(a))"
   ]
  },
  {
   "cell_type": "code",
   "execution_count": 5,
   "id": "a82793b7",
   "metadata": {},
   "outputs": [
    {
     "name": "stdout",
     "output_type": "stream",
     "text": [
      "/home/ubuntu/video_dynopt/test_vids/srcRAW_FullHD/rush_field_cuts_1080p.y4m\n"
     ]
    }
   ],
   "source": [
    "import tkinter as tk\n",
    "from tkinter import filedialog\n",
    "\n",
    "root = tk.Tk()\n",
    "root.withdraw()\n",
    "\n",
    "file_path = filedialog.askopenfilename()\n",
    "print(file_path)"
   ]
  },
  {
   "cell_type": "code",
   "execution_count": 11,
   "id": "96a06772",
   "metadata": {},
   "outputs": [
    {
     "name": "stdout",
     "output_type": "stream",
     "text": [
      "rush_field_cuts_1080p\n"
     ]
    }
   ],
   "source": [
    "import os\n",
    "print(os.path.basename(file_path).split('.')[0])"
   ]
  },
  {
   "cell_type": "code",
   "execution_count": 25,
   "id": "526cd09d",
   "metadata": {},
   "outputs": [
    {
     "name": "stderr",
     "output_type": "stream",
     "text": [
      "ffmpeg version N-106635-g83e1a1de88 Copyright (c) 2000-2022 the FFmpeg developers\n",
      "  built with gcc 9 (Ubuntu 9.4.0-1ubuntu1~20.04.1)\n",
      "  configuration: --prefix=/home/ubuntu/ffmpeg_build --pkg-config-flags=--static --extra-cflags=-I/home/ubuntu/ffmpeg_build/include --extra-ldflags=-L/home/ubuntu/ffmpeg_build/lib --extra-libs='-lpthread -lm' --ld=g++ --bindir=/home/ubuntu/bin --enable-gpl --enable-gnutls --enable-libaom --enable-libass --enable-libfdk-aac --enable-libfreetype --enable-libmp3lame --enable-libopus --enable-libsvtav1 --enable-libdav1d --enable-libvorbis --enable-libvpx --enable-libx264 --enable-libx265 --enable-libvmaf --enable-version3 --enable-nonfree\n",
      "  libavutil      57. 24.101 / 57. 24.101\n",
      "  libavcodec     59. 26.100 / 59. 26.100\n",
      "  libavformat    59. 22.100 / 59. 22.100\n",
      "  libavdevice    59.  6.100 / 59.  6.100\n",
      "  libavfilter     8. 33.100 /  8. 33.100\n",
      "  libswscale      6.  6.100 /  6.  6.100\n",
      "  libswresample   4.  6.100 /  4.  6.100\n",
      "  libpostproc    56.  5.100 / 56.  5.100\n",
      "Input #0, yuv4mpegpipe, from 'test_vids/srcRAW_FullHD/rush_field_cuts_1080p.y4m':\n",
      "  Duration: 00:00:19.02, start: 0.000000, bitrate: 994335 kb/s\n",
      "  Stream #0:0: Video: rawvideo (Y42B / 0x42323459), yuv422p(progressive), 1920x1080, SAR 1:1 DAR 16:9, 29.97 fps, 29.97 tbr, 29.97 tbn\n",
      "Stream mapping:\n",
      "  Stream #0:0 (rawvideo) -> select:default\n",
      "  metadata:default -> Stream #0:0 (wrapped_avframe)\n",
      "Press [q] to stop, [?] for help\n",
      "Output #0, null, to 'pipe:':\n",
      "  Metadata:\n",
      "    encoder         : Lavf59.22.100\n",
      "  Stream #0:0: Video: wrapped_avframe, yuv422p(progressive), 1920x1080 [SAR 1:1 DAR 16:9], q=2-31, 200 kb/s, 29.97 fps, 29.97 tbn\n",
      "    Metadata:\n",
      "      encoder         : Lavc59.26.100 wrapped_avframe\n",
      "frame=    3 fps=0.0 q=-0.0 Lsize=N/A time=00:00:16.04 bitrate=N/A speed=  38x    \n",
      "video:1kB audio:0kB subtitle:0kB other streams:0kB global headers:0kB muxing overhead: unknown\n"
     ]
    },
    {
     "name": "stdout",
     "output_type": "stream",
     "text": [
      "0.0 - 10.6106\n"
     ]
    },
    {
     "name": "stderr",
     "output_type": "stream",
     "text": [
      "ffmpeg version N-106635-g83e1a1de88 Copyright (c) 2000-2022 the FFmpeg developers\n",
      "  built with gcc 9 (Ubuntu 9.4.0-1ubuntu1~20.04.1)\n",
      "  configuration: --prefix=/home/ubuntu/ffmpeg_build --pkg-config-flags=--static --extra-cflags=-I/home/ubuntu/ffmpeg_build/include --extra-ldflags=-L/home/ubuntu/ffmpeg_build/lib --extra-libs='-lpthread -lm' --ld=g++ --bindir=/home/ubuntu/bin --enable-gpl --enable-gnutls --enable-libaom --enable-libass --enable-libfdk-aac --enable-libfreetype --enable-libmp3lame --enable-libopus --enable-libsvtav1 --enable-libdav1d --enable-libvorbis --enable-libvpx --enable-libx264 --enable-libx265 --enable-libvmaf --enable-version3 --enable-nonfree\n",
      "  libavutil      57. 24.101 / 57. 24.101\n",
      "  libavcodec     59. 26.100 / 59. 26.100\n",
      "  libavformat    59. 22.100 / 59. 22.100\n",
      "  libavdevice    59.  6.100 / 59.  6.100\n",
      "  libavfilter     8. 33.100 /  8. 33.100\n",
      "  libswscale      6.  6.100 /  6.  6.100\n",
      "  libswresample   4.  6.100 /  4.  6.100\n",
      "  libpostproc    56.  5.100 / 56.  5.100\n",
      "Input #0, yuv4mpegpipe, from 'test_vids/srcRAW_FullHD/rush_field_cuts_1080p.y4m':\n",
      "  Duration: 00:00:19.02, start: 0.000000, bitrate: 994335 kb/s\n",
      "  Stream #0:0: Video: rawvideo (Y42B / 0x42323459), yuv422p(progressive), 1920x1080, SAR 1:1 DAR 16:9, 29.97 fps, 29.97 tbr, 29.97 tbn\n",
      "Stream mapping:\n",
      "  Stream #0:0 -> #0:0 (rawvideo (native) -> rawvideo (native))\n",
      "Press [q] to stop, [?] for help\n",
      "Output #0, rawvideo, to 'test_vids/tempRAW_refs/scene0000001.yuv':\n",
      "  Metadata:\n",
      "    encoder         : Lavf59.22.100\n",
      "  Stream #0:0: Video: rawvideo (I420 / 0x30323449), yuv420p(tv, progressive), 1920x1080 [SAR 1:1 DAR 16:9], q=2-31, 745750 kb/s, 29.97 fps, 29.97 tbn\n",
      "    Metadata:\n",
      "      encoder         : Lavc59.26.100 rawvideo\n",
      "frame=  318 fps=0.0 q=-0.0 Lsize=  965925kB time=00:00:10.61 bitrate=745750.2kbits/s speed=10.9x    \n",
      "video:965925kB audio:0kB subtitle:0kB other streams:0kB global headers:0kB muxing overhead: 0.000000%\n",
      "ffmpeg version N-106635-g83e1a1de88 Copyright (c) 2000-2022 the FFmpeg developers\n",
      "  built with gcc 9 (Ubuntu 9.4.0-1ubuntu1~20.04.1)\n",
      "  configuration: --prefix=/home/ubuntu/ffmpeg_build --pkg-config-flags=--static --extra-cflags=-I/home/ubuntu/ffmpeg_build/include --extra-ldflags=-L/home/ubuntu/ffmpeg_build/lib --extra-libs='-lpthread -lm' --ld=g++ --bindir=/home/ubuntu/bin --enable-gpl --enable-gnutls --enable-libaom --enable-libass --enable-libfdk-aac --enable-libfreetype --enable-libmp3lame --enable-libopus --enable-libsvtav1 --enable-libdav1d --enable-libvorbis --enable-libvpx --enable-libx264 --enable-libx265 --enable-libvmaf --enable-version3 --enable-nonfree\n",
      "  libavutil      57. 24.101 / 57. 24.101\n",
      "  libavcodec     59. 26.100 / 59. 26.100\n",
      "  libavformat    59. 22.100 / 59. 22.100\n",
      "  libavdevice    59.  6.100 / 59.  6.100\n",
      "  libavfilter     8. 33.100 /  8. 33.100\n",
      "  libswscale      6.  6.100 /  6.  6.100\n",
      "  libswresample   4.  6.100 /  4.  6.100\n",
      "  libpostproc    56.  5.100 / 56.  5.100\n",
      "Input #0, yuv4mpegpipe, from 'test_vids/srcRAW_FullHD/rush_field_cuts_1080p.y4m':\n",
      "  Duration: 00:00:19.02, start: 0.000000, bitrate: 994335 kb/s\n",
      "  Stream #0:0: Video: rawvideo (Y42B / 0x42323459), yuv422p(progressive), 1920x1080, SAR 1:1 DAR 16:9, 29.97 fps, 29.97 tbr, 29.97 tbn\n",
      "Stream mapping:\n",
      "  Stream #0:0 -> #0:0 (rawvideo (native) -> rawvideo (native))\n",
      "Press [q] to stop, [?] for help\n",
      "Output #0, rawvideo, to 'test_vids/tempRAW_refs/scene0000002.yuv':\n",
      "  Metadata:\n",
      "    encoder         : Lavf59.22.100\n",
      "  Stream #0:0: Video: rawvideo (I420 / 0x30323449), yuv420p(tv, progressive), 1920x1080 [SAR 1:1 DAR 16:9], q=2-31, 745750 kb/s, 29.97 fps, 29.97 tbn\n",
      "    Metadata:\n",
      "      encoder         : Lavc59.26.100 rawvideo\n",
      "frame=    1 fps=0.0 q=0.0 size=       0kB time=00:00:00.00 bitrate=N/A speed=   0x    \r"
     ]
    },
    {
     "name": "stdout",
     "output_type": "stream",
     "text": [
      "10.6106 - 12.6126\n"
     ]
    },
    {
     "name": "stderr",
     "output_type": "stream",
     "text": [
      "frame=   60 fps=0.0 q=-0.0 Lsize=  182250kB time=00:00:02.00 bitrate=745750.2kbits/s speed=9.46x    \n",
      "video:182250kB audio:0kB subtitle:0kB other streams:0kB global headers:0kB muxing overhead: 0.000000%\n",
      "ffmpeg version N-106635-g83e1a1de88 Copyright (c) 2000-2022 the FFmpeg developers\n",
      "  built with gcc 9 (Ubuntu 9.4.0-1ubuntu1~20.04.1)\n",
      "  configuration: --prefix=/home/ubuntu/ffmpeg_build --pkg-config-flags=--static --extra-cflags=-I/home/ubuntu/ffmpeg_build/include --extra-ldflags=-L/home/ubuntu/ffmpeg_build/lib --extra-libs='-lpthread -lm' --ld=g++ --bindir=/home/ubuntu/bin --enable-gpl --enable-gnutls --enable-libaom --enable-libass --enable-libfdk-aac --enable-libfreetype --enable-libmp3lame --enable-libopus --enable-libsvtav1 --enable-libdav1d --enable-libvorbis --enable-libvpx --enable-libx264 --enable-libx265 --enable-libvmaf --enable-version3 --enable-nonfree\n",
      "  libavutil      57. 24.101 / 57. 24.101\n",
      "  libavcodec     59. 26.100 / 59. 26.100\n",
      "  libavformat    59. 22.100 / 59. 22.100\n",
      "  libavdevice    59.  6.100 / 59.  6.100\n",
      "  libavfilter     8. 33.100 /  8. 33.100\n",
      "  libswscale      6.  6.100 /  6.  6.100\n",
      "  libswresample   4.  6.100 /  4.  6.100\n",
      "  libpostproc    56.  5.100 / 56.  5.100\n",
      "Input #0, yuv4mpegpipe, from 'test_vids/srcRAW_FullHD/rush_field_cuts_1080p.y4m':\n",
      "  Duration: 00:00:19.02, start: 0.000000, bitrate: 994335 kb/s\n",
      "  Stream #0:0: Video: rawvideo (Y42B / 0x42323459), yuv422p(progressive), 1920x1080, SAR 1:1 DAR 16:9, 29.97 fps, 29.97 tbr, 29.97 tbn\n",
      "Stream mapping:\n",
      "  Stream #0:0 -> #0:0 (rawvideo (native) -> rawvideo (native))\n",
      "Press [q] to stop, [?] for help\n",
      "Output #0, rawvideo, to 'test_vids/tempRAW_refs/scene0000003.yuv':\n",
      "  Metadata:\n",
      "    encoder         : Lavf59.22.100\n",
      "  Stream #0:0: Video: rawvideo (I420 / 0x30323449), yuv420p(tv, progressive), 1920x1080 [SAR 1:1 DAR 16:9], q=2-31, 745750 kb/s, 29.97 fps, 29.97 tbn\n",
      "    Metadata:\n",
      "      encoder         : Lavc59.26.100 rawvideo\n",
      "frame=    1 fps=0.0 q=0.0 size=       0kB time=00:00:00.00 bitrate=N/A speed=   0x    \r"
     ]
    },
    {
     "name": "stdout",
     "output_type": "stream",
     "text": [
      "12.6126 - 16.016\n"
     ]
    },
    {
     "name": "stderr",
     "output_type": "stream",
     "text": [
      "frame=  102 fps=0.0 q=-0.0 Lsize=  309825kB time=00:00:03.40 bitrate=745750.2kbits/s speed=10.5x    \n",
      "video:309825kB audio:0kB subtitle:0kB other streams:0kB global headers:0kB muxing overhead: 0.000000%\n",
      "ffmpeg version N-106635-g83e1a1de88 Copyright (c) 2000-2022 the FFmpeg developers\n",
      "  built with gcc 9 (Ubuntu 9.4.0-1ubuntu1~20.04.1)\n",
      "  configuration: --prefix=/home/ubuntu/ffmpeg_build --pkg-config-flags=--static --extra-cflags=-I/home/ubuntu/ffmpeg_build/include --extra-ldflags=-L/home/ubuntu/ffmpeg_build/lib --extra-libs='-lpthread -lm' --ld=g++ --bindir=/home/ubuntu/bin --enable-gpl --enable-gnutls --enable-libaom --enable-libass --enable-libfdk-aac --enable-libfreetype --enable-libmp3lame --enable-libopus --enable-libsvtav1 --enable-libdav1d --enable-libvorbis --enable-libvpx --enable-libx264 --enable-libx265 --enable-libvmaf --enable-version3 --enable-nonfree\n",
      "  libavutil      57. 24.101 / 57. 24.101\n",
      "  libavcodec     59. 26.100 / 59. 26.100\n",
      "  libavformat    59. 22.100 / 59. 22.100\n",
      "  libavdevice    59.  6.100 / 59.  6.100\n",
      "  libavfilter     8. 33.100 /  8. 33.100\n",
      "  libswscale      6.  6.100 /  6.  6.100\n",
      "  libswresample   4.  6.100 /  4.  6.100\n",
      "  libpostproc    56.  5.100 / 56.  5.100\n",
      "Input #0, yuv4mpegpipe, from 'test_vids/srcRAW_FullHD/rush_field_cuts_1080p.y4m':\n",
      "  Duration: 00:00:19.02, start: 0.000000, bitrate: 994335 kb/s\n",
      "  Stream #0:0: Video: rawvideo (Y42B / 0x42323459), yuv422p(progressive), 1920x1080, SAR 1:1 DAR 16:9, 29.97 fps, 29.97 tbr, 29.97 tbn\n",
      "Stream mapping:\n",
      "  Stream #0:0 -> #0:0 (rawvideo (native) -> rawvideo (native))\n",
      "Press [q] to stop, [?] for help\n",
      "Output #0, rawvideo, to 'test_vids/tempRAW_refs/scene0000004.yuv':\n",
      "  Metadata:\n",
      "    encoder         : Lavf59.22.100\n",
      "  Stream #0:0: Video: rawvideo (I420 / 0x30323449), yuv420p(tv, progressive), 1920x1080 [SAR 1:1 DAR 16:9], q=2-31, 745750 kb/s, 29.97 fps, 29.97 tbn\n",
      "    Metadata:\n",
      "      encoder         : Lavc59.26.100 rawvideo\n",
      "frame=    1 fps=0.0 q=0.0 size=       0kB time=00:00:00.00 bitrate=N/A speed=   0x    \r"
     ]
    },
    {
     "name": "stdout",
     "output_type": "stream",
     "text": [
      "16.016 - 19.019000\n"
     ]
    },
    {
     "name": "stderr",
     "output_type": "stream",
     "text": [
      "frame=   90 fps=0.0 q=-0.0 Lsize=  273375kB time=00:00:03.00 bitrate=745750.2kbits/s speed=9.18x    \n",
      "video:273375kB audio:0kB subtitle:0kB other streams:0kB global headers:0kB muxing overhead: 0.000000%\n"
     ]
    }
   ],
   "source": [
    "import subprocess\n",
    "import json\n",
    "start_t = 0.0\n",
    "i_duration = 0.0\n",
    "tot_duration = 0.0\n",
    "det = f\"ffmpeg -i test_vids/srcRAW_FullHD/rush_field_cuts_1080p.y4m \\\n",
    "    -filter_complex:v \\\"select='gt(scene,0.3)',metadata=print:file=shot_detection.log\\\" -f null -\"\n",
    "subprocess.call(det, shell=True)\n",
    "info = \"ffprobe -v error -select_streams v:0 -show_entries format:stream -print_format json test_vids/srcRAW_FullHD/rush_field_cuts_1080p.y4m\"\n",
    "cout = subprocess.run(info.split(), stdout=subprocess.PIPE, stderr=subprocess.STDOUT).stdout\n",
    "dict = json.loads(cout)\n",
    "tot_duration= dict['format']['duration']\n",
    "with open(\"shot_detection.log\", 'r') as r:\n",
    "    tm_log = r.read().splitlines()[::2]\n",
    "tm_log.append(\"end pts_time:\" + str(tot_duration))\n",
    "num_scenes = len(tm_log)\n",
    "for i,l in enumerate(tm_log):\n",
    "    end_t = l.split(\"pts_time:\",1)[1]\n",
    "    print(str(start_t) + \" - \" + str(end_t))\n",
    "    cut = f\"ffmpeg -ss {start_t} -to {end_t} -i test_vids/srcRAW_FullHD/rush_field_cuts_1080p.y4m \\\n",
    "        -pix_fmt yuv420p test_vids/tempRAW_refs/scene{str(i+1).zfill(7)}.yuv\"\n",
    "    subprocess.call(cut, shell=True)\n",
    "    start_t = end_t\n"
   ]
  },
  {
   "cell_type": "code",
   "execution_count": 35,
   "id": "1a31a417",
   "metadata": {},
   "outputs": [
    {
     "name": "stdout",
     "output_type": "stream",
     "text": [
      "scene0000003.yuv\n",
      "scene0000004.yuv\n",
      "scene0000001.yuv\n",
      "scene0000002.yuv\n"
     ]
    },
    {
     "data": {
      "text/plain": [
       "[None, None, None, None]"
      ]
     },
     "execution_count": 35,
     "metadata": {},
     "output_type": "execute_result"
    }
   ],
   "source": [
    "REF_PATH = \"test_vids/tempRAW_refs/\" #raw files for each shot\n",
    "for f in os.listdir(REF_PATH):\n",
    "    print(f)\n",
    "[os.remove(REF_PATH+f) for f in os.listdir(REF_PATH)] #clean temp_refs folder"
   ]
  },
  {
   "cell_type": "code",
   "execution_count": null,
   "id": "09454ae2",
   "metadata": {},
   "outputs": [],
   "source": [
    "shutil.rmtree(path)"
   ]
  }
 ],
 "metadata": {
  "kernelspec": {
   "display_name": "Python 3 (ipykernel)",
   "language": "python",
   "name": "python3"
  },
  "language_info": {
   "codemirror_mode": {
    "name": "ipython",
    "version": 3
   },
   "file_extension": ".py",
   "mimetype": "text/x-python",
   "name": "python",
   "nbconvert_exporter": "python",
   "pygments_lexer": "ipython3",
   "version": "3.8.10"
  }
 },
 "nbformat": 4,
 "nbformat_minor": 5
}
