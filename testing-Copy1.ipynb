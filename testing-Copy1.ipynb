{
 "cells": [
  {
   "cell_type": "markdown",
   "id": "9496f57f",
   "metadata": {},
   "source": [
    "# this notebook is just for testing"
   ]
  },
  {
   "cell_type": "code",
   "execution_count": 1,
   "id": "06157ea0",
   "metadata": {},
   "outputs": [
    {
     "name": "stdout",
     "output_type": "stream",
     "text": [
      "3.8.10\n"
     ]
    }
   ],
   "source": [
    "from platform import python_version\n",
    "print(python_version())"
   ]
  },
  {
   "cell_type": "code",
   "execution_count": 7,
   "id": "a89619f0",
   "metadata": {},
   "outputs": [
    {
     "name": "stdout",
     "output_type": "stream",
     "text": [
      "-assessed= tests_vids/OPT_vids/full_50/cf_rate/mux_fullm_rate01000cf_AVC.mp4\n",
      "-assessed= tests_vids/OPT_vids/full_50/cf_rate/mux_fullm_rate02000cf_AVC.mp4\n",
      "-assessed= tests_vids/OPT_vids/full_50/cf_rate/mux_fullm_rate03000cf_AVC.mp4\n",
      "-assessed= tests_vids/OPT_vids/full_50/cf_rate/mux_fullm_rate05000cf_AVC.mp4\n",
      "-assessed= tests_vids/OPT_vids/full_50/cf_rate/mux_fullm_rate07500cf_AVC.mp4\n",
      "-assessed= tests_vids/OPT_vids/full_50/cf_rate/mux_fullm_rate10000cf_AVC.mp4\n",
      "-assessed= tests_vids/OPT_vids/full_50/cf_rate/mux_fullm_rate15000cf_AVC.mp4\n",
      "-assessed= tests_vids/OPT_vids/full_50/cf_rate/mux_fullm_rate20000cf_AVC.mp4\n",
      "-assessed= tests_vids/OPT_vids/full_50/cf_rate/mux_fullm_rate40000cf_AVC.mp4\n"
     ]
    },
    {
     "ename": "JSONDecodeError",
     "evalue": "Extra data: line 480341 column 6 (char 14579247)",
     "output_type": "error",
     "traceback": [
      "\u001b[0;31m---------------------------------------------------------------------------\u001b[0m",
      "\u001b[0;31mJSONDecodeError\u001b[0m                           Traceback (most recent call last)",
      "Input \u001b[0;32mIn [7]\u001b[0m, in \u001b[0;36m<cell line: 55>\u001b[0;34m()\u001b[0m\n\u001b[1;32m    103\u001b[0m \u001b[38;5;28;01mfor\u001b[39;00m vid \u001b[38;5;129;01min\u001b[39;00m \u001b[38;5;28msorted\u001b[39m(os\u001b[38;5;241m.\u001b[39mlistdir(folder)):\n\u001b[1;32m    104\u001b[0m     rate[i] \u001b[38;5;241m=\u001b[39m get_bitrate(folder \u001b[38;5;241m+\u001b[39m vid)\n\u001b[0;32m--> 105\u001b[0m     dist[i] \u001b[38;5;241m=\u001b[39m \u001b[43mget_vmaf\u001b[49m\u001b[43m(\u001b[49m\u001b[43mfolder\u001b[49m\u001b[43m \u001b[49m\u001b[38;5;241;43m+\u001b[39;49m\u001b[43m \u001b[49m\u001b[43mvid\u001b[49m\u001b[43m,\u001b[49m\u001b[43mf_ref\u001b[49m\u001b[43m)\u001b[49m\n\u001b[1;32m    106\u001b[0m     i \u001b[38;5;241m+\u001b[39m\u001b[38;5;241m=\u001b[39m \u001b[38;5;241m1\u001b[39m\n\u001b[1;32m    107\u001b[0m \u001b[38;5;28mprint\u001b[39m(rate)\n",
      "Input \u001b[0;32mIn [7]\u001b[0m, in \u001b[0;36mget_vmaf\u001b[0;34m(dist, ref)\u001b[0m\n\u001b[1;32m     28\u001b[0m \u001b[38;5;28mprint\u001b[39m(\u001b[38;5;124m\"\u001b[39m\u001b[38;5;124m-assessed= \u001b[39m\u001b[38;5;124m\"\u001b[39m \u001b[38;5;241m+\u001b[39m dist)\n\u001b[1;32m     29\u001b[0m \u001b[38;5;28;01mwith\u001b[39;00m \u001b[38;5;28mopen\u001b[39m(\u001b[38;5;124m\"\u001b[39m\u001b[38;5;124mconfig/vmaf_logs.json\u001b[39m\u001b[38;5;124m\"\u001b[39m, \u001b[38;5;124m'\u001b[39m\u001b[38;5;124mr\u001b[39m\u001b[38;5;124m'\u001b[39m) \u001b[38;5;28;01mas\u001b[39;00m r: \u001b[38;5;66;03m#extract quality and rate values\u001b[39;00m\n\u001b[0;32m---> 30\u001b[0m     i_data \u001b[38;5;241m=\u001b[39m \u001b[43mjson\u001b[49m\u001b[38;5;241;43m.\u001b[39;49m\u001b[43mload\u001b[49m\u001b[43m(\u001b[49m\u001b[43mr\u001b[49m\u001b[43m)\u001b[49m\n\u001b[1;32m     31\u001b[0m \u001b[38;5;28;01mreturn\u001b[39;00m i_data[\u001b[38;5;124m\"\u001b[39m\u001b[38;5;124mpooled_metrics\u001b[39m\u001b[38;5;124m\"\u001b[39m][\u001b[38;5;124m\"\u001b[39m\u001b[38;5;124mvmaf\u001b[39m\u001b[38;5;124m\"\u001b[39m][\u001b[38;5;124m\"\u001b[39m\u001b[38;5;124mmean\u001b[39m\u001b[38;5;124m\"\u001b[39m]\n",
      "File \u001b[0;32m/usr/lib/python3.8/json/__init__.py:293\u001b[0m, in \u001b[0;36mload\u001b[0;34m(fp, cls, object_hook, parse_float, parse_int, parse_constant, object_pairs_hook, **kw)\u001b[0m\n\u001b[1;32m    274\u001b[0m \u001b[38;5;28;01mdef\u001b[39;00m \u001b[38;5;21mload\u001b[39m(fp, \u001b[38;5;241m*\u001b[39m, \u001b[38;5;28mcls\u001b[39m\u001b[38;5;241m=\u001b[39m\u001b[38;5;28;01mNone\u001b[39;00m, object_hook\u001b[38;5;241m=\u001b[39m\u001b[38;5;28;01mNone\u001b[39;00m, parse_float\u001b[38;5;241m=\u001b[39m\u001b[38;5;28;01mNone\u001b[39;00m,\n\u001b[1;32m    275\u001b[0m         parse_int\u001b[38;5;241m=\u001b[39m\u001b[38;5;28;01mNone\u001b[39;00m, parse_constant\u001b[38;5;241m=\u001b[39m\u001b[38;5;28;01mNone\u001b[39;00m, object_pairs_hook\u001b[38;5;241m=\u001b[39m\u001b[38;5;28;01mNone\u001b[39;00m, \u001b[38;5;241m*\u001b[39m\u001b[38;5;241m*\u001b[39mkw):\n\u001b[1;32m    276\u001b[0m     \u001b[38;5;124;03m\"\"\"Deserialize ``fp`` (a ``.read()``-supporting file-like object containing\u001b[39;00m\n\u001b[1;32m    277\u001b[0m \u001b[38;5;124;03m    a JSON document) to a Python object.\u001b[39;00m\n\u001b[1;32m    278\u001b[0m \n\u001b[0;32m   (...)\u001b[0m\n\u001b[1;32m    291\u001b[0m \u001b[38;5;124;03m    kwarg; otherwise ``JSONDecoder`` is used.\u001b[39;00m\n\u001b[1;32m    292\u001b[0m \u001b[38;5;124;03m    \"\"\"\u001b[39;00m\n\u001b[0;32m--> 293\u001b[0m     \u001b[38;5;28;01mreturn\u001b[39;00m \u001b[43mloads\u001b[49m\u001b[43m(\u001b[49m\u001b[43mfp\u001b[49m\u001b[38;5;241;43m.\u001b[39;49m\u001b[43mread\u001b[49m\u001b[43m(\u001b[49m\u001b[43m)\u001b[49m\u001b[43m,\u001b[49m\n\u001b[1;32m    294\u001b[0m \u001b[43m        \u001b[49m\u001b[38;5;28;43mcls\u001b[39;49m\u001b[38;5;241;43m=\u001b[39;49m\u001b[38;5;28;43mcls\u001b[39;49m\u001b[43m,\u001b[49m\u001b[43m \u001b[49m\u001b[43mobject_hook\u001b[49m\u001b[38;5;241;43m=\u001b[39;49m\u001b[43mobject_hook\u001b[49m\u001b[43m,\u001b[49m\n\u001b[1;32m    295\u001b[0m \u001b[43m        \u001b[49m\u001b[43mparse_float\u001b[49m\u001b[38;5;241;43m=\u001b[39;49m\u001b[43mparse_float\u001b[49m\u001b[43m,\u001b[49m\u001b[43m \u001b[49m\u001b[43mparse_int\u001b[49m\u001b[38;5;241;43m=\u001b[39;49m\u001b[43mparse_int\u001b[49m\u001b[43m,\u001b[49m\n\u001b[1;32m    296\u001b[0m \u001b[43m        \u001b[49m\u001b[43mparse_constant\u001b[49m\u001b[38;5;241;43m=\u001b[39;49m\u001b[43mparse_constant\u001b[49m\u001b[43m,\u001b[49m\u001b[43m \u001b[49m\u001b[43mobject_pairs_hook\u001b[49m\u001b[38;5;241;43m=\u001b[39;49m\u001b[43mobject_pairs_hook\u001b[49m\u001b[43m,\u001b[49m\u001b[43m \u001b[49m\u001b[38;5;241;43m*\u001b[39;49m\u001b[38;5;241;43m*\u001b[39;49m\u001b[43mkw\u001b[49m\u001b[43m)\u001b[49m\n",
      "File \u001b[0;32m/usr/lib/python3.8/json/__init__.py:357\u001b[0m, in \u001b[0;36mloads\u001b[0;34m(s, cls, object_hook, parse_float, parse_int, parse_constant, object_pairs_hook, **kw)\u001b[0m\n\u001b[1;32m    352\u001b[0m     \u001b[38;5;28;01mdel\u001b[39;00m kw[\u001b[38;5;124m'\u001b[39m\u001b[38;5;124mencoding\u001b[39m\u001b[38;5;124m'\u001b[39m]\n\u001b[1;32m    354\u001b[0m \u001b[38;5;28;01mif\u001b[39;00m (\u001b[38;5;28mcls\u001b[39m \u001b[38;5;129;01mis\u001b[39;00m \u001b[38;5;28;01mNone\u001b[39;00m \u001b[38;5;129;01mand\u001b[39;00m object_hook \u001b[38;5;129;01mis\u001b[39;00m \u001b[38;5;28;01mNone\u001b[39;00m \u001b[38;5;129;01mand\u001b[39;00m\n\u001b[1;32m    355\u001b[0m         parse_int \u001b[38;5;129;01mis\u001b[39;00m \u001b[38;5;28;01mNone\u001b[39;00m \u001b[38;5;129;01mand\u001b[39;00m parse_float \u001b[38;5;129;01mis\u001b[39;00m \u001b[38;5;28;01mNone\u001b[39;00m \u001b[38;5;129;01mand\u001b[39;00m\n\u001b[1;32m    356\u001b[0m         parse_constant \u001b[38;5;129;01mis\u001b[39;00m \u001b[38;5;28;01mNone\u001b[39;00m \u001b[38;5;129;01mand\u001b[39;00m object_pairs_hook \u001b[38;5;129;01mis\u001b[39;00m \u001b[38;5;28;01mNone\u001b[39;00m \u001b[38;5;129;01mand\u001b[39;00m \u001b[38;5;129;01mnot\u001b[39;00m kw):\n\u001b[0;32m--> 357\u001b[0m     \u001b[38;5;28;01mreturn\u001b[39;00m \u001b[43m_default_decoder\u001b[49m\u001b[38;5;241;43m.\u001b[39;49m\u001b[43mdecode\u001b[49m\u001b[43m(\u001b[49m\u001b[43ms\u001b[49m\u001b[43m)\u001b[49m\n\u001b[1;32m    358\u001b[0m \u001b[38;5;28;01mif\u001b[39;00m \u001b[38;5;28mcls\u001b[39m \u001b[38;5;129;01mis\u001b[39;00m \u001b[38;5;28;01mNone\u001b[39;00m:\n\u001b[1;32m    359\u001b[0m     \u001b[38;5;28mcls\u001b[39m \u001b[38;5;241m=\u001b[39m JSONDecoder\n",
      "File \u001b[0;32m/usr/lib/python3.8/json/decoder.py:340\u001b[0m, in \u001b[0;36mJSONDecoder.decode\u001b[0;34m(self, s, _w)\u001b[0m\n\u001b[1;32m    338\u001b[0m end \u001b[38;5;241m=\u001b[39m _w(s, end)\u001b[38;5;241m.\u001b[39mend()\n\u001b[1;32m    339\u001b[0m \u001b[38;5;28;01mif\u001b[39;00m end \u001b[38;5;241m!=\u001b[39m \u001b[38;5;28mlen\u001b[39m(s):\n\u001b[0;32m--> 340\u001b[0m     \u001b[38;5;28;01mraise\u001b[39;00m JSONDecodeError(\u001b[38;5;124m\"\u001b[39m\u001b[38;5;124mExtra data\u001b[39m\u001b[38;5;124m\"\u001b[39m, s, end)\n\u001b[1;32m    341\u001b[0m \u001b[38;5;28;01mreturn\u001b[39;00m obj\n",
      "\u001b[0;31mJSONDecodeError\u001b[0m: Extra data: line 480341 column 6 (char 14579247)"
     ]
    },
    {
     "data": {
      "text/plain": [
       "<Figure size 860x540 with 0 Axes>"
      ]
     },
     "metadata": {},
     "output_type": "display_data"
    }
   ],
   "source": [
    "import os\n",
    "import subprocess\n",
    "import json\n",
    "import numpy as np\n",
    "import matplotlib.pyplot as pl\n",
    "import tkinter as tk #to import file\n",
    "from tkinter import filedialog #to open import dialog\n",
    "\n",
    "def print_info(file):\n",
    "    command = f\"ffprobe -v error -select_streams v:0 -show_entries format:stream -print_format json {file}\"\n",
    "    cout = subprocess.run(command.split(), stdout=subprocess.PIPE, stderr=subprocess.STDOUT).stdout\n",
    "    jout = json.loads(cout)\n",
    "    print(jout)\n",
    "            \n",
    "def get_bitrate(file):\n",
    "    command = f\"ffprobe -v error -select_streams v:0 -show_entries format:stream -print_format json {file}\"\n",
    "    cout = subprocess.run(command.split(), stdout=subprocess.PIPE, stderr=subprocess.STDOUT).stdout\n",
    "    jout = json.loads(cout)  # Convert data from JSON string to dictionary\n",
    "    return int(jout[\"format\"][\"bit_rate\"])\n",
    "\n",
    "def get_vmaf(dist,ref):\n",
    "    c_vmaf = f\"ffmpeg -i {ref} -i {dist} -hide_banner -loglevel error\\\n",
    "            -lavfi \\\"[0:v]setpts=PTS-STARTPTS[ref];\\\n",
    "                    [1:v]scale={res[0]}x{res[1]}:flags=bicubic,setpts=PTS-STARTPTS[dist];\\\n",
    "                    [dist][ref]libvmaf=feature=name=psnr:log_path=config/vmaf_logs.json:log_fmt=json\\\" \\\n",
    "            -f null -\" #|name=float_ssim|name=float_ms_ssim to compute the other metrics\n",
    "    subprocess.call(c_vmaf, shell=True)\n",
    "    print(\"-assessed= \" + dist)\n",
    "    with open(\"config/vmaf_logs.json\", 'r') as r: #extract quality and rate values\n",
    "        i_data = json.load(r)\n",
    "    return i_data[\"pooled_metrics\"][\"vmaf\"][\"mean\"]\n",
    "    \n",
    "def scale():\n",
    "    c_seq = \"ffmpeg -i test_vids/srcRAW_FullHD/rush_field_cuts_1080p.y4m \\\n",
    "        -filter:v scale=480x270 test_vids/srcRAW_SD/rush_field_cuts_SDp.y4m\"\n",
    "    subprocess.call(c_seq, shell=True)\n",
    "    \n",
    "def open_file():\n",
    "    root = tk.Tk()\n",
    "    root.withdraw()\n",
    "    f = os.path.relpath(filedialog.askopenfilename())\n",
    "    #file_name = os.path.basename(source_path).split('.')[0]\n",
    "    return f\n",
    "\n",
    "res = [1920,1080]\n",
    "#file = \"tests_vids/OPT_vids/rush_fiel_vmaf90fx_AVC.mp4\"\n",
    "#file=\"tests_vids/OPT_vids/rush_fiel_rate1000000fx_AVC.mp4\"\n",
    "f_ref = \"tests_vids/srcRAW_FullHD/SVT/mux_fullmix_50.y4m\"\n",
    "f_dist = \"full_50\"\n",
    "#print(get_bitrate(file))\n",
    "#print(get_vmaf(file,f_ref,res))\n",
    "#print_info(\"tests_vids/OPT_vids/fx_rate/rush_fiel_rate1000000fx_AVC.mp4\")\n",
    "plot = {\"PLOT\": True, \"FX\": True, \"BF\": False, \"LG\": True, \"CF\": True, \"TARGET\": \"rate\"}\n",
    "\n",
    "if plot[\"PLOT\"]:\n",
    "    my_dpi = 96\n",
    "    pl.figure(figsize=(860/my_dpi, 540/my_dpi), dpi=my_dpi)\n",
    "\n",
    "    if plot[\"FX\"]:\n",
    "        folder = \"tests_vids/OPT_vids/\"+f_dist+\"/fx_\"+plot[\"TARGET\"]+\"/\"\n",
    "        rate = np.zeros(len(os.listdir(folder)))\n",
    "        dist = np.zeros(len(os.listdir(folder)))\n",
    "        i = 0\n",
    "        for vid in sorted(os.listdir(folder)):\n",
    "            rate[i] = get_bitrate(folder + vid)\n",
    "            dist[i] = get_vmaf(folder + vid,f_ref)\n",
    "            i += 1\n",
    "        print(rate)\n",
    "        print(dist)\n",
    "        pl.plot(rate/1000, dist, '-b', label=\"Fixed CRF\")\n",
    "\n",
    "    if plot[\"BF\"]:\n",
    "        folder = \"tests_vids/OPT_vids/\"+f_dist+\"/bf_\"+plot[\"TARGET\"]+\"/\"\n",
    "        rate = np.zeros(len(os.listdir(folder)))\n",
    "        dist = np.zeros(len(os.listdir(folder)))\n",
    "        i = 0\n",
    "        for vid in sorted(os.listdir(folder)):\n",
    "            rate[i] = get_bitrate(folder + vid)\n",
    "            dist[i] = get_vmaf(folder + vid,f_ref)\n",
    "            i += 1\n",
    "        print(rate)\n",
    "        print(dist)\n",
    "        pl.plot(rate/1000, dist, '-g', label=\"OPT bf\")\n",
    "\n",
    "    if plot[\"LG\"]:\n",
    "        folder = \"tests_vids/OPT_vids/\"+f_dist+\"/lg_\"+plot[\"TARGET\"]+\"/\"\n",
    "        rate = np.zeros(len(os.listdir(folder)))\n",
    "        dist = np.zeros(len(os.listdir(folder)))\n",
    "        i = 0\n",
    "        for vid in sorted(os.listdir(folder)):\n",
    "            rate[i] = get_bitrate(folder + vid)\n",
    "            dist[i] = get_vmaf(folder + vid,f_ref)\n",
    "            i += 1\n",
    "        print(rate)\n",
    "        print(dist)\n",
    "        pl.plot(rate/1000, dist, '-c', label=\"OPT lg\")\n",
    "\n",
    "    if plot[\"CF\"]:\n",
    "        folder = \"tests_vids/OPT_vids/\"+f_dist+\"/cf_\"+plot[\"TARGET\"]+\"/\"\n",
    "        rate = np.zeros(len(os.listdir(folder)))\n",
    "        dist = np.zeros(len(os.listdir(folder)))\n",
    "        i = 0\n",
    "        for vid in sorted(os.listdir(folder)):\n",
    "            rate[i] = get_bitrate(folder + vid)\n",
    "            dist[i] = get_vmaf(folder + vid,f_ref)\n",
    "            i += 1\n",
    "        print(rate)\n",
    "        print(dist)\n",
    "        pl.plot(rate/1000, dist, '-r', label=\"OPT cf\")\n",
    "\n",
    "    pl.grid(True)\n",
    "    pl.title(\"RQ \\\"full_50\\\" - 1080p AVC\")\n",
    "    pl.ylabel(\"Quality (VMAF)\")\n",
    "    pl.xlabel(\"Bitrate (Kbit/s)\")\n",
    "    pl.legend(loc=\"lower right\")\n",
    "    pl.figure()\n"
   ]
  },
  {
   "cell_type": "code",
   "execution_count": 679,
   "id": "7ec40bfb",
   "metadata": {},
   "outputs": [
    {
     "name": "stdout",
     "output_type": "stream",
     "text": [
      "0.16000000000000006\n"
     ]
    }
   ],
   "source": [
    "rng = np.array([1,2,1,1,1])\n",
    "print(np.var(rng))"
   ]
  },
  {
   "cell_type": "code",
   "execution_count": null,
   "id": "93559d1a",
   "metadata": {},
   "outputs": [],
   "source": []
  }
 ],
 "metadata": {
  "kernelspec": {
   "display_name": "Python 3 (ipykernel)",
   "language": "python",
   "name": "python3"
  },
  "language_info": {
   "codemirror_mode": {
    "name": "ipython",
    "version": 3
   },
   "file_extension": ".py",
   "mimetype": "text/x-python",
   "name": "python",
   "nbconvert_exporter": "python",
   "pygments_lexer": "ipython3",
   "version": "3.8.10"
  }
 },
 "nbformat": 4,
 "nbformat_minor": 5
}
